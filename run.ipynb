{
 "cells": [
  {
   "cell_type": "markdown",
   "id": "fa611bba",
   "metadata": {
    "papermill": {
     "duration": 0.015848,
     "end_time": "2023-12-18T22:00:00.686945",
     "exception": false,
     "start_time": "2023-12-18T22:00:00.671097",
     "status": "completed"
    },
    "tags": []
   },
   "source": [
    "# Project 3. InfoExplorers."
   ]
  },
  {
   "cell_type": "code",
   "execution_count": 1,
   "id": "bf004a49",
   "metadata": {
    "execution": {
     "iopub.execute_input": "2023-12-18T22:00:00.719011Z",
     "iopub.status.busy": "2023-12-18T22:00:00.718238Z",
     "iopub.status.idle": "2023-12-18T22:00:02.266188Z",
     "shell.execute_reply": "2023-12-18T22:00:02.263973Z"
    },
    "papermill": {
     "duration": 1.566809,
     "end_time": "2023-12-18T22:00:02.269468",
     "exception": false,
     "start_time": "2023-12-18T22:00:00.702659",
     "status": "completed"
    },
    "tags": [],
    "ExecuteTime": {
     "end_time": "2024-02-13T12:25:08.051486800Z",
     "start_time": "2024-02-13T12:25:06.653948Z"
    }
   },
   "outputs": [],
   "source": [
    "import numpy as np\n",
    "import pandas as pd\n",
    "import matplotlib.pyplot as plt\n",
    "import pickle\n",
    "import os\n",
    "from tqdm import tqdm\n",
    "from tqdm.auto import tqdm\n",
    "import networkx as nx\n",
    "import heapq\n",
    "import random\n",
    "import warnings \n",
    "import re"
   ]
  },
  {
   "cell_type": "markdown",
   "id": "29f9fe55",
   "metadata": {
    "papermill": {
     "duration": 0.018158,
     "end_time": "2023-12-18T22:00:02.303389",
     "exception": false,
     "start_time": "2023-12-18T22:00:02.285231",
     "status": "completed"
    },
    "tags": []
   },
   "source": [
    "## Data loading"
   ]
  },
  {
   "cell_type": "code",
   "execution_count": 2,
   "id": "64b8573f",
   "metadata": {
    "ExecuteTime": {
     "end_time": "2023-12-18T18:41:50.854738500Z",
     "start_time": "2023-12-18T18:41:50.844213900Z"
    },
    "collapsed": false,
    "execution": {
     "iopub.execute_input": "2023-12-18T22:00:02.338563Z",
     "iopub.status.busy": "2023-12-18T22:00:02.337678Z",
     "iopub.status.idle": "2023-12-18T22:00:02.344272Z",
     "shell.execute_reply": "2023-12-18T22:00:02.343105Z"
    },
    "papermill": {
     "duration": 0.026374,
     "end_time": "2023-12-18T22:00:02.346493",
     "exception": false,
     "start_time": "2023-12-18T22:00:02.320119",
     "status": "completed"
    },
    "tags": []
   },
   "outputs": [],
   "source": [
    "# Constant paths\n",
    "DATA_FOLDER = '/kaggle/input/dis-project-3-named-entity-disambiguation/'\n",
    "PICKLES_FOLDER = '/kaggle/input/project-3-precomputed/'\n",
    "WIKILITE_FOLDER = DATA_FOLDER + 'wiki_lite/'"
   ]
  },
  {
   "cell_type": "code",
   "execution_count": 3,
   "id": "40c4c247",
   "metadata": {
    "ExecuteTime": {
     "end_time": "2023-12-18T18:41:54.939652900Z",
     "start_time": "2023-12-18T18:41:50.851229Z"
    },
    "collapsed": false,
    "execution": {
     "iopub.execute_input": "2023-12-18T22:00:02.377689Z",
     "iopub.status.busy": "2023-12-18T22:00:02.376626Z",
     "iopub.status.idle": "2023-12-18T22:00:50.150678Z",
     "shell.execute_reply": "2023-12-18T22:00:50.149051Z"
    },
    "papermill": {
     "duration": 47.792994,
     "end_time": "2023-12-18T22:00:50.153767",
     "exception": false,
     "start_time": "2023-12-18T22:00:02.360773",
     "status": "completed"
    },
    "tags": []
   },
   "outputs": [],
   "source": [
    "train_df = pd.read_csv(DATA_FOLDER + 'train.csv')\n",
    "test_df = pd.read_csv(DATA_FOLDER + 'test.csv')\n",
    "\n",
    "enwinki_redirects = pd.read_csv(WIKILITE_FOLDER + 'enwiki_redirects.tsv', names=['en_title', 'en_redirect_title'], sep='\\t')\n",
    "item_aliases = pd.read_csv(WIKILITE_FOLDER + 'item_aliases.csv')\n",
    "properties = pd.read_csv(WIKILITE_FOLDER + 'property.csv')\n",
    "statements = pd.read_csv(WIKILITE_FOLDER + 'statements.csv')\n",
    "wiki_items = pd.read_csv(WIKILITE_FOLDER + 'wiki_items.csv')"
   ]
  },
  {
   "cell_type": "markdown",
   "id": "511f1ac8",
   "metadata": {
    "papermill": {
     "duration": 0.015123,
     "end_time": "2023-12-18T22:00:50.183709",
     "exception": false,
     "start_time": "2023-12-18T22:00:50.168586",
     "status": "completed"
    },
    "tags": []
   },
   "source": [
    "## Part 1: Using existing datasets"
   ]
  },
  {
   "cell_type": "markdown",
   "id": "0808d5fa",
   "metadata": {
    "papermill": {
     "duration": 0.013819,
     "end_time": "2023-12-18T22:00:50.212796",
     "exception": false,
     "start_time": "2023-12-18T22:00:50.198977",
     "status": "completed"
    },
    "tags": []
   },
   "source": [
    "### Data preprocessing"
   ]
  },
  {
   "cell_type": "markdown",
   "id": "291156c7",
   "metadata": {
    "papermill": {
     "duration": 0.015163,
     "end_time": "2023-12-18T22:00:50.241815",
     "exception": false,
     "start_time": "2023-12-18T22:00:50.226652",
     "status": "completed"
    },
    "tags": []
   },
   "source": [
    "Merging `item_aliases` and `wiki_items` on `item_id` to get the `wikipedia_title` for each `en_alias`:"
   ]
  },
  {
   "cell_type": "code",
   "execution_count": 4,
   "id": "af15aaa3",
   "metadata": {
    "ExecuteTime": {
     "end_time": "2023-12-18T18:41:56.550729500Z",
     "start_time": "2023-12-18T18:41:54.962978200Z"
    },
    "collapsed": false,
    "execution": {
     "iopub.execute_input": "2023-12-18T22:00:50.274340Z",
     "iopub.status.busy": "2023-12-18T22:00:50.273887Z",
     "iopub.status.idle": "2023-12-18T22:00:53.369503Z",
     "shell.execute_reply": "2023-12-18T22:00:53.367746Z"
    },
    "papermill": {
     "duration": 3.114374,
     "end_time": "2023-12-18T22:00:53.372023",
     "exception": false,
     "start_time": "2023-12-18T22:00:50.257649",
     "status": "completed"
    },
    "tags": []
   },
   "outputs": [
    {
     "data": {
      "text/html": [
       "<div>\n",
       "<style scoped>\n",
       "    .dataframe tbody tr th:only-of-type {\n",
       "        vertical-align: middle;\n",
       "    }\n",
       "\n",
       "    .dataframe tbody tr th {\n",
       "        vertical-align: top;\n",
       "    }\n",
       "\n",
       "    .dataframe thead th {\n",
       "        text-align: right;\n",
       "    }\n",
       "</style>\n",
       "<table border=\"1\" class=\"dataframe\">\n",
       "  <thead>\n",
       "    <tr style=\"text-align: right;\">\n",
       "      <th></th>\n",
       "      <th>item_id</th>\n",
       "      <th>en_label</th>\n",
       "      <th>en_description</th>\n",
       "      <th>wikipedia_title</th>\n",
       "      <th>en_alias</th>\n",
       "    </tr>\n",
       "  </thead>\n",
       "  <tbody>\n",
       "    <tr>\n",
       "      <th>0</th>\n",
       "      <td>1</td>\n",
       "      <td>Universe</td>\n",
       "      <td>totality of space and all contents</td>\n",
       "      <td>Universe</td>\n",
       "      <td>Our Universe</td>\n",
       "    </tr>\n",
       "    <tr>\n",
       "      <th>1</th>\n",
       "      <td>1</td>\n",
       "      <td>Universe</td>\n",
       "      <td>totality of space and all contents</td>\n",
       "      <td>Universe</td>\n",
       "      <td>The Universe</td>\n",
       "    </tr>\n",
       "    <tr>\n",
       "      <th>2</th>\n",
       "      <td>1</td>\n",
       "      <td>Universe</td>\n",
       "      <td>totality of space and all contents</td>\n",
       "      <td>Universe</td>\n",
       "      <td>The Cosmos</td>\n",
       "    </tr>\n",
       "    <tr>\n",
       "      <th>3</th>\n",
       "      <td>1</td>\n",
       "      <td>Universe</td>\n",
       "      <td>totality of space and all contents</td>\n",
       "      <td>Universe</td>\n",
       "      <td>cosmos</td>\n",
       "    </tr>\n",
       "    <tr>\n",
       "      <th>4</th>\n",
       "      <td>2</td>\n",
       "      <td>Earth</td>\n",
       "      <td>third planet from the Sun in the Solar System</td>\n",
       "      <td>Earth</td>\n",
       "      <td>Blue Planet</td>\n",
       "    </tr>\n",
       "  </tbody>\n",
       "</table>\n",
       "</div>"
      ],
      "text/plain": [
       "   item_id  en_label                                 en_description  \\\n",
       "0        1  Universe             totality of space and all contents   \n",
       "1        1  Universe             totality of space and all contents   \n",
       "2        1  Universe             totality of space and all contents   \n",
       "3        1  Universe             totality of space and all contents   \n",
       "4        2     Earth  third planet from the Sun in the Solar System   \n",
       "\n",
       "  wikipedia_title      en_alias  \n",
       "0        Universe  Our Universe  \n",
       "1        Universe  The Universe  \n",
       "2        Universe    The Cosmos  \n",
       "3        Universe        cosmos  \n",
       "4           Earth   Blue Planet  "
      ]
     },
     "execution_count": 4,
     "metadata": {},
     "output_type": "execute_result"
    }
   ],
   "source": [
    "merged_wiki_items = wiki_items.merge(item_aliases, how='left', on='item_id')\n",
    "merged_wiki_items.head()"
   ]
  },
  {
   "cell_type": "code",
   "execution_count": 5,
   "id": "356d4476",
   "metadata": {
    "ExecuteTime": {
     "end_time": "2023-12-18T18:41:56.564758600Z",
     "start_time": "2023-12-18T18:41:56.552797200Z"
    },
    "collapsed": false,
    "execution": {
     "iopub.execute_input": "2023-12-18T22:00:53.494901Z",
     "iopub.status.busy": "2023-12-18T22:00:53.493727Z",
     "iopub.status.idle": "2023-12-18T22:00:53.512482Z",
     "shell.execute_reply": "2023-12-18T22:00:53.509960Z"
    },
    "papermill": {
     "duration": 0.129006,
     "end_time": "2023-12-18T22:00:53.515693",
     "exception": false,
     "start_time": "2023-12-18T22:00:53.386687",
     "status": "completed"
    },
    "tags": []
   },
   "outputs": [],
   "source": [
    "# Copying the dataframes to modify them\n",
    "test_df_mod = test_df.copy(deep=True)\n",
    "train_df_mod = train_df.copy(deep=True)"
   ]
  },
  {
   "cell_type": "code",
   "execution_count": 6,
   "id": "1a979df8",
   "metadata": {
    "ExecuteTime": {
     "end_time": "2023-12-18T18:41:56.597167700Z",
     "start_time": "2023-12-18T18:41:56.567016200Z"
    },
    "collapsed": false,
    "execution": {
     "iopub.execute_input": "2023-12-18T22:00:53.548469Z",
     "iopub.status.busy": "2023-12-18T22:00:53.547616Z",
     "iopub.status.idle": "2023-12-18T22:00:53.552700Z",
     "shell.execute_reply": "2023-12-18T22:00:53.551718Z"
    },
    "papermill": {
     "duration": 0.024698,
     "end_time": "2023-12-18T22:00:53.555053",
     "exception": false,
     "start_time": "2023-12-18T22:00:53.530355",
     "status": "completed"
    },
    "tags": []
   },
   "outputs": [],
   "source": [
    "# Beginning of the URL to wikipedia\n",
    "URL = 'http://en.wikipedia.org/wiki/'\n",
    "LEN_URL = len(URL)"
   ]
  },
  {
   "cell_type": "code",
   "execution_count": 7,
   "id": "a8bfbe10",
   "metadata": {
    "ExecuteTime": {
     "end_time": "2023-12-18T18:41:56.664056600Z",
     "start_time": "2023-12-18T18:41:56.571070200Z"
    },
    "collapsed": false,
    "execution": {
     "iopub.execute_input": "2023-12-18T22:00:53.587047Z",
     "iopub.status.busy": "2023-12-18T22:00:53.586591Z",
     "iopub.status.idle": "2023-12-18T22:00:53.643867Z",
     "shell.execute_reply": "2023-12-18T22:00:53.642833Z"
    },
    "papermill": {
     "duration": 0.076497,
     "end_time": "2023-12-18T22:00:53.646643",
     "exception": false,
     "start_time": "2023-12-18T22:00:53.570146",
     "status": "completed"
    },
    "tags": []
   },
   "outputs": [],
   "source": [
    "# We need to lowercase the tokens to avoid problems with case in future steps\n",
    "train_df_mod['full_mention_lower'] = train_df_mod['full_mention'].str.lower()\n",
    "\n",
    "# We only keep the tokens that have a wiki_url\n",
    "train_df_mod = train_df_mod[train_df_mod['wiki_url'].notnull() & (train_df_mod['wiki_url'] != '--NME--')]\n",
    "\n",
    "# We also lowercase the tokens in the test data for future steps\n",
    "test_df_mod['full_mention'] = test_df_mod['full_mention'].str.lower()"
   ]
  },
  {
   "cell_type": "markdown",
   "id": "bd67beb4",
   "metadata": {
    "papermill": {
     "duration": 0.01444,
     "end_time": "2023-12-18T22:00:53.676089",
     "exception": false,
     "start_time": "2023-12-18T22:00:53.661649",
     "status": "completed"
    },
    "tags": []
   },
   "source": [
    "We transform:\n",
    "- `en_alias` and `wikipedia_title` in `merged_wiki_items`\n",
    "- `wikipedia_title` in `wiki_items`\n",
    "- `en_title` in `redirects`\n",
    "\n",
    "to lowercase to avoid problems with case in future steps"
   ]
  },
  {
   "cell_type": "code",
   "execution_count": 8,
   "id": "6b281934",
   "metadata": {
    "ExecuteTime": {
     "end_time": "2023-12-18T18:42:00.305238500Z",
     "start_time": "2023-12-18T18:41:56.609567400Z"
    },
    "collapsed": false,
    "execution": {
     "iopub.execute_input": "2023-12-18T22:00:53.708602Z",
     "iopub.status.busy": "2023-12-18T22:00:53.708121Z",
     "iopub.status.idle": "2023-12-18T22:00:59.207111Z",
     "shell.execute_reply": "2023-12-18T22:00:59.204863Z"
    },
    "papermill": {
     "duration": 5.519357,
     "end_time": "2023-12-18T22:00:59.210687",
     "exception": false,
     "start_time": "2023-12-18T22:00:53.691330",
     "status": "completed"
    },
    "tags": []
   },
   "outputs": [],
   "source": [
    "merged_wiki_items['en_alias_lower'] = merged_wiki_items['en_alias'].str.lower()\n",
    "merged_wiki_items['wikipedia_title_lower'] = merged_wiki_items['wikipedia_title'].str.lower()\n",
    "\n",
    "wiki_items['wikipedia_title_lower'] = wiki_items['wikipedia_title'].str.lower()\n",
    "\n",
    "enwinki_redirects['en_title_lower'] = enwinki_redirects['en_title'].str.lower()"
   ]
  },
  {
   "cell_type": "markdown",
   "id": "bc63642c",
   "metadata": {
    "papermill": {
     "duration": 0.014344,
     "end_time": "2023-12-18T22:00:59.241148",
     "exception": false,
     "start_time": "2023-12-18T22:00:59.226804",
     "status": "completed"
    },
    "tags": []
   },
   "source": [
    "### Creating dictionaries for faster lookup"
   ]
  },
  {
   "cell_type": "code",
   "execution_count": 9,
   "id": "6bdda9f4",
   "metadata": {
    "ExecuteTime": {
     "end_time": "2023-12-18T18:42:00.316200Z",
     "start_time": "2023-12-18T18:42:00.306254700Z"
    },
    "collapsed": false,
    "execution": {
     "iopub.execute_input": "2023-12-18T22:00:59.272818Z",
     "iopub.status.busy": "2023-12-18T22:00:59.272462Z",
     "iopub.status.idle": "2023-12-18T22:00:59.279345Z",
     "shell.execute_reply": "2023-12-18T22:00:59.277397Z"
    },
    "papermill": {
     "duration": 0.026782,
     "end_time": "2023-12-18T22:00:59.282318",
     "exception": false,
     "start_time": "2023-12-18T22:00:59.255536",
     "status": "completed"
    },
    "tags": []
   },
   "outputs": [],
   "source": [
    "DICT_FOLDER = PICKLES_FOLDER + 'dictionaries/'"
   ]
  },
  {
   "cell_type": "code",
   "execution_count": 10,
   "id": "68fa7461",
   "metadata": {
    "ExecuteTime": {
     "end_time": "2023-12-18T18:42:02.147568600Z",
     "start_time": "2023-12-18T18:42:00.313161700Z"
    },
    "collapsed": false,
    "execution": {
     "iopub.execute_input": "2023-12-18T22:00:59.313389Z",
     "iopub.status.busy": "2023-12-18T22:00:59.313014Z",
     "iopub.status.idle": "2023-12-18T22:01:03.359332Z",
     "shell.execute_reply": "2023-12-18T22:01:03.357479Z"
    },
    "papermill": {
     "duration": 4.065301,
     "end_time": "2023-12-18T22:01:03.362319",
     "exception": false,
     "start_time": "2023-12-18T22:00:59.297018",
     "status": "completed"
    },
    "tags": []
   },
   "outputs": [],
   "source": [
    "try:\n",
    "    aliases_dict = pickle.load(open(DICT_FOLDER + 'aliases_dict.pkl', 'rb'))\n",
    "except:\n",
    "    aliases = merged_wiki_items[['en_alias_lower', 'wikipedia_title']].groupby(['en_alias_lower']).agg(lambda x: x.tolist())\n",
    "    aliases_dict = pd.Series(aliases['wikipedia_title'].values, index=aliases.index).to_dict()"
   ]
  },
  {
   "cell_type": "code",
   "execution_count": 11,
   "id": "1e921483",
   "metadata": {
    "ExecuteTime": {
     "end_time": "2023-12-18T18:42:08.580750600Z",
     "start_time": "2023-12-18T18:42:02.148568600Z"
    },
    "collapsed": false,
    "execution": {
     "iopub.execute_input": "2023-12-18T22:01:03.394587Z",
     "iopub.status.busy": "2023-12-18T22:01:03.394162Z",
     "iopub.status.idle": "2023-12-18T22:01:15.182483Z",
     "shell.execute_reply": "2023-12-18T22:01:15.180444Z"
    },
    "papermill": {
     "duration": 11.808831,
     "end_time": "2023-12-18T22:01:15.185759",
     "exception": false,
     "start_time": "2023-12-18T22:01:03.376928",
     "status": "completed"
    },
    "tags": []
   },
   "outputs": [],
   "source": [
    "try:\n",
    "    titles_dict = pickle.load(open(DICT_FOLDER + 'titles_dict.pkl', 'rb'))\n",
    "except:\n",
    "    titles = wiki_items[['wikipedia_title_lower', 'wikipedia_title']].groupby(['wikipedia_title_lower']).agg(lambda x: x.tolist())\n",
    "    titles_dict = pd.Series(titles['wikipedia_title'].values, index=titles.index).to_dict()"
   ]
  },
  {
   "cell_type": "code",
   "execution_count": 12,
   "id": "b3e45596",
   "metadata": {
    "ExecuteTime": {
     "end_time": "2023-12-18T18:42:08.590307200Z",
     "start_time": "2023-12-18T18:42:08.580750600Z"
    },
    "collapsed": false,
    "execution": {
     "iopub.execute_input": "2023-12-18T22:01:15.217323Z",
     "iopub.status.busy": "2023-12-18T22:01:15.216937Z",
     "iopub.status.idle": "2023-12-18T22:01:15.244092Z",
     "shell.execute_reply": "2023-12-18T22:01:15.241787Z"
    },
    "papermill": {
     "duration": 0.046484,
     "end_time": "2023-12-18T22:01:15.247289",
     "exception": false,
     "start_time": "2023-12-18T22:01:15.200805",
     "status": "completed"
    },
    "tags": []
   },
   "outputs": [],
   "source": [
    "train_dict = pd.Series(train_df_mod['wiki_url'].values, index=train_df_mod['full_mention_lower']).to_dict()"
   ]
  },
  {
   "cell_type": "code",
   "execution_count": 13,
   "id": "e43978d4",
   "metadata": {
    "ExecuteTime": {
     "end_time": "2023-12-18T18:42:12.475293400Z",
     "start_time": "2023-12-18T18:42:08.584308600Z"
    },
    "collapsed": false,
    "execution": {
     "iopub.execute_input": "2023-12-18T22:01:15.280793Z",
     "iopub.status.busy": "2023-12-18T22:01:15.280323Z",
     "iopub.status.idle": "2023-12-18T22:01:24.249136Z",
     "shell.execute_reply": "2023-12-18T22:01:24.247907Z"
    },
    "papermill": {
     "duration": 8.990059,
     "end_time": "2023-12-18T22:01:24.252360",
     "exception": false,
     "start_time": "2023-12-18T22:01:15.262301",
     "status": "completed"
    },
    "tags": []
   },
   "outputs": [],
   "source": [
    "try:\n",
    "    redirects_dict = pickle.load(open(DICT_FOLDER + 'redirects_dict.pkl', 'rb'))\n",
    "except:\n",
    "    redirects_dict = pd.Series(enwinki_redirects['en_redirect_title'].values,\n",
    "                               index=enwinki_redirects['en_title_lower']).to_dict()"
   ]
  },
  {
   "cell_type": "code",
   "execution_count": 14,
   "id": "191bcd78",
   "metadata": {
    "ExecuteTime": {
     "end_time": "2023-12-18T18:42:16.520513200Z",
     "start_time": "2023-12-18T18:42:12.482811600Z"
    },
    "collapsed": false,
    "execution": {
     "iopub.execute_input": "2023-12-18T22:01:24.286232Z",
     "iopub.status.busy": "2023-12-18T22:01:24.285599Z",
     "iopub.status.idle": "2023-12-18T22:01:30.806584Z",
     "shell.execute_reply": "2023-12-18T22:01:30.804940Z"
    },
    "papermill": {
     "duration": 6.541683,
     "end_time": "2023-12-18T22:01:30.809132",
     "exception": false,
     "start_time": "2023-12-18T22:01:24.267449",
     "status": "completed"
    },
    "tags": []
   },
   "outputs": [
    {
     "data": {
      "application/vnd.jupyter.widget-view+json": {
       "model_id": "1f6f92700131422e9da8069ec4ea6a9a",
       "version_major": 2,
       "version_minor": 0
      },
      "text/plain": [
       "  0%|          | 0/104890 [00:00<?, ?it/s]"
      ]
     },
     "metadata": {},
     "output_type": "display_data"
    }
   ],
   "source": [
    "# We want to keep the count of the number of matches we find with aliases and redirects\n",
    "aliases_matching = 0\n",
    "redirects_matching = 0\n",
    "\n",
    "for index, row in tqdm(test_df_mod.iterrows(), total=test_df_mod.shape[0]):\n",
    "    if str(row['wiki_url']) == 'nan' or row['wiki_url'] != '?':\n",
    "        continue\n",
    "\n",
    "    token = row['full_mention']\n",
    "    train_url = train_dict.get(token)\n",
    "\n",
    "    if train_url is not None:\n",
    "        # We found a link in the train data and it is the true identity so we can use it\n",
    "        test_df_mod.at[index, 'wiki_url'] = train_url\n",
    "        continue\n",
    "\n",
    "    else:\n",
    "        wiki_title = None\n",
    "        \n",
    "        wiki_titles = titles_dict.get(token)\n",
    "\n",
    "        if wiki_titles is not None:\n",
    "            if len(wiki_titles) == 1:\n",
    "                wiki_title = wiki_titles[0]\n",
    "                aliases_matching += 1\n",
    "\n",
    "        else:\n",
    "            wiki_titles = aliases_dict.get(token)\n",
    "\n",
    "            if wiki_titles is not None:\n",
    "                if len(wiki_titles) == 1:\n",
    "                    wiki_title = wiki_titles[0]\n",
    "                    aliases_matching += 1\n",
    "\n",
    "    if wiki_title is not None:\n",
    "        redirect_title = redirects_dict.get(wiki_title.lower())\n",
    "\n",
    "        if redirect_title is not None:\n",
    "            redirects_matching += 1\n",
    "            test_df_mod.at[index, 'wiki_url'] = URL + redirect_title.replace(' ', '_')\n",
    "\n",
    "        else:\n",
    "            test_df_mod.at[index, 'wiki_url'] = URL + wiki_title.replace(' ', '_')\n"
   ]
  },
  {
   "cell_type": "code",
   "execution_count": 15,
   "id": "b8c28fb8",
   "metadata": {
    "ExecuteTime": {
     "end_time": "2023-12-18T18:42:16.557434900Z",
     "start_time": "2023-12-18T18:42:16.525525400Z"
    },
    "collapsed": false,
    "execution": {
     "iopub.execute_input": "2023-12-18T22:01:30.840572Z",
     "iopub.status.busy": "2023-12-18T22:01:30.840111Z",
     "iopub.status.idle": "2023-12-18T22:01:30.849140Z",
     "shell.execute_reply": "2023-12-18T22:01:30.846347Z"
    },
    "papermill": {
     "duration": 0.028662,
     "end_time": "2023-12-18T22:01:30.852312",
     "exception": false,
     "start_time": "2023-12-18T22:01:30.823650",
     "status": "completed"
    },
    "tags": []
   },
   "outputs": [
    {
     "name": "stdout",
     "output_type": "stream",
     "text": [
      "We used 1919 entity aliases for matching urls\n"
     ]
    }
   ],
   "source": [
    "print(f\"We used {aliases_matching} entity aliases for matching urls\")"
   ]
  },
  {
   "cell_type": "code",
   "execution_count": 16,
   "id": "918db674",
   "metadata": {
    "ExecuteTime": {
     "end_time": "2023-12-18T18:42:16.557434900Z",
     "start_time": "2023-12-18T18:42:16.535190200Z"
    },
    "collapsed": false,
    "execution": {
     "iopub.execute_input": "2023-12-18T22:01:30.887283Z",
     "iopub.status.busy": "2023-12-18T22:01:30.886808Z",
     "iopub.status.idle": "2023-12-18T22:01:30.894495Z",
     "shell.execute_reply": "2023-12-18T22:01:30.892652Z"
    },
    "papermill": {
     "duration": 0.028624,
     "end_time": "2023-12-18T22:01:30.897241",
     "exception": false,
     "start_time": "2023-12-18T22:01:30.868617",
     "status": "completed"
    },
    "tags": []
   },
   "outputs": [
    {
     "name": "stdout",
     "output_type": "stream",
     "text": [
      "We used 380 link redirections for matching urls\n"
     ]
    }
   ],
   "source": [
    "print(f\"We used {redirects_matching} link redirections for matching urls\")"
   ]
  },
  {
   "cell_type": "markdown",
   "id": "c09a47ea",
   "metadata": {
    "papermill": {
     "duration": 0.0146,
     "end_time": "2023-12-18T22:01:30.926619",
     "exception": false,
     "start_time": "2023-12-18T22:01:30.912019",
     "status": "completed"
    },
    "tags": []
   },
   "source": [
    "Let's see how many tokens we found links for:"
   ]
  },
  {
   "cell_type": "code",
   "execution_count": 17,
   "id": "e807f695",
   "metadata": {
    "ExecuteTime": {
     "end_time": "2023-12-18T18:42:16.639305200Z",
     "start_time": "2023-12-18T18:42:16.544363700Z"
    },
    "collapsed": false,
    "execution": {
     "iopub.execute_input": "2023-12-18T22:01:30.960357Z",
     "iopub.status.busy": "2023-12-18T22:01:30.958651Z",
     "iopub.status.idle": "2023-12-18T22:01:30.976866Z",
     "shell.execute_reply": "2023-12-18T22:01:30.975866Z"
    },
    "papermill": {
     "duration": 0.037368,
     "end_time": "2023-12-18T22:01:30.979333",
     "exception": false,
     "start_time": "2023-12-18T22:01:30.941965",
     "status": "completed"
    },
    "tags": []
   },
   "outputs": [
    {
     "name": "stdout",
     "output_type": "stream",
     "text": [
      "Previously we had 9166 tokens without a link\n",
      "Now we have 735 tokens without a link\n"
     ]
    }
   ],
   "source": [
    "print(f\"Previously we had {test_df[test_df['wiki_url'] == '?']['wiki_url'].count()} tokens without a link\")\n",
    "print(f\"Now we have {test_df[test_df_mod['wiki_url'] == '?']['wiki_url'].count()} tokens without a link\")"
   ]
  },
  {
   "cell_type": "markdown",
   "id": "f50e3b1a",
   "metadata": {
    "papermill": {
     "duration": 0.015369,
     "end_time": "2023-12-18T22:01:31.010796",
     "exception": false,
     "start_time": "2023-12-18T22:01:30.995427",
     "status": "completed"
    },
    "tags": []
   },
   "source": [
    "### Sanitize First part result for second part"
   ]
  },
  {
   "cell_type": "code",
   "execution_count": 18,
   "id": "c460d993",
   "metadata": {
    "ExecuteTime": {
     "end_time": "2023-12-18T18:42:16.673185100Z",
     "start_time": "2023-12-18T18:42:16.567487400Z"
    },
    "collapsed": false,
    "execution": {
     "iopub.execute_input": "2023-12-18T22:01:31.042254Z",
     "iopub.status.busy": "2023-12-18T22:01:31.041768Z",
     "iopub.status.idle": "2023-12-18T22:01:31.135211Z",
     "shell.execute_reply": "2023-12-18T22:01:31.133748Z"
    },
    "papermill": {
     "duration": 0.112405,
     "end_time": "2023-12-18T22:01:31.137758",
     "exception": false,
     "start_time": "2023-12-18T22:01:31.025353",
     "status": "completed"
    },
    "tags": []
   },
   "outputs": [],
   "source": [
    "result_first_part = test_df_mod[['id', 'wiki_url']]\n",
    "result_first_part.loc[:, 'wiki_url'] = result_first_part['wiki_url'].apply(lambda x: 'NOT_FOUND' if not (str(x).startswith('http') or str(x) == '?') else x)\n"
   ]
  },
  {
   "cell_type": "markdown",
   "id": "3c4cf0e1",
   "metadata": {
    "papermill": {
     "duration": 0.01495,
     "end_time": "2023-12-18T22:01:31.168913",
     "exception": false,
     "start_time": "2023-12-18T22:01:31.153963",
     "status": "completed"
    },
    "tags": []
   },
   "source": [
    "If you want to submit only the first part, run the below code to create the necessary csv"
   ]
  },
  {
   "cell_type": "code",
   "execution_count": 19,
   "id": "91cf584b",
   "metadata": {
    "ExecuteTime": {
     "end_time": "2023-12-18T18:42:16.674194300Z",
     "start_time": "2023-12-18T18:42:16.621429100Z"
    },
    "collapsed": false,
    "execution": {
     "iopub.execute_input": "2023-12-18T22:01:31.203465Z",
     "iopub.status.busy": "2023-12-18T22:01:31.202998Z",
     "iopub.status.idle": "2023-12-18T22:01:31.209215Z",
     "shell.execute_reply": "2023-12-18T22:01:31.207497Z"
    },
    "papermill": {
     "duration": 0.027945,
     "end_time": "2023-12-18T22:01:31.212402",
     "exception": false,
     "start_time": "2023-12-18T22:01:31.184457",
     "status": "completed"
    },
    "tags": []
   },
   "outputs": [],
   "source": [
    "# result_first_part.loc[:, 'wiki_url'] = result_first_part['wiki_url'].apply(lambda x: 'NOT_FOUND' if not (str(x).startswith('http')) else x)\n",
    "# name = 'tr_title_alias_dict_redirects_url'\n",
    "# result_first_part.to_csv(SUBMISSIONS_FOLDER + name + '.csv', index=False)"
   ]
  },
  {
   "cell_type": "markdown",
   "id": "bd4649d1",
   "metadata": {
    "papermill": {
     "duration": 0.015394,
     "end_time": "2023-12-18T22:01:31.243583",
     "exception": false,
     "start_time": "2023-12-18T22:01:31.228189",
     "status": "completed"
    },
    "tags": []
   },
   "source": [
    "## Part 2: Knowledge Graph"
   ]
  },
  {
   "cell_type": "code",
   "execution_count": 20,
   "id": "2494905f",
   "metadata": {
    "ExecuteTime": {
     "end_time": "2023-12-18T18:42:16.734209600Z",
     "start_time": "2023-12-18T18:42:16.631496300Z"
    },
    "collapsed": false,
    "execution": {
     "iopub.execute_input": "2023-12-18T22:01:31.278145Z",
     "iopub.status.busy": "2023-12-18T22:01:31.277569Z",
     "iopub.status.idle": "2023-12-18T22:01:31.286458Z",
     "shell.execute_reply": "2023-12-18T22:01:31.284310Z"
    },
    "papermill": {
     "duration": 0.030831,
     "end_time": "2023-12-18T22:01:31.290104",
     "exception": false,
     "start_time": "2023-12-18T22:01:31.259273",
     "status": "completed"
    },
    "tags": []
   },
   "outputs": [],
   "source": [
    "def add_edges(G, connection, progress=True):\n",
    "    \"\"\"\n",
    "    Function adding the edges to the graph.\n",
    "    \n",
    "    Parameters\n",
    "    ----------\n",
    "    G: nx.Graph\n",
    "        Graph to which the edges are added.\n",
    "    connection: pd.DataFrame\n",
    "        DataFrame containing the connections between the wiki_items.\n",
    "    progress: bool, optional (default=True)\n",
    "        If True, a progress bar is shown.\n",
    "        \n",
    "    Returns\n",
    "    -------\n",
    "    G: nx.Graph\n",
    "        Graph with the added edges. \n",
    "    \"\"\"\n",
    "    \n",
    "    if progress:\n",
    "        for source_item_id, _, target_item_id in tqdm(connection.iloc, total=len(connection)):\n",
    "            G.add_edge(source_item_id, target_item_id)\n",
    "    else:\n",
    "        G = nx.from_pandas_edgelist(connection, 'source_item_id', 'target_item_id', create_using=nx.Graph)\n",
    "    return G"
   ]
  },
  {
   "cell_type": "code",
   "execution_count": 21,
   "id": "ad476822",
   "metadata": {
    "ExecuteTime": {
     "end_time": "2023-12-18T18:42:16.762517500Z",
     "start_time": "2023-12-18T18:42:16.639305200Z"
    },
    "collapsed": false,
    "execution": {
     "iopub.execute_input": "2023-12-18T22:01:31.325953Z",
     "iopub.status.busy": "2023-12-18T22:01:31.325175Z",
     "iopub.status.idle": "2023-12-18T22:01:31.329417Z",
     "shell.execute_reply": "2023-12-18T22:01:31.328638Z"
    },
    "papermill": {
     "duration": 0.025183,
     "end_time": "2023-12-18T22:01:31.331761",
     "exception": false,
     "start_time": "2023-12-18T22:01:31.306578",
     "status": "completed"
    },
    "tags": []
   },
   "outputs": [],
   "source": [
    "PICKLE_FILENAME = \"graph_undirected_full.pkl\""
   ]
  },
  {
   "cell_type": "code",
   "execution_count": 22,
   "id": "46e144cd",
   "metadata": {
    "ExecuteTime": {
     "end_time": "2023-12-18T18:42:37.362786700Z",
     "start_time": "2023-12-18T18:42:16.652782400Z"
    },
    "collapsed": false,
    "execution": {
     "iopub.execute_input": "2023-12-18T22:01:31.366039Z",
     "iopub.status.busy": "2023-12-18T22:01:31.365290Z",
     "iopub.status.idle": "2023-12-18T22:02:07.167233Z",
     "shell.execute_reply": "2023-12-18T22:02:07.165172Z"
    },
    "papermill": {
     "duration": 35.823169,
     "end_time": "2023-12-18T22:02:07.170585",
     "exception": false,
     "start_time": "2023-12-18T22:01:31.347416",
     "status": "completed"
    },
    "tags": []
   },
   "outputs": [],
   "source": [
    "try:\n",
    "    # Load the graph from the pickle file\n",
    "    with open(PICKLES_FOLDER + PICKLE_FILENAME, 'rb') as pickle_file:\n",
    "        G = pickle.load(pickle_file)\n",
    "except:\n",
    "    G = nx.Graph()  # Undirected Graph\n",
    "    G = add_edges(G, statements, progress=True)"
   ]
  },
  {
   "cell_type": "code",
   "execution_count": 23,
   "id": "1275f381",
   "metadata": {
    "ExecuteTime": {
     "end_time": "2023-12-18T18:42:39.280659700Z",
     "start_time": "2023-12-18T18:42:37.377712Z"
    },
    "collapsed": false,
    "execution": {
     "iopub.execute_input": "2023-12-18T22:02:07.204802Z",
     "iopub.status.busy": "2023-12-18T22:02:07.203217Z",
     "iopub.status.idle": "2023-12-18T22:02:09.829616Z",
     "shell.execute_reply": "2023-12-18T22:02:09.827653Z"
    },
    "papermill": {
     "duration": 2.646207,
     "end_time": "2023-12-18T22:02:09.832373",
     "exception": false,
     "start_time": "2023-12-18T22:02:07.186166",
     "status": "completed"
    },
    "tags": []
   },
   "outputs": [
    {
     "name": "stdout",
     "output_type": "stream",
     "text": [
      "Number of nodes: 4906271\n",
      "Number of edges: 24528246\n"
     ]
    }
   ],
   "source": [
    "num_nodes = G.number_of_nodes()\n",
    "num_edges = G.number_of_edges()\n",
    "\n",
    "print(f\"Number of nodes: {num_nodes}\")\n",
    "print(f\"Number of edges: {num_edges}\")"
   ]
  },
  {
   "cell_type": "code",
   "execution_count": 24,
   "id": "f2aa7c9c",
   "metadata": {
    "ExecuteTime": {
     "end_time": "2023-12-18T18:42:39.301577100Z",
     "start_time": "2023-12-18T18:42:39.277599500Z"
    },
    "collapsed": false,
    "execution": {
     "iopub.execute_input": "2023-12-18T22:02:09.865005Z",
     "iopub.status.busy": "2023-12-18T22:02:09.864532Z",
     "iopub.status.idle": "2023-12-18T22:02:09.891233Z",
     "shell.execute_reply": "2023-12-18T22:02:09.890338Z"
    },
    "papermill": {
     "duration": 0.045255,
     "end_time": "2023-12-18T22:02:09.893156",
     "exception": false,
     "start_time": "2023-12-18T22:02:09.847901",
     "status": "completed"
    },
    "tags": []
   },
   "outputs": [
    {
     "data": {
      "text/html": [
       "<div>\n",
       "<style scoped>\n",
       "    .dataframe tbody tr th:only-of-type {\n",
       "        vertical-align: middle;\n",
       "    }\n",
       "\n",
       "    .dataframe tbody tr th {\n",
       "        vertical-align: top;\n",
       "    }\n",
       "\n",
       "    .dataframe thead th {\n",
       "        text-align: right;\n",
       "    }\n",
       "</style>\n",
       "<table border=\"1\" class=\"dataframe\">\n",
       "  <thead>\n",
       "    <tr style=\"text-align: right;\">\n",
       "      <th></th>\n",
       "      <th>id</th>\n",
       "      <th>token</th>\n",
       "      <th>entity_tag</th>\n",
       "      <th>full_mention</th>\n",
       "      <th>wiki_url</th>\n",
       "    </tr>\n",
       "  </thead>\n",
       "  <tbody>\n",
       "    <tr>\n",
       "      <th>0</th>\n",
       "      <td>0</td>\n",
       "      <td>-DOCSTART- (947testa CRICKET)</td>\n",
       "      <td>NaN</td>\n",
       "      <td>NaN</td>\n",
       "      <td>NOT_FOUND</td>\n",
       "    </tr>\n",
       "    <tr>\n",
       "      <th>1</th>\n",
       "      <td>1</td>\n",
       "      <td>CRICKET</td>\n",
       "      <td>NaN</td>\n",
       "      <td>NaN</td>\n",
       "      <td>NOT_FOUND</td>\n",
       "    </tr>\n",
       "    <tr>\n",
       "      <th>2</th>\n",
       "      <td>2</td>\n",
       "      <td>-</td>\n",
       "      <td>NaN</td>\n",
       "      <td>NaN</td>\n",
       "      <td>NOT_FOUND</td>\n",
       "    </tr>\n",
       "    <tr>\n",
       "      <th>3</th>\n",
       "      <td>3</td>\n",
       "      <td>LEICESTERSHIRE</td>\n",
       "      <td>B</td>\n",
       "      <td>LEICESTERSHIRE</td>\n",
       "      <td>http://en.wikipedia.org/wiki/Leicestershire_Co...</td>\n",
       "    </tr>\n",
       "    <tr>\n",
       "      <th>4</th>\n",
       "      <td>4</td>\n",
       "      <td>TAKE</td>\n",
       "      <td>NaN</td>\n",
       "      <td>NaN</td>\n",
       "      <td>NOT_FOUND</td>\n",
       "    </tr>\n",
       "    <tr>\n",
       "      <th>...</th>\n",
       "      <td>...</td>\n",
       "      <td>...</td>\n",
       "      <td>...</td>\n",
       "      <td>...</td>\n",
       "      <td>...</td>\n",
       "    </tr>\n",
       "    <tr>\n",
       "      <th>104885</th>\n",
       "      <td>104885</td>\n",
       "      <td>brother</td>\n",
       "      <td>NaN</td>\n",
       "      <td>NaN</td>\n",
       "      <td>NOT_FOUND</td>\n",
       "    </tr>\n",
       "    <tr>\n",
       "      <th>104886</th>\n",
       "      <td>104886</td>\n",
       "      <td>,</td>\n",
       "      <td>NaN</td>\n",
       "      <td>NaN</td>\n",
       "      <td>NOT_FOUND</td>\n",
       "    </tr>\n",
       "    <tr>\n",
       "      <th>104887</th>\n",
       "      <td>104887</td>\n",
       "      <td>Bobby</td>\n",
       "      <td>B</td>\n",
       "      <td>Bobby</td>\n",
       "      <td>http://en.wikipedia.org/wiki/Bobby</td>\n",
       "    </tr>\n",
       "    <tr>\n",
       "      <th>104888</th>\n",
       "      <td>104888</td>\n",
       "      <td>.</td>\n",
       "      <td>NaN</td>\n",
       "      <td>NaN</td>\n",
       "      <td>NOT_FOUND</td>\n",
       "    </tr>\n",
       "    <tr>\n",
       "      <th>104889</th>\n",
       "      <td>104889</td>\n",
       "      <td>NaN</td>\n",
       "      <td>NaN</td>\n",
       "      <td>NaN</td>\n",
       "      <td>NOT_FOUND</td>\n",
       "    </tr>\n",
       "  </tbody>\n",
       "</table>\n",
       "<p>104890 rows × 5 columns</p>\n",
       "</div>"
      ],
      "text/plain": [
       "            id                          token entity_tag    full_mention  \\\n",
       "0            0  -DOCSTART- (947testa CRICKET)        NaN             NaN   \n",
       "1            1                        CRICKET        NaN             NaN   \n",
       "2            2                              -        NaN             NaN   \n",
       "3            3                 LEICESTERSHIRE          B  LEICESTERSHIRE   \n",
       "4            4                           TAKE        NaN             NaN   \n",
       "...        ...                            ...        ...             ...   \n",
       "104885  104885                        brother        NaN             NaN   \n",
       "104886  104886                              ,        NaN             NaN   \n",
       "104887  104887                          Bobby          B           Bobby   \n",
       "104888  104888                              .        NaN             NaN   \n",
       "104889  104889                            NaN        NaN             NaN   \n",
       "\n",
       "                                                 wiki_url  \n",
       "0                                               NOT_FOUND  \n",
       "1                                               NOT_FOUND  \n",
       "2                                               NOT_FOUND  \n",
       "3       http://en.wikipedia.org/wiki/Leicestershire_Co...  \n",
       "4                                               NOT_FOUND  \n",
       "...                                                   ...  \n",
       "104885                                          NOT_FOUND  \n",
       "104886                                          NOT_FOUND  \n",
       "104887                 http://en.wikipedia.org/wiki/Bobby  \n",
       "104888                                          NOT_FOUND  \n",
       "104889                                          NOT_FOUND  \n",
       "\n",
       "[104890 rows x 5 columns]"
      ]
     },
     "metadata": {},
     "output_type": "display_data"
    }
   ],
   "source": [
    "# Taking the result from the first part\n",
    "test_df.update(result_first_part)\n",
    "display(test_df)"
   ]
  },
  {
   "cell_type": "markdown",
   "id": "006308c3",
   "metadata": {
    "papermill": {
     "duration": 0.015521,
     "end_time": "2023-12-18T22:02:09.923233",
     "exception": false,
     "start_time": "2023-12-18T22:02:09.907712",
     "status": "completed"
    },
    "tags": []
   },
   "source": [
    "Fetch item_ids for each entity:"
   ]
  },
  {
   "cell_type": "code",
   "execution_count": 25,
   "id": "4cf47f04",
   "metadata": {
    "ExecuteTime": {
     "end_time": "2023-12-18T18:42:44.800677600Z",
     "start_time": "2023-12-18T18:42:39.317057300Z"
    },
    "collapsed": false,
    "execution": {
     "iopub.execute_input": "2023-12-18T22:02:09.955970Z",
     "iopub.status.busy": "2023-12-18T22:02:09.955532Z",
     "iopub.status.idle": "2023-12-18T22:02:17.826341Z",
     "shell.execute_reply": "2023-12-18T22:02:17.824730Z"
    },
    "papermill": {
     "duration": 7.890904,
     "end_time": "2023-12-18T22:02:17.829323",
     "exception": false,
     "start_time": "2023-12-18T22:02:09.938419",
     "status": "completed"
    },
    "tags": []
   },
   "outputs": [],
   "source": [
    "wiki_item = wiki_items[['item_id', 'en_label', 'wikipedia_title']]\n",
    "lower_case_wiki_item_titles = wiki_item.wikipedia_title.str.lower().str\n",
    "\n",
    "test_df['wikipedia_title'] = test_df.wiki_url.str[LEN_URL:].str.replace('_', ' ')\n",
    "test_df = test_df.merge(wiki_item, on='wikipedia_title', how='left').drop(\n",
    "    columns=['wikipedia_title', 'en_label'])"
   ]
  },
  {
   "cell_type": "markdown",
   "id": "02f9b3f5",
   "metadata": {
    "papermill": {
     "duration": 0.015091,
     "end_time": "2023-12-18T22:02:17.860236",
     "exception": false,
     "start_time": "2023-12-18T22:02:17.845145",
     "status": "completed"
    },
    "tags": []
   },
   "source": [
    "### Functions \n",
    "\n",
    "#### Distance functions"
   ]
  },
  {
   "cell_type": "code",
   "execution_count": 26,
   "id": "ccda2ac2",
   "metadata": {
    "ExecuteTime": {
     "end_time": "2023-12-18T18:42:44.853667600Z",
     "start_time": "2023-12-18T18:42:44.804904400Z"
    },
    "collapsed": false,
    "execution": {
     "iopub.execute_input": "2023-12-18T22:02:17.893697Z",
     "iopub.status.busy": "2023-12-18T22:02:17.893228Z",
     "iopub.status.idle": "2023-12-18T22:02:17.900549Z",
     "shell.execute_reply": "2023-12-18T22:02:17.899598Z"
    },
    "papermill": {
     "duration": 0.027319,
     "end_time": "2023-12-18T22:02:17.903195",
     "exception": false,
     "start_time": "2023-12-18T22:02:17.875876",
     "status": "completed"
    },
    "tags": []
   },
   "outputs": [],
   "source": [
    "def get_dist(doc_assigned_ids, candidate_id, fill_na=9999):\n",
    "    \"\"\"\n",
    "    Function calculating the distance between the full mention and a candidate.\n",
    "    \n",
    "    Parameters\n",
    "    ----------\n",
    "    doc_assigned_ids: list\n",
    "        List containing the already assigned entities.\n",
    "    candidate_id: float\n",
    "        Candidate id.\n",
    "        \n",
    "    Returns\n",
    "    -------\n",
    "    distance: float\n",
    "        Average distance between the full mention and the candidate in the graph.\n",
    "    \"\"\"\n",
    "    \n",
    "    distance_list = []\n",
    "    \n",
    "    #Retrieve only a subset of ids of the document\n",
    "    subset_certain = list(doc_assigned_ids)\n",
    "    random.shuffle(subset_certain)\n",
    "    subset_size = 10\n",
    "    subset_certain = subset_certain[:subset_size]\n",
    "    \n",
    "    for assigned_entity in subset_certain:\n",
    "        try:\n",
    "            shortest = nx.shortest_path_length(G, source=assigned_entity, target=candidate_id)\n",
    "            distance_list.append(shortest)\n",
    "        except:\n",
    "            distance_list.append(fill_na)\n",
    "            \n",
    "    return sum(distance_list) / subset_size if distance_list else fill_na"
   ]
  },
  {
   "cell_type": "code",
   "execution_count": 27,
   "id": "43e282a8",
   "metadata": {
    "ExecuteTime": {
     "end_time": "2023-12-18T18:42:44.854177200Z",
     "start_time": "2023-12-18T18:42:44.813824400Z"
    },
    "collapsed": false,
    "execution": {
     "iopub.execute_input": "2023-12-18T22:02:17.937525Z",
     "iopub.status.busy": "2023-12-18T22:02:17.936872Z",
     "iopub.status.idle": "2023-12-18T22:02:17.943645Z",
     "shell.execute_reply": "2023-12-18T22:02:17.942701Z"
    },
    "papermill": {
     "duration": 0.027766,
     "end_time": "2023-12-18T22:02:17.946934",
     "exception": false,
     "start_time": "2023-12-18T22:02:17.919168",
     "status": "completed"
    },
    "tags": []
   },
   "outputs": [],
   "source": [
    "def get_all_dist(candidates, doc_assigned_ids):\n",
    "    \"\"\"\n",
    "    Function calculating the distance between the full mention and all the candidates.\n",
    "    \n",
    "    Parameters\n",
    "    ----------\n",
    "    candidates: pd.DataFrame\n",
    "        DataFrame containing the candidates.\n",
    "    doc_assigned_ids: list\n",
    "        List of the already assigned entities.\n",
    "        \n",
    "    Returns\n",
    "    -------\n",
    "    distances: list\n",
    "        List containing the distances between the full mention and all the candidates.\n",
    "    \"\"\"\n",
    "    \n",
    "    distances = []\n",
    "    \n",
    "    for candidate_id, _, candidate_title in candidates.iloc:\n",
    "        distances.append((candidate_title, candidate_id, get_dist(doc_assigned_ids, candidate_id)))\n",
    "        \n",
    "    return distances"
   ]
  },
  {
   "cell_type": "code",
   "execution_count": 28,
   "id": "3f4fab9f",
   "metadata": {
    "ExecuteTime": {
     "end_time": "2023-12-18T18:42:44.877705800Z",
     "start_time": "2023-12-18T18:42:44.823610700Z"
    },
    "collapsed": false,
    "execution": {
     "iopub.execute_input": "2023-12-18T22:02:17.982391Z",
     "iopub.status.busy": "2023-12-18T22:02:17.981686Z",
     "iopub.status.idle": "2023-12-18T22:02:17.990124Z",
     "shell.execute_reply": "2023-12-18T22:02:17.989159Z"
    },
    "papermill": {
     "duration": 0.027729,
     "end_time": "2023-12-18T22:02:17.991992",
     "exception": false,
     "start_time": "2023-12-18T22:02:17.964263",
     "status": "completed"
    },
    "tags": []
   },
   "outputs": [],
   "source": [
    "def find_best_candidate(candidate_df, found_ids):\n",
    "    \"\"\"\n",
    "    Function returning the best candidate for the mention.\n",
    "    \n",
    "    Parameters\n",
    "    -------\n",
    "    candidate_df: pd.DataFrame\n",
    "        dataframe containing all url candidates for a mention\n",
    "    found_ids: pd.Serie\n",
    "        serie containing all ids of a given document\n",
    "        \n",
    "    Returns\n",
    "    -------\n",
    "    best_candidate_item_id: int\n",
    "        candidate item_id closest to given ids.\n",
    "    best_candidate_url: str\n",
    "        candidate wikipedia url which is closest to the given ids.\n",
    "    \"\"\"\n",
    "    \n",
    "    distances = get_all_dist(candidate_df, found_ids)\n",
    "    obtained_distances = len(distances)\n",
    "    \n",
    "    # One distance is obtained, it must be the only possible matching => use it.\n",
    "    if obtained_distances == 1:\n",
    "        title, item_id, _ = distances[0]\n",
    "        return item_id, title_to_wiki_url(title)\n",
    "    \n",
    "    # More than one distance is obtained, multiple matching exists.\n",
    "    elif obtained_distances >=1:\n",
    "        first_candidate, second_candidate = heapq.nsmallest(2, distances,key=lambda x: x[-1])  \n",
    "        \n",
    "        # If similarity of the first candidate and second candidate is not the same, take the first.\n",
    "        # Otherwise, we are unsure and return NaNs.\n",
    "        if first_candidate[-1] < second_candidate[-1]:\n",
    "            title, item_id, _ = first_candidate\n",
    "            return item_id, title_to_wiki_url(title)\n",
    "    return np.nan, np.nan"
   ]
  },
  {
   "cell_type": "markdown",
   "id": "2997adc9",
   "metadata": {
    "papermill": {
     "duration": 0.01485,
     "end_time": "2023-12-18T22:02:18.022201",
     "exception": false,
     "start_time": "2023-12-18T22:02:18.007351",
     "status": "completed"
    },
    "tags": []
   },
   "source": [
    "#### String manipulation functions"
   ]
  },
  {
   "cell_type": "code",
   "execution_count": 29,
   "id": "283e1c34",
   "metadata": {
    "ExecuteTime": {
     "end_time": "2023-12-18T18:42:44.878706400Z",
     "start_time": "2023-12-18T18:42:44.832637500Z"
    },
    "collapsed": false,
    "execution": {
     "iopub.execute_input": "2023-12-18T22:02:18.056120Z",
     "iopub.status.busy": "2023-12-18T22:02:18.055251Z",
     "iopub.status.idle": "2023-12-18T22:02:18.063407Z",
     "shell.execute_reply": "2023-12-18T22:02:18.061127Z"
    },
    "papermill": {
     "duration": 0.029099,
     "end_time": "2023-12-18T22:02:18.066504",
     "exception": false,
     "start_time": "2023-12-18T22:02:18.037405",
     "status": "completed"
    },
    "tags": []
   },
   "outputs": [],
   "source": [
    "def find_equal_string_candidates(mention, full_mention_found) -> list[str]:\n",
    "    \"\"\"\n",
    "    Function retrieving list of url for the given mention using the possible of the same document.\n",
    "    Parameters\n",
    "    -------\n",
    "    mention: str\n",
    "        current mention for which we try to find a url in a given document\n",
    "    full_mention_found: dict \n",
    "        dictionary consisting of mentions and their found links in the same document\n",
    "        \n",
    "    Returns\n",
    "    -------\n",
    "    candidate_urls: list\n",
    "        candidate urls option for the given mention.\n",
    "        \n",
    "    -------\n",
    "    Example\n",
    "        Let's say the document references Roger Federer once, and it is already mapped to the link https://en.wikipedia.org/wiki/Roger_Federer.\n",
    "        This function allows finding any entity starting with \"Roger\" or \"Federer\" and map it to this link https://en.wikipedia.org/wiki/Roger_Federer.\n",
    "    \"\"\"\n",
    "    #TODO doc.\n",
    "    candidate_urls = set()\n",
    "    for found_mention, url in full_mention_found.items():\n",
    "        if mention in found_mention:\n",
    "            candidate_urls.add(url)\n",
    "    return  list(candidate_urls)"
   ]
  },
  {
   "cell_type": "code",
   "execution_count": 30,
   "id": "b0632354",
   "metadata": {
    "ExecuteTime": {
     "end_time": "2023-12-18T18:42:44.878706400Z",
     "start_time": "2023-12-18T18:42:44.842643500Z"
    },
    "collapsed": false,
    "execution": {
     "iopub.execute_input": "2023-12-18T22:02:18.101139Z",
     "iopub.status.busy": "2023-12-18T22:02:18.099499Z",
     "iopub.status.idle": "2023-12-18T22:02:18.106549Z",
     "shell.execute_reply": "2023-12-18T22:02:18.105804Z"
    },
    "papermill": {
     "duration": 0.0268,
     "end_time": "2023-12-18T22:02:18.108780",
     "exception": false,
     "start_time": "2023-12-18T22:02:18.081980",
     "status": "completed"
    },
    "tags": []
   },
   "outputs": [],
   "source": [
    "def find_substring_candidates(mention, saved_candidates):\n",
    "    \"\"\"\n",
    "    Function retrieving list of possible candidates for the given mention thanks to the wiki_items dataframe.\n",
    "    \n",
    "    Parameters\n",
    "    -------\n",
    "    mention: str\n",
    "        current mention for which we try to find a url in a given document\n",
    "    saved_candidates: dict \n",
    "        dictionary consisting of already found mappings to candidates\n",
    "        \n",
    "    Returns\n",
    "    -------\n",
    "    candidates: pd.DataFrame\n",
    "        candidates wikipedia titles option for the given mention.\n",
    "        \n",
    "    -------\n",
    "    Example\n",
    "        Let's say the document references Roger once, and we don't know which Roger it is\n",
    "        This function allows finding any entity containing the word \"Roger\", and return their respective attributes (Roger Frederer, Roger Moore, Roger Waters ...)\n",
    "    \"\"\"\n",
    "    if mention not in saved_candidates.keys(): \n",
    "        pattern = re.compile(r'\\b{}\\b'.format(mention))\n",
    "        candidates = wiki_item.loc[lower_case_wiki_item_titles.contains(pattern, na=False)]\n",
    "        saved_candidates[mention] = candidates\n",
    "        return candidates\n",
    "    else:\n",
    "        return saved_candidates[mention]  "
   ]
  },
  {
   "cell_type": "code",
   "execution_count": 31,
   "id": "ffa0a5bd",
   "metadata": {
    "ExecuteTime": {
     "end_time": "2023-12-18T18:42:44.882809400Z",
     "start_time": "2023-12-18T18:42:44.851446800Z"
    },
    "collapsed": false,
    "execution": {
     "iopub.execute_input": "2023-12-18T22:02:18.142888Z",
     "iopub.status.busy": "2023-12-18T22:02:18.141756Z",
     "iopub.status.idle": "2023-12-18T22:02:18.147566Z",
     "shell.execute_reply": "2023-12-18T22:02:18.146535Z"
    },
    "papermill": {
     "duration": 0.025722,
     "end_time": "2023-12-18T22:02:18.150310",
     "exception": false,
     "start_time": "2023-12-18T22:02:18.124588",
     "status": "completed"
    },
    "tags": []
   },
   "outputs": [],
   "source": [
    "def title_to_wiki_url(title):\n",
    "    \"\"\"\n",
    "    Function transforming a wikipedia title into a wikipedia url\n",
    "    \n",
    "    Parameters\n",
    "    -------\n",
    "    title: str\n",
    "        wikipedia title\n",
    "        \n",
    "    Returns\n",
    "    -------\n",
    "    wikipedia_url: str\n",
    "        wikipedia url\n",
    "    \"\"\"\n",
    "    return URL + title.replace(' ', '_')"
   ]
  },
  {
   "cell_type": "markdown",
   "id": "51d1be61",
   "metadata": {
    "papermill": {
     "duration": 0.014972,
     "end_time": "2023-12-18T22:02:18.180286",
     "exception": false,
     "start_time": "2023-12-18T22:02:18.165314",
     "status": "completed"
    },
    "tags": []
   },
   "source": [
    "#### Document manipulation functions"
   ]
  },
  {
   "cell_type": "code",
   "execution_count": 32,
   "id": "587b8feb",
   "metadata": {
    "ExecuteTime": {
     "end_time": "2023-12-18T18:42:44.905485100Z",
     "start_time": "2023-12-18T18:42:44.859183300Z"
    },
    "collapsed": false,
    "execution": {
     "iopub.execute_input": "2023-12-18T22:02:18.213060Z",
     "iopub.status.busy": "2023-12-18T22:02:18.212515Z",
     "iopub.status.idle": "2023-12-18T22:02:18.219878Z",
     "shell.execute_reply": "2023-12-18T22:02:18.218483Z"
    },
    "papermill": {
     "duration": 0.026224,
     "end_time": "2023-12-18T22:02:18.221808",
     "exception": false,
     "start_time": "2023-12-18T22:02:18.195584",
     "status": "completed"
    },
    "tags": []
   },
   "outputs": [],
   "source": [
    "def find_doc_range(df):\n",
    "    \"\"\"\n",
    "    Function returning a zipped tuple of end indexes and start indexes of documents.\n",
    "    \n",
    "    Parameters\n",
    "    ----------\n",
    "    df: pd.DataFrame\n",
    "        DataFrame containing all documents.  \n",
    "    Returns\n",
    "    -------\n",
    "    docs_range: zip\n",
    "        zipped document range between start ids and ending ids of each document.\n",
    "    \"\"\"\n",
    "    def check_docstart(row):\n",
    "        \"\"\"\n",
    "        True if the current row is the row where the document starts.\n",
    "        \"\"\"\n",
    "        if pd.notnull(row['token']) and 'DOCSTART' in row['token']:\n",
    "            return True\n",
    "        else:\n",
    "            return False\n",
    "    data = df.copy()\n",
    "    data['docstart_id'] = df.apply(check_docstart, axis=1)\n",
    "    start_ids = data[data['docstart_id']]['id'].values\n",
    "    end_ids = start_ids[1:] - 1\n",
    "    end_ids = np.append(end_ids,len(df))\n",
    "    docs_range = zip(start_ids, end_ids)\n",
    "    docs_number = len(start_ids)\n",
    "    return docs_range, docs_number"
   ]
  },
  {
   "cell_type": "code",
   "execution_count": 33,
   "id": "2087cf86",
   "metadata": {
    "ExecuteTime": {
     "end_time": "2023-12-18T18:42:44.906492Z",
     "start_time": "2023-12-18T18:42:44.866085600Z"
    },
    "collapsed": false,
    "execution": {
     "iopub.execute_input": "2023-12-18T22:02:18.254412Z",
     "iopub.status.busy": "2023-12-18T22:02:18.253975Z",
     "iopub.status.idle": "2023-12-18T22:02:18.261601Z",
     "shell.execute_reply": "2023-12-18T22:02:18.259986Z"
    },
    "papermill": {
     "duration": 0.027073,
     "end_time": "2023-12-18T22:02:18.264067",
     "exception": false,
     "start_time": "2023-12-18T22:02:18.236994",
     "status": "completed"
    },
    "tags": []
   },
   "outputs": [],
   "source": [
    "def split_document_findings(document_dataframe):\n",
    "    \"\"\"\n",
    "    Function retrieving and separating entities depending on weather they are associated with a found url or not.\n",
    "    \n",
    "    Parameters\n",
    "    -------\n",
    "    document_dataframe: pd.DataFrame \n",
    "        document containing all the sentences and entities to match\n",
    "        \n",
    "    Returns\n",
    "    -------\n",
    "    document:  pd.DataFrame\n",
    "        document containing all the sentences and entities to match \n",
    "    found_links: pd.DataFrame\n",
    "        entities that have been already mapped to links by the previous part of the algorithm\n",
    "    not_found_links: pd.DataFrame \n",
    "        entities that are not yet mapped to links\n",
    "    \"\"\"\n",
    "    document = document_dataframe[document_dataframe['wiki_url'] != 'NOT_FOUND']\n",
    "    found_links = document[document['wiki_url'] != '?']\n",
    "    not_found_links = document[document['wiki_url'] == '?']\n",
    "    return document, found_links, not_found_links"
   ]
  },
  {
   "cell_type": "code",
   "execution_count": 34,
   "id": "d477f796",
   "metadata": {
    "ExecuteTime": {
     "end_time": "2023-12-18T18:42:44.929693Z",
     "start_time": "2023-12-18T18:42:44.875702Z"
    },
    "collapsed": false,
    "execution": {
     "iopub.execute_input": "2023-12-18T22:02:18.298022Z",
     "iopub.status.busy": "2023-12-18T22:02:18.296408Z",
     "iopub.status.idle": "2023-12-18T22:02:18.305438Z",
     "shell.execute_reply": "2023-12-18T22:02:18.304022Z"
    },
    "papermill": {
     "duration": 0.028195,
     "end_time": "2023-12-18T22:02:18.307558",
     "exception": false,
     "start_time": "2023-12-18T22:02:18.279363",
     "status": "completed"
    },
    "tags": []
   },
   "outputs": [],
   "source": [
    "def find_within_doc_similarity(found_links, not_found_links):\n",
    "    \"\"\"\n",
    "    This function attempts to find potential links for exact matches within a document.\n",
    "    \n",
    "    Parameters\n",
    "    ----------\n",
    "    found_links: pd.DataFrame\n",
    "        A dataframe of found links.\n",
    "    not_found_links: pd.DataFrame\n",
    "        A dataframe of links that were not found.\n",
    "        \n",
    "    Returns\n",
    "    -------\n",
    "    updated_found_links: pd.DataFrame\n",
    "        The updated dataframe of found links.\n",
    "    updated_not_found_links: pd.DataFrame\n",
    "        The updated dataframe of links that were not found.\n",
    "    \n",
    "    Example\n",
    "    -------\n",
    "    Let's say the document references Roger Federer once, and it is already mapped to the link https://en.wikipedia.org/wiki/Roger_Federer.\n",
    "    This function allows finding any entity starting with \"Roger\" or \"Federer\" and map it to this link https://en.wikipedia.org/wiki/Roger_Federer.\n",
    "    \"\"\"  \n",
    "    #Series of list of string \n",
    "    found_links_mappings = dict(zip(found_links['full_mention'], found_links['wiki_url']))\n",
    "    candidates_urls = not_found_links['full_mention'].apply(lambda mention: find_equal_string_candidates(mention, found_links_mappings))\n",
    "    \n",
    "    len_candidates_urls = candidates_urls.apply(len)\n",
    "            \n",
    "    #for single candidates, retrieve the value and attribute it.\n",
    "    single_candidates = not_found_links[len_candidates_urls == 1]\n",
    "    single_candidates['wiki_url'] = candidates_urls[len_candidates_urls == 1].apply(lambda l: l[0])\n",
    "    \n",
    "    new_found_links = pd.concat([found_links, single_candidates])\n",
    "    new_not_found_links = not_found_links[len_candidates_urls != 1]\n",
    "\n",
    "    return new_found_links, new_not_found_links"
   ]
  },
  {
   "cell_type": "code",
   "execution_count": 35,
   "id": "a2a0c52c",
   "metadata": {
    "ExecuteTime": {
     "end_time": "2023-12-18T18:42:44.931196700Z",
     "start_time": "2023-12-18T18:42:44.884318200Z"
    },
    "collapsed": false,
    "execution": {
     "iopub.execute_input": "2023-12-18T22:02:18.339455Z",
     "iopub.status.busy": "2023-12-18T22:02:18.339048Z",
     "iopub.status.idle": "2023-12-18T22:02:18.345203Z",
     "shell.execute_reply": "2023-12-18T22:02:18.343918Z"
    },
    "papermill": {
     "duration": 0.024874,
     "end_time": "2023-12-18T22:02:18.347330",
     "exception": false,
     "start_time": "2023-12-18T22:02:18.322456",
     "status": "completed"
    },
    "tags": []
   },
   "outputs": [],
   "source": [
    "def single_row_df_process(single_row_df):\n",
    "    \"\"\"\n",
    "    Helper function used to retrieve the unique row from a dataframe and process it\n",
    "    \n",
    "    Parameters\n",
    "    -------\n",
    "    single_row_df: pd.DataFrame\n",
    "        dataframe with a single row.\n",
    "        \n",
    "    Returns\n",
    "    -------\n",
    "    row:\n",
    "        updated row with corrected wiki_url\n",
    "    \"\"\"\n",
    "    row = single_row_df.iloc[0]\n",
    "    row['wiki_url'] = title_to_wiki_url(row['wikipedia_title'])\n",
    "    return row[['item_id', 'wiki_url']]"
   ]
  },
  {
   "cell_type": "code",
   "execution_count": 36,
   "id": "49c9abd9",
   "metadata": {
    "ExecuteTime": {
     "end_time": "2023-12-18T18:42:44.931196700Z",
     "start_time": "2023-12-18T18:42:44.893240700Z"
    },
    "collapsed": false,
    "execution": {
     "iopub.execute_input": "2023-12-18T22:02:18.381805Z",
     "iopub.status.busy": "2023-12-18T22:02:18.381350Z",
     "iopub.status.idle": "2023-12-18T22:02:18.394798Z",
     "shell.execute_reply": "2023-12-18T22:02:18.393398Z"
    },
    "papermill": {
     "duration": 0.033963,
     "end_time": "2023-12-18T22:02:18.397702",
     "exception": false,
     "start_time": "2023-12-18T22:02:18.363739",
     "status": "completed"
    },
    "tags": []
   },
   "outputs": [],
   "source": [
    "def find_substring_similarity(found_links, not_found_links):\n",
    "    \"\"\"\n",
    "    Function retrieving selecting the best candidates for each entity with no link found using the wiki_items dataframe.\n",
    "    \n",
    "    Parameters\n",
    "    ----------\n",
    "    found_links: pd.DataFrame\n",
    "        A dataframe of found links.\n",
    "    not_found_links: pd.DataFrame\n",
    "        A dataframe of links that were not found.\n",
    "        \n",
    "    Returns\n",
    "    -------\n",
    "    updated_found_links: pd.DataFrame\n",
    "        The updated dataframe of found links.\n",
    "    updated_not_found_links: pd.DataFrame\n",
    "        The updated dataframe of links that were not found.\n",
    "    \"\"\"\n",
    "    #Find all possible candidates from wiki_item dataframe. \n",
    "    #candidates_df is a series of dataframe. type(candidates_df.iloc[0]) = Dataframe\n",
    "    candidates_df = not_found_links['full_mention'].apply(lambda mention: find_substring_candidates(mention, saved_candidates))\n",
    "        \n",
    "    # Calculate the number of candidates for each entity\n",
    "    df_len_per_candidates = candidates_df.apply(len)\n",
    "    \n",
    "    #PHASE ONE : Single possibility elimination.\n",
    "    # If the wiki items have only a single candidate to propose, simply map it.\n",
    "    single_candidates = not_found_links[df_len_per_candidates == 1]\n",
    "\n",
    "    candidates_df_with_one_row = candidates_df[df_len_per_candidates == 1]\n",
    "    if len(candidates_df_with_one_row) != 0:\n",
    "        single_candidates['item_id'], single_candidates['wiki_url'] = candidates_df_with_one_row.apply(single_row_df_process)\n",
    "        \n",
    "    # Update the link-entity maps.\n",
    "    new_found_links = pd.concat([found_links, single_candidates])\n",
    "    new_not_found_links = not_found_links[df_len_per_candidates != 1]\n",
    "    \n",
    "    #PHASE TWO : Multiple possibility elimination.\n",
    "    # Filter for multi candidates, due to time remove entities with too many candidates.\n",
    "    multi_candidates = not_found_links[(df_len_per_candidates > 1) & (df_len_per_candidates <= MAX_CANDIDATES)]\n",
    "    multi_candidates_df = candidates_df[(df_len_per_candidates > 1) & (df_len_per_candidates <= MAX_CANDIDATES)]\n",
    "    \n",
    "    # Using the graph, find the best candidates for each dataframe or NaN if not findable.\n",
    "    new_found_ids = new_found_links[~new_found_links['item_id'].isna()]['item_id']\n",
    "    item_url_tuples = multi_candidates_df.apply(lambda df: find_best_candidate(df, new_found_ids))\n",
    "    if len(item_url_tuples) !=0:\n",
    "        multi_candidates [['item_id', 'wiki_url']] = multi_candidates.index.to_series().map(item_url_tuples).apply(pd.Series)\n",
    "    \n",
    "    # Update the link-entity maps.  \n",
    "    new_not_found_links = new_not_found_links[~new_not_found_links['id'].isin(new_found_links['id'])]\n",
    "    new_found_links = pd.concat([found_links, multi_candidates])\n",
    "    \n",
    "    return new_found_links, new_not_found_links"
   ]
  },
  {
   "cell_type": "markdown",
   "id": "9e4b2866",
   "metadata": {
    "papermill": {
     "duration": 0.014461,
     "end_time": "2023-12-18T22:02:18.427394",
     "exception": false,
     "start_time": "2023-12-18T22:02:18.412933",
     "status": "completed"
    },
    "tags": []
   },
   "source": [
    "Define the global constants and variables used for graph decisions."
   ]
  },
  {
   "cell_type": "code",
   "execution_count": 37,
   "id": "3248cefe",
   "metadata": {
    "ExecuteTime": {
     "end_time": "2023-12-18T18:42:44.987011700Z",
     "start_time": "2023-12-18T18:42:44.901024200Z"
    },
    "collapsed": false,
    "execution": {
     "iopub.execute_input": "2023-12-18T22:02:18.458889Z",
     "iopub.status.busy": "2023-12-18T22:02:18.458416Z",
     "iopub.status.idle": "2023-12-18T22:02:18.464713Z",
     "shell.execute_reply": "2023-12-18T22:02:18.463285Z"
    },
    "papermill": {
     "duration": 0.0244,
     "end_time": "2023-12-18T22:02:18.466643",
     "exception": false,
     "start_time": "2023-12-18T22:02:18.442243",
     "status": "completed"
    },
    "tags": []
   },
   "outputs": [],
   "source": [
    "MAX_CANDIDATES = 25\n",
    "MAX_FETCHING_TRIES = 3\n",
    "SEED = 42\n",
    "OLD_SIZE = np.inf\n",
    "saved_candidates = {}\n",
    "\n",
    "random.seed(SEED)"
   ]
  },
  {
   "cell_type": "code",
   "execution_count": 38,
   "id": "00083db2",
   "metadata": {
    "ExecuteTime": {
     "end_time": "2023-12-18T18:42:44.989038600Z",
     "start_time": "2023-12-18T18:42:44.910490600Z"
    },
    "collapsed": false,
    "execution": {
     "iopub.execute_input": "2023-12-18T22:02:18.498460Z",
     "iopub.status.busy": "2023-12-18T22:02:18.497999Z",
     "iopub.status.idle": "2023-12-18T22:02:18.519013Z",
     "shell.execute_reply": "2023-12-18T22:02:18.517018Z"
    },
    "papermill": {
     "duration": 0.040746,
     "end_time": "2023-12-18T22:02:18.522346",
     "exception": false,
     "start_time": "2023-12-18T22:02:18.481600",
     "status": "completed"
    },
    "tags": []
   },
   "outputs": [],
   "source": [
    "test_df['full_mention'] = test_df['full_mention'].str.lower()"
   ]
  },
  {
   "cell_type": "code",
   "execution_count": 39,
   "id": "89210d32",
   "metadata": {
    "ExecuteTime": {
     "end_time": "2023-12-18T18:58:13.725068200Z",
     "start_time": "2023-12-18T18:42:44.926694400Z"
    },
    "collapsed": false,
    "execution": {
     "iopub.execute_input": "2023-12-18T22:02:18.554622Z",
     "iopub.status.busy": "2023-12-18T22:02:18.554226Z",
     "iopub.status.idle": "2023-12-18T22:14:25.248257Z",
     "shell.execute_reply": "2023-12-18T22:14:25.246762Z"
    },
    "papermill": {
     "duration": 726.71413,
     "end_time": "2023-12-18T22:14:25.251817",
     "exception": false,
     "start_time": "2023-12-18T22:02:18.537687",
     "status": "completed"
    },
    "tags": []
   },
   "outputs": [
    {
     "data": {
      "application/vnd.jupyter.widget-view+json": {
       "model_id": "89243da8bca04fb5a4ce16c151d5ad47",
       "version_major": 2,
       "version_minor": 0
      },
      "text/plain": [
       "  0%|          | 0/447 [00:00<?, ?it/s]"
      ]
     },
     "metadata": {},
     "output_type": "display_data"
    }
   ],
   "source": [
    "warnings.filterwarnings(action=\"ignore\")\n",
    "docs_range, docs_count = find_doc_range(test_df)\n",
    "\n",
    "for start_id, end_id in tqdm(docs_range, total=docs_count):\n",
    "    \n",
    "    current_document = test_df.iloc[start_id:end_id]\n",
    "    \n",
    "    # We are interested in the rows that should have a link\n",
    "    current_document, found_links, not_found_links = split_document_findings(current_document)\n",
    "    if len(not_found_links) == 0:\n",
    "        continue\n",
    "      \n",
    "    if len(found_links) == 0:\n",
    "        continue\n",
    "\n",
    "    found_links, not_found_links = find_within_doc_similarity(found_links, not_found_links)\n",
    "\n",
    "    mask = not_found_links['full_mention'].str.split().apply(lambda words: len(words) > 1)\n",
    "    not_found_links = not_found_links[mask]\n",
    "    \n",
    "    if len(not_found_links) == 0:\n",
    "        test_df.update(found_links)\n",
    "        continue\n",
    "        \n",
    "    if len(found_links) == 0:\n",
    "        test_df.update(found_links)\n",
    "        continue\n",
    "        \n",
    "    found_links, not_found_links = find_substring_similarity(found_links, not_found_links)\n",
    "    test_df.update(found_links)\n",
    "    "
   ]
  },
  {
   "cell_type": "code",
   "execution_count": 40,
   "id": "dc237002",
   "metadata": {
    "ExecuteTime": {
     "end_time": "2023-12-18T18:58:13.745532900Z",
     "start_time": "2023-12-18T18:58:13.726574400Z"
    },
    "collapsed": false,
    "execution": {
     "iopub.execute_input": "2023-12-18T22:14:25.284602Z",
     "iopub.status.busy": "2023-12-18T22:14:25.284229Z",
     "iopub.status.idle": "2023-12-18T22:14:25.301315Z",
     "shell.execute_reply": "2023-12-18T22:14:25.299429Z"
    },
    "papermill": {
     "duration": 0.037135,
     "end_time": "2023-12-18T22:14:25.304319",
     "exception": false,
     "start_time": "2023-12-18T22:14:25.267184",
     "status": "completed"
    },
    "tags": []
   },
   "outputs": [
    {
     "data": {
      "text/html": [
       "<div>\n",
       "<style scoped>\n",
       "    .dataframe tbody tr th:only-of-type {\n",
       "        vertical-align: middle;\n",
       "    }\n",
       "\n",
       "    .dataframe tbody tr th {\n",
       "        vertical-align: top;\n",
       "    }\n",
       "\n",
       "    .dataframe thead th {\n",
       "        text-align: right;\n",
       "    }\n",
       "</style>\n",
       "<table border=\"1\" class=\"dataframe\">\n",
       "  <thead>\n",
       "    <tr style=\"text-align: right;\">\n",
       "      <th></th>\n",
       "      <th>id</th>\n",
       "      <th>token</th>\n",
       "      <th>entity_tag</th>\n",
       "      <th>full_mention</th>\n",
       "      <th>wiki_url</th>\n",
       "      <th>item_id</th>\n",
       "    </tr>\n",
       "  </thead>\n",
       "  <tbody>\n",
       "    <tr>\n",
       "      <th>0</th>\n",
       "      <td>0</td>\n",
       "      <td>-DOCSTART- (947testa CRICKET)</td>\n",
       "      <td>NaN</td>\n",
       "      <td>NaN</td>\n",
       "      <td>NOT_FOUND</td>\n",
       "      <td>NaN</td>\n",
       "    </tr>\n",
       "    <tr>\n",
       "      <th>1</th>\n",
       "      <td>1</td>\n",
       "      <td>CRICKET</td>\n",
       "      <td>NaN</td>\n",
       "      <td>NaN</td>\n",
       "      <td>NOT_FOUND</td>\n",
       "      <td>NaN</td>\n",
       "    </tr>\n",
       "    <tr>\n",
       "      <th>2</th>\n",
       "      <td>2</td>\n",
       "      <td>-</td>\n",
       "      <td>NaN</td>\n",
       "      <td>NaN</td>\n",
       "      <td>NOT_FOUND</td>\n",
       "      <td>NaN</td>\n",
       "    </tr>\n",
       "    <tr>\n",
       "      <th>3</th>\n",
       "      <td>3</td>\n",
       "      <td>LEICESTERSHIRE</td>\n",
       "      <td>B</td>\n",
       "      <td>leicestershire</td>\n",
       "      <td>http://en.wikipedia.org/wiki/Leicestershire_Co...</td>\n",
       "      <td>3229147.0</td>\n",
       "    </tr>\n",
       "    <tr>\n",
       "      <th>4</th>\n",
       "      <td>4</td>\n",
       "      <td>TAKE</td>\n",
       "      <td>NaN</td>\n",
       "      <td>NaN</td>\n",
       "      <td>NOT_FOUND</td>\n",
       "      <td>NaN</td>\n",
       "    </tr>\n",
       "    <tr>\n",
       "      <th>...</th>\n",
       "      <td>...</td>\n",
       "      <td>...</td>\n",
       "      <td>...</td>\n",
       "      <td>...</td>\n",
       "      <td>...</td>\n",
       "      <td>...</td>\n",
       "    </tr>\n",
       "    <tr>\n",
       "      <th>104885</th>\n",
       "      <td>104885</td>\n",
       "      <td>brother</td>\n",
       "      <td>NaN</td>\n",
       "      <td>NaN</td>\n",
       "      <td>NOT_FOUND</td>\n",
       "      <td>NaN</td>\n",
       "    </tr>\n",
       "    <tr>\n",
       "      <th>104886</th>\n",
       "      <td>104886</td>\n",
       "      <td>,</td>\n",
       "      <td>NaN</td>\n",
       "      <td>NaN</td>\n",
       "      <td>NOT_FOUND</td>\n",
       "      <td>NaN</td>\n",
       "    </tr>\n",
       "    <tr>\n",
       "      <th>104887</th>\n",
       "      <td>104887</td>\n",
       "      <td>Bobby</td>\n",
       "      <td>B</td>\n",
       "      <td>bobby</td>\n",
       "      <td>http://en.wikipedia.org/wiki/Bobby</td>\n",
       "      <td>289262.0</td>\n",
       "    </tr>\n",
       "    <tr>\n",
       "      <th>104888</th>\n",
       "      <td>104888</td>\n",
       "      <td>.</td>\n",
       "      <td>NaN</td>\n",
       "      <td>NaN</td>\n",
       "      <td>NOT_FOUND</td>\n",
       "      <td>NaN</td>\n",
       "    </tr>\n",
       "    <tr>\n",
       "      <th>104889</th>\n",
       "      <td>104889</td>\n",
       "      <td>NaN</td>\n",
       "      <td>NaN</td>\n",
       "      <td>NaN</td>\n",
       "      <td>NOT_FOUND</td>\n",
       "      <td>NaN</td>\n",
       "    </tr>\n",
       "  </tbody>\n",
       "</table>\n",
       "<p>104890 rows × 6 columns</p>\n",
       "</div>"
      ],
      "text/plain": [
       "            id                          token entity_tag    full_mention  \\\n",
       "0            0  -DOCSTART- (947testa CRICKET)        NaN             NaN   \n",
       "1            1                        CRICKET        NaN             NaN   \n",
       "2            2                              -        NaN             NaN   \n",
       "3            3                 LEICESTERSHIRE          B  leicestershire   \n",
       "4            4                           TAKE        NaN             NaN   \n",
       "...        ...                            ...        ...             ...   \n",
       "104885  104885                        brother        NaN             NaN   \n",
       "104886  104886                              ,        NaN             NaN   \n",
       "104887  104887                          Bobby          B           bobby   \n",
       "104888  104888                              .        NaN             NaN   \n",
       "104889  104889                            NaN        NaN             NaN   \n",
       "\n",
       "                                                 wiki_url    item_id  \n",
       "0                                               NOT_FOUND        NaN  \n",
       "1                                               NOT_FOUND        NaN  \n",
       "2                                               NOT_FOUND        NaN  \n",
       "3       http://en.wikipedia.org/wiki/Leicestershire_Co...  3229147.0  \n",
       "4                                               NOT_FOUND        NaN  \n",
       "...                                                   ...        ...  \n",
       "104885                                          NOT_FOUND        NaN  \n",
       "104886                                          NOT_FOUND        NaN  \n",
       "104887                 http://en.wikipedia.org/wiki/Bobby   289262.0  \n",
       "104888                                          NOT_FOUND        NaN  \n",
       "104889                                          NOT_FOUND        NaN  \n",
       "\n",
       "[104890 rows x 6 columns]"
      ]
     },
     "metadata": {},
     "output_type": "display_data"
    }
   ],
   "source": [
    "display(test_df)"
   ]
  },
  {
   "cell_type": "markdown",
   "id": "655f996b",
   "metadata": {
    "papermill": {
     "duration": 0.015152,
     "end_time": "2023-12-18T22:14:25.335574",
     "exception": false,
     "start_time": "2023-12-18T22:14:25.320422",
     "status": "completed"
    },
    "tags": []
   },
   "source": [
    "### Using redirects at the end"
   ]
  },
  {
   "cell_type": "code",
   "execution_count": 41,
   "id": "8655549d",
   "metadata": {
    "ExecuteTime": {
     "end_time": "2023-12-18T19:02:14.314466800Z",
     "start_time": "2023-12-18T19:02:11.298618100Z"
    },
    "collapsed": false,
    "execution": {
     "iopub.execute_input": "2023-12-18T22:14:25.369387Z",
     "iopub.status.busy": "2023-12-18T22:14:25.368962Z",
     "iopub.status.idle": "2023-12-18T22:14:31.748090Z",
     "shell.execute_reply": "2023-12-18T22:14:31.746760Z"
    },
    "papermill": {
     "duration": 6.399729,
     "end_time": "2023-12-18T22:14:31.751022",
     "exception": false,
     "start_time": "2023-12-18T22:14:25.351293",
     "status": "completed"
    },
    "tags": []
   },
   "outputs": [
    {
     "data": {
      "application/vnd.jupyter.widget-view+json": {
       "model_id": "6c7140b1c5a94df49df5e93c2f1171ad",
       "version_major": 2,
       "version_minor": 0
      },
      "text/plain": [
       "  0%|          | 0/104890 [00:00<?, ?it/s]"
      ]
     },
     "metadata": {},
     "output_type": "display_data"
    }
   ],
   "source": [
    "for index, row in tqdm(test_df.iterrows(), total=test_df.shape[0]):\n",
    "    if str(row['wiki_url']) == 'nan' or row['wiki_url'] != '?':\n",
    "        continue\n",
    "        \n",
    "    full_mention = row['full_mention']\n",
    "    \n",
    "    redirect_title = redirects_dict.get(full_mention.lower())\n",
    "\n",
    "    if redirect_title is not None:\n",
    "        redirects_matching += 1\n",
    "        test_df.at[index, 'wiki_url'] = URL + redirect_title.replace(' ', '_')"
   ]
  },
  {
   "cell_type": "markdown",
   "id": "b10442e9",
   "metadata": {
    "papermill": {
     "duration": 0.016401,
     "end_time": "2023-12-18T22:14:31.783768",
     "exception": false,
     "start_time": "2023-12-18T22:14:31.767367",
     "status": "completed"
    },
    "tags": []
   },
   "source": [
    "## Creating the submission"
   ]
  },
  {
   "cell_type": "code",
   "execution_count": 42,
   "id": "1474294f",
   "metadata": {
    "ExecuteTime": {
     "end_time": "2023-12-18T19:02:48.184429600Z",
     "start_time": "2023-12-18T19:02:48.106662500Z"
    },
    "collapsed": false,
    "execution": {
     "iopub.execute_input": "2023-12-18T22:14:31.819071Z",
     "iopub.status.busy": "2023-12-18T22:14:31.818614Z",
     "iopub.status.idle": "2023-12-18T22:14:31.979485Z",
     "shell.execute_reply": "2023-12-18T22:14:31.977822Z"
    },
    "papermill": {
     "duration": 0.182007,
     "end_time": "2023-12-18T22:14:31.982252",
     "exception": false,
     "start_time": "2023-12-18T22:14:31.800245",
     "status": "completed"
    },
    "tags": []
   },
   "outputs": [],
   "source": [
    "test_df.loc[:, 'wiki_url'] = test_df['wiki_url'].apply(lambda x: 'NOT_FOUND' if not (str(x).startswith('http')) else x)\n",
    "\n",
    "test_df[['id', 'wiki_url']].to_csv('submission.csv', index=False)"
   ]
  }
 ],
 "metadata": {
  "kaggle": {
   "accelerator": "none",
   "dataSources": [
    {
     "databundleVersionId": 7121804,
     "sourceId": 64415,
     "sourceType": "competition"
    },
    {
     "datasetId": 4188103,
     "sourceId": 7232753,
     "sourceType": "datasetVersion"
    }
   ],
   "dockerImageVersionId": 30626,
   "isGpuEnabled": false,
   "isInternetEnabled": true,
   "language": "python",
   "sourceType": "notebook"
  },
  "kernelspec": {
   "display_name": "Python 3",
   "language": "python",
   "name": "python3"
  },
  "language_info": {
   "codemirror_mode": {
    "name": "ipython",
    "version": 3
   },
   "file_extension": ".py",
   "mimetype": "text/x-python",
   "name": "python",
   "nbconvert_exporter": "python",
   "pygments_lexer": "ipython3",
   "version": "3.10.12"
  },
  "papermill": {
   "default_parameters": {},
   "duration": 877.751784,
   "end_time": "2023-12-18T22:14:35.327495",
   "environment_variables": {},
   "exception": null,
   "input_path": "__notebook__.ipynb",
   "output_path": "__notebook__.ipynb",
   "parameters": {},
   "start_time": "2023-12-18T21:59:57.575711",
   "version": "2.4.0"
  },
  "widgets": {
   "application/vnd.jupyter.widget-state+json": {
    "state": {
     "0e350a566c8f469eb98a5389ebd8277e": {
      "model_module": "@jupyter-widgets/base",
      "model_module_version": "1.2.0",
      "model_name": "LayoutModel",
      "state": {
       "_model_module": "@jupyter-widgets/base",
       "_model_module_version": "1.2.0",
       "_model_name": "LayoutModel",
       "_view_count": null,
       "_view_module": "@jupyter-widgets/base",
       "_view_module_version": "1.2.0",
       "_view_name": "LayoutView",
       "align_content": null,
       "align_items": null,
       "align_self": null,
       "border": null,
       "bottom": null,
       "display": null,
       "flex": null,
       "flex_flow": null,
       "grid_area": null,
       "grid_auto_columns": null,
       "grid_auto_flow": null,
       "grid_auto_rows": null,
       "grid_column": null,
       "grid_gap": null,
       "grid_row": null,
       "grid_template_areas": null,
       "grid_template_columns": null,
       "grid_template_rows": null,
       "height": null,
       "justify_content": null,
       "justify_items": null,
       "left": null,
       "margin": null,
       "max_height": null,
       "max_width": null,
       "min_height": null,
       "min_width": null,
       "object_fit": null,
       "object_position": null,
       "order": null,
       "overflow": null,
       "overflow_x": null,
       "overflow_y": null,
       "padding": null,
       "right": null,
       "top": null,
       "visibility": null,
       "width": null
      }
     },
     "1db4090a9960402c8ec16360c346ee47": {
      "model_module": "@jupyter-widgets/controls",
      "model_module_version": "1.5.0",
      "model_name": "DescriptionStyleModel",
      "state": {
       "_model_module": "@jupyter-widgets/controls",
       "_model_module_version": "1.5.0",
       "_model_name": "DescriptionStyleModel",
       "_view_count": null,
       "_view_module": "@jupyter-widgets/base",
       "_view_module_version": "1.2.0",
       "_view_name": "StyleView",
       "description_width": ""
      }
     },
     "1e6799f5a7cb42afa1c7f1270d5c7320": {
      "model_module": "@jupyter-widgets/base",
      "model_module_version": "1.2.0",
      "model_name": "LayoutModel",
      "state": {
       "_model_module": "@jupyter-widgets/base",
       "_model_module_version": "1.2.0",
       "_model_name": "LayoutModel",
       "_view_count": null,
       "_view_module": "@jupyter-widgets/base",
       "_view_module_version": "1.2.0",
       "_view_name": "LayoutView",
       "align_content": null,
       "align_items": null,
       "align_self": null,
       "border": null,
       "bottom": null,
       "display": null,
       "flex": null,
       "flex_flow": null,
       "grid_area": null,
       "grid_auto_columns": null,
       "grid_auto_flow": null,
       "grid_auto_rows": null,
       "grid_column": null,
       "grid_gap": null,
       "grid_row": null,
       "grid_template_areas": null,
       "grid_template_columns": null,
       "grid_template_rows": null,
       "height": null,
       "justify_content": null,
       "justify_items": null,
       "left": null,
       "margin": null,
       "max_height": null,
       "max_width": null,
       "min_height": null,
       "min_width": null,
       "object_fit": null,
       "object_position": null,
       "order": null,
       "overflow": null,
       "overflow_x": null,
       "overflow_y": null,
       "padding": null,
       "right": null,
       "top": null,
       "visibility": null,
       "width": null
      }
     },
     "1f6f92700131422e9da8069ec4ea6a9a": {
      "model_module": "@jupyter-widgets/controls",
      "model_module_version": "1.5.0",
      "model_name": "HBoxModel",
      "state": {
       "_dom_classes": [],
       "_model_module": "@jupyter-widgets/controls",
       "_model_module_version": "1.5.0",
       "_model_name": "HBoxModel",
       "_view_count": null,
       "_view_module": "@jupyter-widgets/controls",
       "_view_module_version": "1.5.0",
       "_view_name": "HBoxView",
       "box_style": "",
       "children": [
        "IPY_MODEL_bba661a2da3b4d27bdd2a78725be1102",
        "IPY_MODEL_31b9ed6d8ccc448e8c932a561421d5fd",
        "IPY_MODEL_5a79bc014a0e4aada3f9f06affb56474"
       ],
       "layout": "IPY_MODEL_1e6799f5a7cb42afa1c7f1270d5c7320"
      }
     },
     "290681105e4c459293912f437b0722b1": {
      "model_module": "@jupyter-widgets/base",
      "model_module_version": "1.2.0",
      "model_name": "LayoutModel",
      "state": {
       "_model_module": "@jupyter-widgets/base",
       "_model_module_version": "1.2.0",
       "_model_name": "LayoutModel",
       "_view_count": null,
       "_view_module": "@jupyter-widgets/base",
       "_view_module_version": "1.2.0",
       "_view_name": "LayoutView",
       "align_content": null,
       "align_items": null,
       "align_self": null,
       "border": null,
       "bottom": null,
       "display": null,
       "flex": null,
       "flex_flow": null,
       "grid_area": null,
       "grid_auto_columns": null,
       "grid_auto_flow": null,
       "grid_auto_rows": null,
       "grid_column": null,
       "grid_gap": null,
       "grid_row": null,
       "grid_template_areas": null,
       "grid_template_columns": null,
       "grid_template_rows": null,
       "height": null,
       "justify_content": null,
       "justify_items": null,
       "left": null,
       "margin": null,
       "max_height": null,
       "max_width": null,
       "min_height": null,
       "min_width": null,
       "object_fit": null,
       "object_position": null,
       "order": null,
       "overflow": null,
       "overflow_x": null,
       "overflow_y": null,
       "padding": null,
       "right": null,
       "top": null,
       "visibility": null,
       "width": null
      }
     },
     "2ca222a4d43d44dd966a92556a89acea": {
      "model_module": "@jupyter-widgets/controls",
      "model_module_version": "1.5.0",
      "model_name": "HTMLModel",
      "state": {
       "_dom_classes": [],
       "_model_module": "@jupyter-widgets/controls",
       "_model_module_version": "1.5.0",
       "_model_name": "HTMLModel",
       "_view_count": null,
       "_view_module": "@jupyter-widgets/controls",
       "_view_module_version": "1.5.0",
       "_view_name": "HTMLView",
       "description": "",
       "description_tooltip": null,
       "layout": "IPY_MODEL_33068d29a8bd4aceb78d6bd4ef16f1c1",
       "placeholder": "​",
       "style": "IPY_MODEL_d464425e756b4a61a347880edf686329",
       "value": "100%"
      }
     },
     "2fcefcacf372419dafeebb99640e64ab": {
      "model_module": "@jupyter-widgets/controls",
      "model_module_version": "1.5.0",
      "model_name": "DescriptionStyleModel",
      "state": {
       "_model_module": "@jupyter-widgets/controls",
       "_model_module_version": "1.5.0",
       "_model_name": "DescriptionStyleModel",
       "_view_count": null,
       "_view_module": "@jupyter-widgets/base",
       "_view_module_version": "1.2.0",
       "_view_name": "StyleView",
       "description_width": ""
      }
     },
     "31b9ed6d8ccc448e8c932a561421d5fd": {
      "model_module": "@jupyter-widgets/controls",
      "model_module_version": "1.5.0",
      "model_name": "FloatProgressModel",
      "state": {
       "_dom_classes": [],
       "_model_module": "@jupyter-widgets/controls",
       "_model_module_version": "1.5.0",
       "_model_name": "FloatProgressModel",
       "_view_count": null,
       "_view_module": "@jupyter-widgets/controls",
       "_view_module_version": "1.5.0",
       "_view_name": "ProgressView",
       "bar_style": "success",
       "description": "",
       "description_tooltip": null,
       "layout": "IPY_MODEL_7068539a924c49eea8961ccd84746cae",
       "max": 104890.0,
       "min": 0.0,
       "orientation": "horizontal",
       "style": "IPY_MODEL_ea51e8b4e04b44ffb5f584d531cb9a50",
       "value": 104890.0
      }
     },
     "33068d29a8bd4aceb78d6bd4ef16f1c1": {
      "model_module": "@jupyter-widgets/base",
      "model_module_version": "1.2.0",
      "model_name": "LayoutModel",
      "state": {
       "_model_module": "@jupyter-widgets/base",
       "_model_module_version": "1.2.0",
       "_model_name": "LayoutModel",
       "_view_count": null,
       "_view_module": "@jupyter-widgets/base",
       "_view_module_version": "1.2.0",
       "_view_name": "LayoutView",
       "align_content": null,
       "align_items": null,
       "align_self": null,
       "border": null,
       "bottom": null,
       "display": null,
       "flex": null,
       "flex_flow": null,
       "grid_area": null,
       "grid_auto_columns": null,
       "grid_auto_flow": null,
       "grid_auto_rows": null,
       "grid_column": null,
       "grid_gap": null,
       "grid_row": null,
       "grid_template_areas": null,
       "grid_template_columns": null,
       "grid_template_rows": null,
       "height": null,
       "justify_content": null,
       "justify_items": null,
       "left": null,
       "margin": null,
       "max_height": null,
       "max_width": null,
       "min_height": null,
       "min_width": null,
       "object_fit": null,
       "object_position": null,
       "order": null,
       "overflow": null,
       "overflow_x": null,
       "overflow_y": null,
       "padding": null,
       "right": null,
       "top": null,
       "visibility": null,
       "width": null
      }
     },
     "33a840d0d47d47788cc24028093d5670": {
      "model_module": "@jupyter-widgets/base",
      "model_module_version": "1.2.0",
      "model_name": "LayoutModel",
      "state": {
       "_model_module": "@jupyter-widgets/base",
       "_model_module_version": "1.2.0",
       "_model_name": "LayoutModel",
       "_view_count": null,
       "_view_module": "@jupyter-widgets/base",
       "_view_module_version": "1.2.0",
       "_view_name": "LayoutView",
       "align_content": null,
       "align_items": null,
       "align_self": null,
       "border": null,
       "bottom": null,
       "display": null,
       "flex": null,
       "flex_flow": null,
       "grid_area": null,
       "grid_auto_columns": null,
       "grid_auto_flow": null,
       "grid_auto_rows": null,
       "grid_column": null,
       "grid_gap": null,
       "grid_row": null,
       "grid_template_areas": null,
       "grid_template_columns": null,
       "grid_template_rows": null,
       "height": null,
       "justify_content": null,
       "justify_items": null,
       "left": null,
       "margin": null,
       "max_height": null,
       "max_width": null,
       "min_height": null,
       "min_width": null,
       "object_fit": null,
       "object_position": null,
       "order": null,
       "overflow": null,
       "overflow_x": null,
       "overflow_y": null,
       "padding": null,
       "right": null,
       "top": null,
       "visibility": null,
       "width": null
      }
     },
     "38c6eaf73ab74c72a837975576820520": {
      "model_module": "@jupyter-widgets/controls",
      "model_module_version": "1.5.0",
      "model_name": "DescriptionStyleModel",
      "state": {
       "_model_module": "@jupyter-widgets/controls",
       "_model_module_version": "1.5.0",
       "_model_name": "DescriptionStyleModel",
       "_view_count": null,
       "_view_module": "@jupyter-widgets/base",
       "_view_module_version": "1.2.0",
       "_view_name": "StyleView",
       "description_width": ""
      }
     },
     "3aaf9b3cb0af4a95b5e6ea46913cfee0": {
      "model_module": "@jupyter-widgets/controls",
      "model_module_version": "1.5.0",
      "model_name": "FloatProgressModel",
      "state": {
       "_dom_classes": [],
       "_model_module": "@jupyter-widgets/controls",
       "_model_module_version": "1.5.0",
       "_model_name": "FloatProgressModel",
       "_view_count": null,
       "_view_module": "@jupyter-widgets/controls",
       "_view_module_version": "1.5.0",
       "_view_name": "ProgressView",
       "bar_style": "success",
       "description": "",
       "description_tooltip": null,
       "layout": "IPY_MODEL_0e350a566c8f469eb98a5389ebd8277e",
       "max": 104890.0,
       "min": 0.0,
       "orientation": "horizontal",
       "style": "IPY_MODEL_a1b66ccbebe94f6d81757bc3ad2f4d5a",
       "value": 104890.0
      }
     },
     "3ee49078004e4bebb6b8323c7d2b821a": {
      "model_module": "@jupyter-widgets/controls",
      "model_module_version": "1.5.0",
      "model_name": "HTMLModel",
      "state": {
       "_dom_classes": [],
       "_model_module": "@jupyter-widgets/controls",
       "_model_module_version": "1.5.0",
       "_model_name": "HTMLModel",
       "_view_count": null,
       "_view_module": "@jupyter-widgets/controls",
       "_view_module_version": "1.5.0",
       "_view_name": "HTMLView",
       "description": "",
       "description_tooltip": null,
       "layout": "IPY_MODEL_ca79c48aeb1a4902ab11ca3581ab6b40",
       "placeholder": "​",
       "style": "IPY_MODEL_2fcefcacf372419dafeebb99640e64ab",
       "value": " 104890/104890 [00:06&lt;00:00, 16743.46it/s]"
      }
     },
     "4fcf88960e554842ae3dfbc0f4ae0a56": {
      "model_module": "@jupyter-widgets/controls",
      "model_module_version": "1.5.0",
      "model_name": "DescriptionStyleModel",
      "state": {
       "_model_module": "@jupyter-widgets/controls",
       "_model_module_version": "1.5.0",
       "_model_name": "DescriptionStyleModel",
       "_view_count": null,
       "_view_module": "@jupyter-widgets/base",
       "_view_module_version": "1.2.0",
       "_view_name": "StyleView",
       "description_width": ""
      }
     },
     "52a5a310898f40f2afc15864e3738f17": {
      "model_module": "@jupyter-widgets/controls",
      "model_module_version": "1.5.0",
      "model_name": "ProgressStyleModel",
      "state": {
       "_model_module": "@jupyter-widgets/controls",
       "_model_module_version": "1.5.0",
       "_model_name": "ProgressStyleModel",
       "_view_count": null,
       "_view_module": "@jupyter-widgets/base",
       "_view_module_version": "1.2.0",
       "_view_name": "StyleView",
       "bar_color": null,
       "description_width": ""
      }
     },
     "5a79bc014a0e4aada3f9f06affb56474": {
      "model_module": "@jupyter-widgets/controls",
      "model_module_version": "1.5.0",
      "model_name": "HTMLModel",
      "state": {
       "_dom_classes": [],
       "_model_module": "@jupyter-widgets/controls",
       "_model_module_version": "1.5.0",
       "_model_name": "HTMLModel",
       "_view_count": null,
       "_view_module": "@jupyter-widgets/controls",
       "_view_module_version": "1.5.0",
       "_view_name": "HTMLView",
       "description": "",
       "description_tooltip": null,
       "layout": "IPY_MODEL_ef10e1b7d03e449b9db43e97755980a6",
       "placeholder": "​",
       "style": "IPY_MODEL_ff4121abe765444eb3e5f517dbed21ef",
       "value": " 104890/104890 [00:06&lt;00:00, 15416.55it/s]"
      }
     },
     "6c7140b1c5a94df49df5e93c2f1171ad": {
      "model_module": "@jupyter-widgets/controls",
      "model_module_version": "1.5.0",
      "model_name": "HBoxModel",
      "state": {
       "_dom_classes": [],
       "_model_module": "@jupyter-widgets/controls",
       "_model_module_version": "1.5.0",
       "_model_name": "HBoxModel",
       "_view_count": null,
       "_view_module": "@jupyter-widgets/controls",
       "_view_module_version": "1.5.0",
       "_view_name": "HBoxView",
       "box_style": "",
       "children": [
        "IPY_MODEL_c3da3e704bc34f1b9397db0b5b549f82",
        "IPY_MODEL_3aaf9b3cb0af4a95b5e6ea46913cfee0",
        "IPY_MODEL_3ee49078004e4bebb6b8323c7d2b821a"
       ],
       "layout": "IPY_MODEL_85c5224c17f24a6a9952edcd2644307a"
      }
     },
     "7068539a924c49eea8961ccd84746cae": {
      "model_module": "@jupyter-widgets/base",
      "model_module_version": "1.2.0",
      "model_name": "LayoutModel",
      "state": {
       "_model_module": "@jupyter-widgets/base",
       "_model_module_version": "1.2.0",
       "_model_name": "LayoutModel",
       "_view_count": null,
       "_view_module": "@jupyter-widgets/base",
       "_view_module_version": "1.2.0",
       "_view_name": "LayoutView",
       "align_content": null,
       "align_items": null,
       "align_self": null,
       "border": null,
       "bottom": null,
       "display": null,
       "flex": null,
       "flex_flow": null,
       "grid_area": null,
       "grid_auto_columns": null,
       "grid_auto_flow": null,
       "grid_auto_rows": null,
       "grid_column": null,
       "grid_gap": null,
       "grid_row": null,
       "grid_template_areas": null,
       "grid_template_columns": null,
       "grid_template_rows": null,
       "height": null,
       "justify_content": null,
       "justify_items": null,
       "left": null,
       "margin": null,
       "max_height": null,
       "max_width": null,
       "min_height": null,
       "min_width": null,
       "object_fit": null,
       "object_position": null,
       "order": null,
       "overflow": null,
       "overflow_x": null,
       "overflow_y": null,
       "padding": null,
       "right": null,
       "top": null,
       "visibility": null,
       "width": null
      }
     },
     "85c5224c17f24a6a9952edcd2644307a": {
      "model_module": "@jupyter-widgets/base",
      "model_module_version": "1.2.0",
      "model_name": "LayoutModel",
      "state": {
       "_model_module": "@jupyter-widgets/base",
       "_model_module_version": "1.2.0",
       "_model_name": "LayoutModel",
       "_view_count": null,
       "_view_module": "@jupyter-widgets/base",
       "_view_module_version": "1.2.0",
       "_view_name": "LayoutView",
       "align_content": null,
       "align_items": null,
       "align_self": null,
       "border": null,
       "bottom": null,
       "display": null,
       "flex": null,
       "flex_flow": null,
       "grid_area": null,
       "grid_auto_columns": null,
       "grid_auto_flow": null,
       "grid_auto_rows": null,
       "grid_column": null,
       "grid_gap": null,
       "grid_row": null,
       "grid_template_areas": null,
       "grid_template_columns": null,
       "grid_template_rows": null,
       "height": null,
       "justify_content": null,
       "justify_items": null,
       "left": null,
       "margin": null,
       "max_height": null,
       "max_width": null,
       "min_height": null,
       "min_width": null,
       "object_fit": null,
       "object_position": null,
       "order": null,
       "overflow": null,
       "overflow_x": null,
       "overflow_y": null,
       "padding": null,
       "right": null,
       "top": null,
       "visibility": null,
       "width": null
      }
     },
     "881cbfb4bccc4bba83e778543d78c6c2": {
      "model_module": "@jupyter-widgets/controls",
      "model_module_version": "1.5.0",
      "model_name": "HTMLModel",
      "state": {
       "_dom_classes": [],
       "_model_module": "@jupyter-widgets/controls",
       "_model_module_version": "1.5.0",
       "_model_name": "HTMLModel",
       "_view_count": null,
       "_view_module": "@jupyter-widgets/controls",
       "_view_module_version": "1.5.0",
       "_view_name": "HTMLView",
       "description": "",
       "description_tooltip": null,
       "layout": "IPY_MODEL_a49f34914b4546ea87973ce523ad18f8",
       "placeholder": "​",
       "style": "IPY_MODEL_1db4090a9960402c8ec16360c346ee47",
       "value": " 447/447 [12:05&lt;00:00,  1.33s/it]"
      }
     },
     "89243da8bca04fb5a4ce16c151d5ad47": {
      "model_module": "@jupyter-widgets/controls",
      "model_module_version": "1.5.0",
      "model_name": "HBoxModel",
      "state": {
       "_dom_classes": [],
       "_model_module": "@jupyter-widgets/controls",
       "_model_module_version": "1.5.0",
       "_model_name": "HBoxModel",
       "_view_count": null,
       "_view_module": "@jupyter-widgets/controls",
       "_view_module_version": "1.5.0",
       "_view_name": "HBoxView",
       "box_style": "",
       "children": [
        "IPY_MODEL_2ca222a4d43d44dd966a92556a89acea",
        "IPY_MODEL_a00d7fc4bd864bde9d77103fba35a7fc",
        "IPY_MODEL_881cbfb4bccc4bba83e778543d78c6c2"
       ],
       "layout": "IPY_MODEL_c578e24fdbf74daf8ecdad0d7dbc0ea7"
      }
     },
     "a00d7fc4bd864bde9d77103fba35a7fc": {
      "model_module": "@jupyter-widgets/controls",
      "model_module_version": "1.5.0",
      "model_name": "FloatProgressModel",
      "state": {
       "_dom_classes": [],
       "_model_module": "@jupyter-widgets/controls",
       "_model_module_version": "1.5.0",
       "_model_name": "FloatProgressModel",
       "_view_count": null,
       "_view_module": "@jupyter-widgets/controls",
       "_view_module_version": "1.5.0",
       "_view_name": "ProgressView",
       "bar_style": "success",
       "description": "",
       "description_tooltip": null,
       "layout": "IPY_MODEL_33a840d0d47d47788cc24028093d5670",
       "max": 447.0,
       "min": 0.0,
       "orientation": "horizontal",
       "style": "IPY_MODEL_52a5a310898f40f2afc15864e3738f17",
       "value": 447.0
      }
     },
     "a1b66ccbebe94f6d81757bc3ad2f4d5a": {
      "model_module": "@jupyter-widgets/controls",
      "model_module_version": "1.5.0",
      "model_name": "ProgressStyleModel",
      "state": {
       "_model_module": "@jupyter-widgets/controls",
       "_model_module_version": "1.5.0",
       "_model_name": "ProgressStyleModel",
       "_view_count": null,
       "_view_module": "@jupyter-widgets/base",
       "_view_module_version": "1.2.0",
       "_view_name": "StyleView",
       "bar_color": null,
       "description_width": ""
      }
     },
     "a49f34914b4546ea87973ce523ad18f8": {
      "model_module": "@jupyter-widgets/base",
      "model_module_version": "1.2.0",
      "model_name": "LayoutModel",
      "state": {
       "_model_module": "@jupyter-widgets/base",
       "_model_module_version": "1.2.0",
       "_model_name": "LayoutModel",
       "_view_count": null,
       "_view_module": "@jupyter-widgets/base",
       "_view_module_version": "1.2.0",
       "_view_name": "LayoutView",
       "align_content": null,
       "align_items": null,
       "align_self": null,
       "border": null,
       "bottom": null,
       "display": null,
       "flex": null,
       "flex_flow": null,
       "grid_area": null,
       "grid_auto_columns": null,
       "grid_auto_flow": null,
       "grid_auto_rows": null,
       "grid_column": null,
       "grid_gap": null,
       "grid_row": null,
       "grid_template_areas": null,
       "grid_template_columns": null,
       "grid_template_rows": null,
       "height": null,
       "justify_content": null,
       "justify_items": null,
       "left": null,
       "margin": null,
       "max_height": null,
       "max_width": null,
       "min_height": null,
       "min_width": null,
       "object_fit": null,
       "object_position": null,
       "order": null,
       "overflow": null,
       "overflow_x": null,
       "overflow_y": null,
       "padding": null,
       "right": null,
       "top": null,
       "visibility": null,
       "width": null
      }
     },
     "bba661a2da3b4d27bdd2a78725be1102": {
      "model_module": "@jupyter-widgets/controls",
      "model_module_version": "1.5.0",
      "model_name": "HTMLModel",
      "state": {
       "_dom_classes": [],
       "_model_module": "@jupyter-widgets/controls",
       "_model_module_version": "1.5.0",
       "_model_name": "HTMLModel",
       "_view_count": null,
       "_view_module": "@jupyter-widgets/controls",
       "_view_module_version": "1.5.0",
       "_view_name": "HTMLView",
       "description": "",
       "description_tooltip": null,
       "layout": "IPY_MODEL_cae29c6e51824849930b2365f237e164",
       "placeholder": "​",
       "style": "IPY_MODEL_38c6eaf73ab74c72a837975576820520",
       "value": "100%"
      }
     },
     "c3da3e704bc34f1b9397db0b5b549f82": {
      "model_module": "@jupyter-widgets/controls",
      "model_module_version": "1.5.0",
      "model_name": "HTMLModel",
      "state": {
       "_dom_classes": [],
       "_model_module": "@jupyter-widgets/controls",
       "_model_module_version": "1.5.0",
       "_model_name": "HTMLModel",
       "_view_count": null,
       "_view_module": "@jupyter-widgets/controls",
       "_view_module_version": "1.5.0",
       "_view_name": "HTMLView",
       "description": "",
       "description_tooltip": null,
       "layout": "IPY_MODEL_290681105e4c459293912f437b0722b1",
       "placeholder": "​",
       "style": "IPY_MODEL_4fcf88960e554842ae3dfbc0f4ae0a56",
       "value": "100%"
      }
     },
     "c578e24fdbf74daf8ecdad0d7dbc0ea7": {
      "model_module": "@jupyter-widgets/base",
      "model_module_version": "1.2.0",
      "model_name": "LayoutModel",
      "state": {
       "_model_module": "@jupyter-widgets/base",
       "_model_module_version": "1.2.0",
       "_model_name": "LayoutModel",
       "_view_count": null,
       "_view_module": "@jupyter-widgets/base",
       "_view_module_version": "1.2.0",
       "_view_name": "LayoutView",
       "align_content": null,
       "align_items": null,
       "align_self": null,
       "border": null,
       "bottom": null,
       "display": null,
       "flex": null,
       "flex_flow": null,
       "grid_area": null,
       "grid_auto_columns": null,
       "grid_auto_flow": null,
       "grid_auto_rows": null,
       "grid_column": null,
       "grid_gap": null,
       "grid_row": null,
       "grid_template_areas": null,
       "grid_template_columns": null,
       "grid_template_rows": null,
       "height": null,
       "justify_content": null,
       "justify_items": null,
       "left": null,
       "margin": null,
       "max_height": null,
       "max_width": null,
       "min_height": null,
       "min_width": null,
       "object_fit": null,
       "object_position": null,
       "order": null,
       "overflow": null,
       "overflow_x": null,
       "overflow_y": null,
       "padding": null,
       "right": null,
       "top": null,
       "visibility": null,
       "width": null
      }
     },
     "ca79c48aeb1a4902ab11ca3581ab6b40": {
      "model_module": "@jupyter-widgets/base",
      "model_module_version": "1.2.0",
      "model_name": "LayoutModel",
      "state": {
       "_model_module": "@jupyter-widgets/base",
       "_model_module_version": "1.2.0",
       "_model_name": "LayoutModel",
       "_view_count": null,
       "_view_module": "@jupyter-widgets/base",
       "_view_module_version": "1.2.0",
       "_view_name": "LayoutView",
       "align_content": null,
       "align_items": null,
       "align_self": null,
       "border": null,
       "bottom": null,
       "display": null,
       "flex": null,
       "flex_flow": null,
       "grid_area": null,
       "grid_auto_columns": null,
       "grid_auto_flow": null,
       "grid_auto_rows": null,
       "grid_column": null,
       "grid_gap": null,
       "grid_row": null,
       "grid_template_areas": null,
       "grid_template_columns": null,
       "grid_template_rows": null,
       "height": null,
       "justify_content": null,
       "justify_items": null,
       "left": null,
       "margin": null,
       "max_height": null,
       "max_width": null,
       "min_height": null,
       "min_width": null,
       "object_fit": null,
       "object_position": null,
       "order": null,
       "overflow": null,
       "overflow_x": null,
       "overflow_y": null,
       "padding": null,
       "right": null,
       "top": null,
       "visibility": null,
       "width": null
      }
     },
     "cae29c6e51824849930b2365f237e164": {
      "model_module": "@jupyter-widgets/base",
      "model_module_version": "1.2.0",
      "model_name": "LayoutModel",
      "state": {
       "_model_module": "@jupyter-widgets/base",
       "_model_module_version": "1.2.0",
       "_model_name": "LayoutModel",
       "_view_count": null,
       "_view_module": "@jupyter-widgets/base",
       "_view_module_version": "1.2.0",
       "_view_name": "LayoutView",
       "align_content": null,
       "align_items": null,
       "align_self": null,
       "border": null,
       "bottom": null,
       "display": null,
       "flex": null,
       "flex_flow": null,
       "grid_area": null,
       "grid_auto_columns": null,
       "grid_auto_flow": null,
       "grid_auto_rows": null,
       "grid_column": null,
       "grid_gap": null,
       "grid_row": null,
       "grid_template_areas": null,
       "grid_template_columns": null,
       "grid_template_rows": null,
       "height": null,
       "justify_content": null,
       "justify_items": null,
       "left": null,
       "margin": null,
       "max_height": null,
       "max_width": null,
       "min_height": null,
       "min_width": null,
       "object_fit": null,
       "object_position": null,
       "order": null,
       "overflow": null,
       "overflow_x": null,
       "overflow_y": null,
       "padding": null,
       "right": null,
       "top": null,
       "visibility": null,
       "width": null
      }
     },
     "d464425e756b4a61a347880edf686329": {
      "model_module": "@jupyter-widgets/controls",
      "model_module_version": "1.5.0",
      "model_name": "DescriptionStyleModel",
      "state": {
       "_model_module": "@jupyter-widgets/controls",
       "_model_module_version": "1.5.0",
       "_model_name": "DescriptionStyleModel",
       "_view_count": null,
       "_view_module": "@jupyter-widgets/base",
       "_view_module_version": "1.2.0",
       "_view_name": "StyleView",
       "description_width": ""
      }
     },
     "ea51e8b4e04b44ffb5f584d531cb9a50": {
      "model_module": "@jupyter-widgets/controls",
      "model_module_version": "1.5.0",
      "model_name": "ProgressStyleModel",
      "state": {
       "_model_module": "@jupyter-widgets/controls",
       "_model_module_version": "1.5.0",
       "_model_name": "ProgressStyleModel",
       "_view_count": null,
       "_view_module": "@jupyter-widgets/base",
       "_view_module_version": "1.2.0",
       "_view_name": "StyleView",
       "bar_color": null,
       "description_width": ""
      }
     },
     "ef10e1b7d03e449b9db43e97755980a6": {
      "model_module": "@jupyter-widgets/base",
      "model_module_version": "1.2.0",
      "model_name": "LayoutModel",
      "state": {
       "_model_module": "@jupyter-widgets/base",
       "_model_module_version": "1.2.0",
       "_model_name": "LayoutModel",
       "_view_count": null,
       "_view_module": "@jupyter-widgets/base",
       "_view_module_version": "1.2.0",
       "_view_name": "LayoutView",
       "align_content": null,
       "align_items": null,
       "align_self": null,
       "border": null,
       "bottom": null,
       "display": null,
       "flex": null,
       "flex_flow": null,
       "grid_area": null,
       "grid_auto_columns": null,
       "grid_auto_flow": null,
       "grid_auto_rows": null,
       "grid_column": null,
       "grid_gap": null,
       "grid_row": null,
       "grid_template_areas": null,
       "grid_template_columns": null,
       "grid_template_rows": null,
       "height": null,
       "justify_content": null,
       "justify_items": null,
       "left": null,
       "margin": null,
       "max_height": null,
       "max_width": null,
       "min_height": null,
       "min_width": null,
       "object_fit": null,
       "object_position": null,
       "order": null,
       "overflow": null,
       "overflow_x": null,
       "overflow_y": null,
       "padding": null,
       "right": null,
       "top": null,
       "visibility": null,
       "width": null
      }
     },
     "ff4121abe765444eb3e5f517dbed21ef": {
      "model_module": "@jupyter-widgets/controls",
      "model_module_version": "1.5.0",
      "model_name": "DescriptionStyleModel",
      "state": {
       "_model_module": "@jupyter-widgets/controls",
       "_model_module_version": "1.5.0",
       "_model_name": "DescriptionStyleModel",
       "_view_count": null,
       "_view_module": "@jupyter-widgets/base",
       "_view_module_version": "1.2.0",
       "_view_name": "StyleView",
       "description_width": ""
      }
     }
    },
    "version_major": 2,
    "version_minor": 0
   }
  }
 },
 "nbformat": 4,
 "nbformat_minor": 5
}
