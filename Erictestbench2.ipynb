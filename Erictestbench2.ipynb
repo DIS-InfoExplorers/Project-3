{
 "cells": [
  {
   "cell_type": "code",
   "execution_count": 1,
   "id": "initial_id",
   "metadata": {
    "collapsed": true,
    "jupyter": {
     "outputs_hidden": true
    },
    "ExecuteTime": {
     "end_time": "2023-12-09T16:10:25.578529Z",
     "start_time": "2023-12-09T16:10:25.085559Z"
    }
   },
   "outputs": [],
   "source": [
    "import numpy as np\n",
    "import pandas as pd\n",
    "import matplotlib.pyplot as plt\n",
    "import pickle\n",
    "from tqdm import tqdm\n",
    "import os\n",
    "import networkx as nx"
   ]
  },
  {
   "cell_type": "code",
   "execution_count": 2,
   "id": "b48f811c2f85b0e3",
   "metadata": {
    "collapsed": false,
    "ExecuteTime": {
     "end_time": "2023-12-09T16:10:29.500243Z",
     "start_time": "2023-12-09T16:10:25.579551Z"
    }
   },
   "outputs": [],
   "source": [
    "train = pd.read_csv('data/train.csv')\n",
    "test = pd.read_csv('data/test.csv')\n",
    "aliases = pd.read_csv('data/item_aliases.csv')\n",
    "property = pd.read_csv('data/property.csv')\n",
    "wiki_items = pd.read_csv('data/wiki_items.csv')\n",
    "\n"
   ]
  },
  {
   "cell_type": "code",
   "execution_count": 3,
   "id": "65ccedd512537462",
   "metadata": {
    "collapsed": false,
    "ExecuteTime": {
     "end_time": "2023-12-09T16:10:35.649795Z",
     "start_time": "2023-12-09T16:10:29.501130Z"
    }
   },
   "outputs": [],
   "source": [
    "statements = pd.read_csv('data/statements.csv')\n",
    "enwinki_redirects = pd.read_csv('data/enwiki_redirects.tsv', sep='\\t')"
   ]
  },
  {
   "cell_type": "code",
   "execution_count": 4,
   "id": "6fe03252a379c9a9",
   "metadata": {
    "collapsed": false,
    "ExecuteTime": {
     "end_time": "2023-12-09T16:10:35.660004Z",
     "start_time": "2023-12-09T16:10:35.651879Z"
    }
   },
   "outputs": [
    {
     "data": {
      "text/plain": "          source_item_id  edge_property_id  target_item_id\n0                      1               398          497745\n1                      1               398         1133705\n2                      1               398         1139177\n3                      1               398         7439451\n4                      1               398        15241043\n...                  ...               ...             ...\n26903183        77240068                31           16970\n26903184        77240068               131           23556\n26903185        77242291                17             145\n26903186        77242291               131           23311\n26903187        77242291               466         1537151\n\n[26903188 rows x 3 columns]",
      "text/html": "<div>\n<style scoped>\n    .dataframe tbody tr th:only-of-type {\n        vertical-align: middle;\n    }\n\n    .dataframe tbody tr th {\n        vertical-align: top;\n    }\n\n    .dataframe thead th {\n        text-align: right;\n    }\n</style>\n<table border=\"1\" class=\"dataframe\">\n  <thead>\n    <tr style=\"text-align: right;\">\n      <th></th>\n      <th>source_item_id</th>\n      <th>edge_property_id</th>\n      <th>target_item_id</th>\n    </tr>\n  </thead>\n  <tbody>\n    <tr>\n      <th>0</th>\n      <td>1</td>\n      <td>398</td>\n      <td>497745</td>\n    </tr>\n    <tr>\n      <th>1</th>\n      <td>1</td>\n      <td>398</td>\n      <td>1133705</td>\n    </tr>\n    <tr>\n      <th>2</th>\n      <td>1</td>\n      <td>398</td>\n      <td>1139177</td>\n    </tr>\n    <tr>\n      <th>3</th>\n      <td>1</td>\n      <td>398</td>\n      <td>7439451</td>\n    </tr>\n    <tr>\n      <th>4</th>\n      <td>1</td>\n      <td>398</td>\n      <td>15241043</td>\n    </tr>\n    <tr>\n      <th>...</th>\n      <td>...</td>\n      <td>...</td>\n      <td>...</td>\n    </tr>\n    <tr>\n      <th>26903183</th>\n      <td>77240068</td>\n      <td>31</td>\n      <td>16970</td>\n    </tr>\n    <tr>\n      <th>26903184</th>\n      <td>77240068</td>\n      <td>131</td>\n      <td>23556</td>\n    </tr>\n    <tr>\n      <th>26903185</th>\n      <td>77242291</td>\n      <td>17</td>\n      <td>145</td>\n    </tr>\n    <tr>\n      <th>26903186</th>\n      <td>77242291</td>\n      <td>131</td>\n      <td>23311</td>\n    </tr>\n    <tr>\n      <th>26903187</th>\n      <td>77242291</td>\n      <td>466</td>\n      <td>1537151</td>\n    </tr>\n  </tbody>\n</table>\n<p>26903188 rows × 3 columns</p>\n</div>"
     },
     "execution_count": 4,
     "metadata": {},
     "output_type": "execute_result"
    }
   ],
   "source": [
    "statements"
   ]
  },
  {
   "cell_type": "code",
   "execution_count": 5,
   "id": "ba74701519716b10",
   "metadata": {
    "collapsed": false,
    "ExecuteTime": {
     "end_time": "2023-12-09T16:10:35.661390Z",
     "start_time": "2023-12-09T16:10:35.658750Z"
    }
   },
   "outputs": [
    {
     "data": {
      "text/plain": "source_item_id           1\nedge_property_id       398\ntarget_item_id      497745\nName: 0, dtype: int64"
     },
     "metadata": {},
     "output_type": "display_data"
    }
   ],
   "source": [
    "display(statements.iloc[0])"
   ]
  },
  {
   "cell_type": "code",
   "execution_count": 6,
   "id": "dbd55410d0e1848",
   "metadata": {
    "collapsed": false,
    "ExecuteTime": {
     "end_time": "2023-12-09T16:10:35.665371Z",
     "start_time": "2023-12-09T16:10:35.663020Z"
    }
   },
   "outputs": [
    {
     "data": {
      "text/plain": "          item_id                                           en_alias\n0               1                                       Our Universe\n1               1                                       The Universe\n2               1                                         The Cosmos\n3               1                                             cosmos\n4               2                                        Blue Planet\n...           ...                                                ...\n1495310  76858465  Photinus luciferin 4-monooxygenase (adenosine ...\n1495311  76858465                                 firefly luciferase\n1495312  76868858                               12 Canum Venaticorum\n1495313  76868858                            Alpha Canum Venaticorum\n1495314  76955532                                             Meleph\n\n[1495315 rows x 2 columns]",
      "text/html": "<div>\n<style scoped>\n    .dataframe tbody tr th:only-of-type {\n        vertical-align: middle;\n    }\n\n    .dataframe tbody tr th {\n        vertical-align: top;\n    }\n\n    .dataframe thead th {\n        text-align: right;\n    }\n</style>\n<table border=\"1\" class=\"dataframe\">\n  <thead>\n    <tr style=\"text-align: right;\">\n      <th></th>\n      <th>item_id</th>\n      <th>en_alias</th>\n    </tr>\n  </thead>\n  <tbody>\n    <tr>\n      <th>0</th>\n      <td>1</td>\n      <td>Our Universe</td>\n    </tr>\n    <tr>\n      <th>1</th>\n      <td>1</td>\n      <td>The Universe</td>\n    </tr>\n    <tr>\n      <th>2</th>\n      <td>1</td>\n      <td>The Cosmos</td>\n    </tr>\n    <tr>\n      <th>3</th>\n      <td>1</td>\n      <td>cosmos</td>\n    </tr>\n    <tr>\n      <th>4</th>\n      <td>2</td>\n      <td>Blue Planet</td>\n    </tr>\n    <tr>\n      <th>...</th>\n      <td>...</td>\n      <td>...</td>\n    </tr>\n    <tr>\n      <th>1495310</th>\n      <td>76858465</td>\n      <td>Photinus luciferin 4-monooxygenase (adenosine ...</td>\n    </tr>\n    <tr>\n      <th>1495311</th>\n      <td>76858465</td>\n      <td>firefly luciferase</td>\n    </tr>\n    <tr>\n      <th>1495312</th>\n      <td>76868858</td>\n      <td>12 Canum Venaticorum</td>\n    </tr>\n    <tr>\n      <th>1495313</th>\n      <td>76868858</td>\n      <td>Alpha Canum Venaticorum</td>\n    </tr>\n    <tr>\n      <th>1495314</th>\n      <td>76955532</td>\n      <td>Meleph</td>\n    </tr>\n  </tbody>\n</table>\n<p>1495315 rows × 2 columns</p>\n</div>"
     },
     "execution_count": 6,
     "metadata": {},
     "output_type": "execute_result"
    }
   ],
   "source": [
    "aliases"
   ]
  },
  {
   "cell_type": "code",
   "execution_count": 7,
   "id": "994933b61a544624",
   "metadata": {
    "collapsed": false,
    "ExecuteTime": {
     "end_time": "2023-12-09T16:10:35.670007Z",
     "start_time": "2023-12-09T16:10:35.665829Z"
    }
   },
   "outputs": [
    {
     "data": {
      "text/plain": "          item_id                 en_label  \\\n0               1                 Universe   \n1               2                    Earth   \n2               3                     life   \n3               4                    death   \n4               5                    human   \n...           ...                      ...   \n5216231  77042017                  HR 4523   \n5216232  77043280         Charlie Johnston   \n5216233  77231860               Aldo Rossi   \n5216234  77240068  Ebenezer Baptist Church   \n5216235  77242291                New Court   \n\n                                            en_description  \\\n0                       totality of space and all contents   \n1            third planet from the Sun in the Solar System   \n2        matter capable of extracting energy from the e...   \n3                   permanent cessation of vital functions   \n4        common name of Homo sapiens, unique extant spe...   \n...                                                    ...   \n5216231                                                NaN   \n5216232                                                NaN   \n5216233                                           musician   \n5216234                    church in Atlanta, Georgia, USA   \n5216235           group of buildings in City of London, UK   \n\n                 wikipedia_title  \n0                       Universe  \n1                          Earth  \n2                           Life  \n3                          Death  \n4                          Human  \n...                          ...  \n5216231                HD 102365  \n5216232        Charlie Johnstone  \n5216233    Aldo Rossi (musician)  \n5216234  Ebenezer Baptist Church  \n5216235                New Court  \n\n[5216236 rows x 4 columns]",
      "text/html": "<div>\n<style scoped>\n    .dataframe tbody tr th:only-of-type {\n        vertical-align: middle;\n    }\n\n    .dataframe tbody tr th {\n        vertical-align: top;\n    }\n\n    .dataframe thead th {\n        text-align: right;\n    }\n</style>\n<table border=\"1\" class=\"dataframe\">\n  <thead>\n    <tr style=\"text-align: right;\">\n      <th></th>\n      <th>item_id</th>\n      <th>en_label</th>\n      <th>en_description</th>\n      <th>wikipedia_title</th>\n    </tr>\n  </thead>\n  <tbody>\n    <tr>\n      <th>0</th>\n      <td>1</td>\n      <td>Universe</td>\n      <td>totality of space and all contents</td>\n      <td>Universe</td>\n    </tr>\n    <tr>\n      <th>1</th>\n      <td>2</td>\n      <td>Earth</td>\n      <td>third planet from the Sun in the Solar System</td>\n      <td>Earth</td>\n    </tr>\n    <tr>\n      <th>2</th>\n      <td>3</td>\n      <td>life</td>\n      <td>matter capable of extracting energy from the e...</td>\n      <td>Life</td>\n    </tr>\n    <tr>\n      <th>3</th>\n      <td>4</td>\n      <td>death</td>\n      <td>permanent cessation of vital functions</td>\n      <td>Death</td>\n    </tr>\n    <tr>\n      <th>4</th>\n      <td>5</td>\n      <td>human</td>\n      <td>common name of Homo sapiens, unique extant spe...</td>\n      <td>Human</td>\n    </tr>\n    <tr>\n      <th>...</th>\n      <td>...</td>\n      <td>...</td>\n      <td>...</td>\n      <td>...</td>\n    </tr>\n    <tr>\n      <th>5216231</th>\n      <td>77042017</td>\n      <td>HR 4523</td>\n      <td>NaN</td>\n      <td>HD 102365</td>\n    </tr>\n    <tr>\n      <th>5216232</th>\n      <td>77043280</td>\n      <td>Charlie Johnston</td>\n      <td>NaN</td>\n      <td>Charlie Johnstone</td>\n    </tr>\n    <tr>\n      <th>5216233</th>\n      <td>77231860</td>\n      <td>Aldo Rossi</td>\n      <td>musician</td>\n      <td>Aldo Rossi (musician)</td>\n    </tr>\n    <tr>\n      <th>5216234</th>\n      <td>77240068</td>\n      <td>Ebenezer Baptist Church</td>\n      <td>church in Atlanta, Georgia, USA</td>\n      <td>Ebenezer Baptist Church</td>\n    </tr>\n    <tr>\n      <th>5216235</th>\n      <td>77242291</td>\n      <td>New Court</td>\n      <td>group of buildings in City of London, UK</td>\n      <td>New Court</td>\n    </tr>\n  </tbody>\n</table>\n<p>5216236 rows × 4 columns</p>\n</div>"
     },
     "execution_count": 7,
     "metadata": {},
     "output_type": "execute_result"
    }
   ],
   "source": [
    "wiki_items"
   ]
  },
  {
   "cell_type": "code",
   "execution_count": 8,
   "id": "48c445931692d25c",
   "metadata": {
    "collapsed": false,
    "ExecuteTime": {
     "end_time": "2023-12-09T16:10:35.702488Z",
     "start_time": "2023-12-09T16:10:35.670418Z"
    }
   },
   "outputs": [
    {
     "data": {
      "text/plain": "          source_item_id  edge_property_id  target_item_id\n0                      1               398          497745\n1                      1               398         1133705\n2                      1               398         1139177\n3                      1               398         7439451\n4                      1               398        15241043\n...                  ...               ...             ...\n26903183        77240068                31           16970\n26903184        77240068               131           23556\n26903185        77242291                17             145\n26903186        77242291               131           23311\n26903187        77242291               466         1537151\n\n[26903188 rows x 3 columns]",
      "text/html": "<div>\n<style scoped>\n    .dataframe tbody tr th:only-of-type {\n        vertical-align: middle;\n    }\n\n    .dataframe tbody tr th {\n        vertical-align: top;\n    }\n\n    .dataframe thead th {\n        text-align: right;\n    }\n</style>\n<table border=\"1\" class=\"dataframe\">\n  <thead>\n    <tr style=\"text-align: right;\">\n      <th></th>\n      <th>source_item_id</th>\n      <th>edge_property_id</th>\n      <th>target_item_id</th>\n    </tr>\n  </thead>\n  <tbody>\n    <tr>\n      <th>0</th>\n      <td>1</td>\n      <td>398</td>\n      <td>497745</td>\n    </tr>\n    <tr>\n      <th>1</th>\n      <td>1</td>\n      <td>398</td>\n      <td>1133705</td>\n    </tr>\n    <tr>\n      <th>2</th>\n      <td>1</td>\n      <td>398</td>\n      <td>1139177</td>\n    </tr>\n    <tr>\n      <th>3</th>\n      <td>1</td>\n      <td>398</td>\n      <td>7439451</td>\n    </tr>\n    <tr>\n      <th>4</th>\n      <td>1</td>\n      <td>398</td>\n      <td>15241043</td>\n    </tr>\n    <tr>\n      <th>...</th>\n      <td>...</td>\n      <td>...</td>\n      <td>...</td>\n    </tr>\n    <tr>\n      <th>26903183</th>\n      <td>77240068</td>\n      <td>31</td>\n      <td>16970</td>\n    </tr>\n    <tr>\n      <th>26903184</th>\n      <td>77240068</td>\n      <td>131</td>\n      <td>23556</td>\n    </tr>\n    <tr>\n      <th>26903185</th>\n      <td>77242291</td>\n      <td>17</td>\n      <td>145</td>\n    </tr>\n    <tr>\n      <th>26903186</th>\n      <td>77242291</td>\n      <td>131</td>\n      <td>23311</td>\n    </tr>\n    <tr>\n      <th>26903187</th>\n      <td>77242291</td>\n      <td>466</td>\n      <td>1537151</td>\n    </tr>\n  </tbody>\n</table>\n<p>26903188 rows × 3 columns</p>\n</div>"
     },
     "execution_count": 8,
     "metadata": {},
     "output_type": "execute_result"
    }
   ],
   "source": [
    "statements"
   ]
  },
  {
   "cell_type": "code",
   "execution_count": 9,
   "id": "c454e67223329a5a",
   "metadata": {
    "collapsed": false,
    "ExecuteTime": {
     "end_time": "2023-12-09T16:10:35.729599Z",
     "start_time": "2023-12-09T16:10:35.674213Z"
    }
   },
   "outputs": [],
   "source": [
    "def to_edge(row):\n",
    "    print(row)\n",
    "    return (row['source_item_id'], row['target_item_id'])"
   ]
  },
  {
   "cell_type": "code",
   "execution_count": 10,
   "id": "6017959b2fd971b0",
   "metadata": {
    "collapsed": false,
    "ExecuteTime": {
     "end_time": "2023-12-09T16:10:35.761837Z",
     "start_time": "2023-12-09T16:10:35.676704Z"
    }
   },
   "outputs": [
    {
     "data": {
      "text/plain": "array([[       1,   497745],\n       [       1,  1133705],\n       [       1,  1139177],\n       ...,\n       [77242291,      145],\n       [77242291,    23311],\n       [77242291,  1537151]])"
     },
     "execution_count": 10,
     "metadata": {},
     "output_type": "execute_result"
    }
   ],
   "source": [
    "edges = statements[['source_item_id', 'target_item_id']].values\n",
    "edges"
   ]
  },
  {
   "cell_type": "code",
   "execution_count": 11,
   "id": "a267fcc3efe29174",
   "metadata": {
    "collapsed": false,
    "ExecuteTime": {
     "end_time": "2023-12-09T16:11:21.851800Z",
     "start_time": "2023-12-09T16:10:35.819053Z"
    }
   },
   "outputs": [],
   "source": [
    "#Takes 44 seconds.\n",
    "# Create a generator for edges\n",
    "edge_generator = ((row[0], row[1]) for row in edges)\n",
    "\n",
    "# Create a graph with these edges\n",
    "G = nx.Graph()\n",
    "G.add_edges_from(edge_generator)"
   ]
  },
  {
   "cell_type": "code",
   "execution_count": 12,
   "id": "9007ca384750b5fb",
   "metadata": {
    "collapsed": false,
    "ExecuteTime": {
     "end_time": "2023-12-09T16:11:21.855996Z",
     "start_time": "2023-12-09T16:11:21.853261Z"
    }
   },
   "outputs": [],
   "source": [
    "#non_na = test[~test.wiki_url.isna()]"
   ]
  },
  {
   "cell_type": "code",
   "execution_count": 13,
   "id": "85eeff6089799b26",
   "metadata": {
    "collapsed": false,
    "ExecuteTime": {
     "end_time": "2023-12-09T16:11:21.862697Z",
     "start_time": "2023-12-09T16:11:21.856614Z"
    }
   },
   "outputs": [
    {
     "data": {
      "text/plain": "            id                          token entity_tag    full_mention  \\\n0            0  -DOCSTART- (947testa CRICKET)        NaN             NaN   \n1            1                        CRICKET        NaN             NaN   \n2            2                              -        NaN             NaN   \n3            3                 LEICESTERSHIRE          B  LEICESTERSHIRE   \n4            4                           TAKE        NaN             NaN   \n...        ...                            ...        ...             ...   \n104885  104885                        brother        NaN             NaN   \n104886  104886                              ,        NaN             NaN   \n104887  104887                          Bobby          B           Bobby   \n104888  104888                              .        NaN             NaN   \n104889  104889                            NaN        NaN             NaN   \n\n       wiki_url  \n0           NaN  \n1           NaN  \n2           NaN  \n3             ?  \n4           NaN  \n...         ...  \n104885      NaN  \n104886      NaN  \n104887        ?  \n104888      NaN  \n104889      NaN  \n\n[104890 rows x 5 columns]",
      "text/html": "<div>\n<style scoped>\n    .dataframe tbody tr th:only-of-type {\n        vertical-align: middle;\n    }\n\n    .dataframe tbody tr th {\n        vertical-align: top;\n    }\n\n    .dataframe thead th {\n        text-align: right;\n    }\n</style>\n<table border=\"1\" class=\"dataframe\">\n  <thead>\n    <tr style=\"text-align: right;\">\n      <th></th>\n      <th>id</th>\n      <th>token</th>\n      <th>entity_tag</th>\n      <th>full_mention</th>\n      <th>wiki_url</th>\n    </tr>\n  </thead>\n  <tbody>\n    <tr>\n      <th>0</th>\n      <td>0</td>\n      <td>-DOCSTART- (947testa CRICKET)</td>\n      <td>NaN</td>\n      <td>NaN</td>\n      <td>NaN</td>\n    </tr>\n    <tr>\n      <th>1</th>\n      <td>1</td>\n      <td>CRICKET</td>\n      <td>NaN</td>\n      <td>NaN</td>\n      <td>NaN</td>\n    </tr>\n    <tr>\n      <th>2</th>\n      <td>2</td>\n      <td>-</td>\n      <td>NaN</td>\n      <td>NaN</td>\n      <td>NaN</td>\n    </tr>\n    <tr>\n      <th>3</th>\n      <td>3</td>\n      <td>LEICESTERSHIRE</td>\n      <td>B</td>\n      <td>LEICESTERSHIRE</td>\n      <td>?</td>\n    </tr>\n    <tr>\n      <th>4</th>\n      <td>4</td>\n      <td>TAKE</td>\n      <td>NaN</td>\n      <td>NaN</td>\n      <td>NaN</td>\n    </tr>\n    <tr>\n      <th>...</th>\n      <td>...</td>\n      <td>...</td>\n      <td>...</td>\n      <td>...</td>\n      <td>...</td>\n    </tr>\n    <tr>\n      <th>104885</th>\n      <td>104885</td>\n      <td>brother</td>\n      <td>NaN</td>\n      <td>NaN</td>\n      <td>NaN</td>\n    </tr>\n    <tr>\n      <th>104886</th>\n      <td>104886</td>\n      <td>,</td>\n      <td>NaN</td>\n      <td>NaN</td>\n      <td>NaN</td>\n    </tr>\n    <tr>\n      <th>104887</th>\n      <td>104887</td>\n      <td>Bobby</td>\n      <td>B</td>\n      <td>Bobby</td>\n      <td>?</td>\n    </tr>\n    <tr>\n      <th>104888</th>\n      <td>104888</td>\n      <td>.</td>\n      <td>NaN</td>\n      <td>NaN</td>\n      <td>NaN</td>\n    </tr>\n    <tr>\n      <th>104889</th>\n      <td>104889</td>\n      <td>NaN</td>\n      <td>NaN</td>\n      <td>NaN</td>\n      <td>NaN</td>\n    </tr>\n  </tbody>\n</table>\n<p>104890 rows × 5 columns</p>\n</div>"
     },
     "execution_count": 13,
     "metadata": {},
     "output_type": "execute_result"
    }
   ],
   "source": [
    "#test"
   ]
  },
  {
   "cell_type": "code",
   "execution_count": 14,
   "id": "47812641f358d11a",
   "metadata": {
    "collapsed": false,
    "ExecuteTime": {
     "end_time": "2023-12-09T16:11:21.865836Z",
     "start_time": "2023-12-09T16:11:21.864266Z"
    }
   },
   "outputs": [],
   "source": [
    "def find_doc_range(df):\n",
    "    def check_docstart(row):\n",
    "        # This function returns the 'id' if 'token' contains 'DOCSTART', otherwise NaN\n",
    "        if pd.notnull(row['token']) and 'DOCSTART' in row['token']:\n",
    "            return True\n",
    "        else:\n",
    "            return False # Using pandas NA to handle missing values\n",
    "\n",
    "    # Apply the function across the DataFrame.\n",
    "    data = df.copy()\n",
    "    data['docstart_id'] = df.apply(check_docstart, axis=1)\n",
    "    start_ids = data[data['docstart_id']]['id'].values\n",
    "    print(len(start_ids))\n",
    "    end_ids = start_ids[1:] - 1\n",
    "    end_ids = np.append(end_ids,len(df))\n",
    "    docs_range = zip(start_ids, end_ids)\n",
    "    return docs_range\n"
   ]
  },
  {
   "cell_type": "code",
   "execution_count": 15,
   "id": "176b2815de450575",
   "metadata": {
    "collapsed": false,
    "ExecuteTime": {
     "end_time": "2023-12-09T16:11:21.870966Z",
     "start_time": "2023-12-09T16:11:21.869326Z"
    }
   },
   "outputs": [],
   "source": [
    "def compute_distance(G, possible_vertices, document_vertices):\n",
    "    \"\"\"\n",
    "    Computes the shortest path distance from each vertex in possible_vertices\n",
    "    to each vertex in document_vertices in the graph G.\n",
    "\n",
    "    Parameters:\n",
    "    G (nx.Graph): The graph containing the vertices.\n",
    "    possible_vertices (list): A list of vertices from which distances are calculated.\n",
    "    document_vertices (list): A list of vertices representing the document.\n",
    "\n",
    "    Returns:\n",
    "    dict: A dictionary where keys are vertices from possible_vertices and values\n",
    "    are dictionaries with document vertices as keys and distances as values.\n",
    "    \"\"\"\n",
    "    distances = {}\n",
    "    for vertex in possible_vertices:\n",
    "        distances[vertex] = {}\n",
    "        for doc_vertex in document_vertices:\n",
    "            try:\n",
    "                # Compute the shortest path length\n",
    "                distance = nx.shortest_path_length(G, source=vertex, target=doc_vertex)\n",
    "                distances[vertex][doc_vertex] = distance\n",
    "            except nx.NetworkXNoPath:\n",
    "                # In case there is no path between vertex and doc_vertex\n",
    "                distances[vertex][doc_vertex] = float('inf')\n",
    "    return distances"
   ]
  },
  {
   "cell_type": "code",
   "execution_count": 16,
   "outputs": [
    {
     "data": {
      "text/plain": "          item_id                 en_label  \\\n0               1                 Universe   \n1               1                 Universe   \n2               1                 Universe   \n3               1                 Universe   \n4               2                    Earth   \n...           ...                      ...   \n5853141  77042017                  HR 4523   \n5853142  77043280         Charlie Johnston   \n5853143  77231860               Aldo Rossi   \n5853144  77240068  Ebenezer Baptist Church   \n5853145  77242291                New Court   \n\n                                        en_description  \\\n0                   totality of space and all contents   \n1                   totality of space and all contents   \n2                   totality of space and all contents   \n3                   totality of space and all contents   \n4        third planet from the Sun in the Solar System   \n...                                                ...   \n5853141                                            NaN   \n5853142                                            NaN   \n5853143                                       musician   \n5853144                church in Atlanta, Georgia, USA   \n5853145       group of buildings in City of London, UK   \n\n                 wikipedia_title      en_alias  \n0                       Universe  our universe  \n1                       Universe  the universe  \n2                       Universe    the cosmos  \n3                       Universe        cosmos  \n4                          Earth   blue planet  \n...                          ...           ...  \n5853141                HD 102365           NaN  \n5853142        Charlie Johnstone           NaN  \n5853143    Aldo Rossi (musician)           NaN  \n5853144  Ebenezer Baptist Church           NaN  \n5853145                New Court           NaN  \n\n[5853146 rows x 5 columns]",
      "text/html": "<div>\n<style scoped>\n    .dataframe tbody tr th:only-of-type {\n        vertical-align: middle;\n    }\n\n    .dataframe tbody tr th {\n        vertical-align: top;\n    }\n\n    .dataframe thead th {\n        text-align: right;\n    }\n</style>\n<table border=\"1\" class=\"dataframe\">\n  <thead>\n    <tr style=\"text-align: right;\">\n      <th></th>\n      <th>item_id</th>\n      <th>en_label</th>\n      <th>en_description</th>\n      <th>wikipedia_title</th>\n      <th>en_alias</th>\n    </tr>\n  </thead>\n  <tbody>\n    <tr>\n      <th>0</th>\n      <td>1</td>\n      <td>Universe</td>\n      <td>totality of space and all contents</td>\n      <td>Universe</td>\n      <td>our universe</td>\n    </tr>\n    <tr>\n      <th>1</th>\n      <td>1</td>\n      <td>Universe</td>\n      <td>totality of space and all contents</td>\n      <td>Universe</td>\n      <td>the universe</td>\n    </tr>\n    <tr>\n      <th>2</th>\n      <td>1</td>\n      <td>Universe</td>\n      <td>totality of space and all contents</td>\n      <td>Universe</td>\n      <td>the cosmos</td>\n    </tr>\n    <tr>\n      <th>3</th>\n      <td>1</td>\n      <td>Universe</td>\n      <td>totality of space and all contents</td>\n      <td>Universe</td>\n      <td>cosmos</td>\n    </tr>\n    <tr>\n      <th>4</th>\n      <td>2</td>\n      <td>Earth</td>\n      <td>third planet from the Sun in the Solar System</td>\n      <td>Earth</td>\n      <td>blue planet</td>\n    </tr>\n    <tr>\n      <th>...</th>\n      <td>...</td>\n      <td>...</td>\n      <td>...</td>\n      <td>...</td>\n      <td>...</td>\n    </tr>\n    <tr>\n      <th>5853141</th>\n      <td>77042017</td>\n      <td>HR 4523</td>\n      <td>NaN</td>\n      <td>HD 102365</td>\n      <td>NaN</td>\n    </tr>\n    <tr>\n      <th>5853142</th>\n      <td>77043280</td>\n      <td>Charlie Johnston</td>\n      <td>NaN</td>\n      <td>Charlie Johnstone</td>\n      <td>NaN</td>\n    </tr>\n    <tr>\n      <th>5853143</th>\n      <td>77231860</td>\n      <td>Aldo Rossi</td>\n      <td>musician</td>\n      <td>Aldo Rossi (musician)</td>\n      <td>NaN</td>\n    </tr>\n    <tr>\n      <th>5853144</th>\n      <td>77240068</td>\n      <td>Ebenezer Baptist Church</td>\n      <td>church in Atlanta, Georgia, USA</td>\n      <td>Ebenezer Baptist Church</td>\n      <td>NaN</td>\n    </tr>\n    <tr>\n      <th>5853145</th>\n      <td>77242291</td>\n      <td>New Court</td>\n      <td>group of buildings in City of London, UK</td>\n      <td>New Court</td>\n      <td>NaN</td>\n    </tr>\n  </tbody>\n</table>\n<p>5853146 rows × 5 columns</p>\n</div>"
     },
     "execution_count": 16,
     "metadata": {},
     "output_type": "execute_result"
    }
   ],
   "source": [
    "test_df_mod = test.copy(deep=True)\n",
    "train_df_mod = train.copy(deep=True)\n",
    "URL = 'http://en.wikipedia.org/wiki/'\n",
    "merged_wiki_items = wiki_items.merge(aliases, how='left', on='item_id')\n",
    "merged_wiki_items['en_alias'] = merged_wiki_items['en_alias'].str.lower()\n",
    "merged_wiki_items"
   ],
   "metadata": {
    "collapsed": false,
    "ExecuteTime": {
     "end_time": "2023-12-09T16:11:23.082034Z",
     "start_time": "2023-12-09T16:11:21.871818Z"
    }
   },
   "id": "78364b15cd312f33"
  },
  {
   "cell_type": "code",
   "execution_count": 17,
   "outputs": [
    {
     "name": "stderr",
     "output_type": "stream",
     "text": [
      "100%|██████████| 104890/104890 [04:12<00:00, 415.86it/s] \n"
     ]
    }
   ],
   "source": [
    "for index, row in tqdm(test_df_mod.iterrows(), total=test_df_mod.shape[0]):\n",
    "    if str(row['wiki_url']) == 'nan' or row['wiki_url'] != '?':\n",
    "        continue\n",
    "        \n",
    "    token = row['full_mention']\n",
    "    train_url = train_df_mod[train_df_mod['full_mention'] == token]['wiki_url'].values\n",
    "    \n",
    "    if len(train_url) > 0:\n",
    "        test_df_mod.at[index, 'wiki_url'] = train_url[0]\n",
    "        \n",
    "    else:\n",
    "        wiki_title = merged_wiki_items[merged_wiki_items['en_alias'] == token]['wikipedia_title'].values\n",
    "        \n",
    "        if len(wiki_title) > 0:\n",
    "            test_df_mod.at[index, 'wiki_url'] = URL + wiki_title[0].replace(' ', '_')"
   ],
   "metadata": {
    "collapsed": false,
    "ExecuteTime": {
     "end_time": "2023-12-09T16:15:35.415986Z",
     "start_time": "2023-12-09T16:11:23.083204Z"
    }
   },
   "id": "c16a2b1dd2a960c"
  },
  {
   "cell_type": "code",
   "execution_count": 18,
   "outputs": [],
   "source": [
    "try:\n",
    "    test_df_mod = pd.read_pickle('pkl/' + 'opti_test_df.pkl')\n",
    "except:\n",
    "    # Load data from csv\n",
    "    test_df_mod.to_pickle('pkl/' + 'opti_test_df.pkl')"
   ],
   "metadata": {
    "collapsed": false,
    "ExecuteTime": {
     "end_time": "2023-12-09T16:15:35.426354Z",
     "start_time": "2023-12-09T16:15:35.415636Z"
    }
   },
   "id": "796ba028b0340077"
  },
  {
   "cell_type": "code",
   "execution_count": 19,
   "outputs": [
    {
     "data": {
      "text/plain": "2759"
     },
     "execution_count": 19,
     "metadata": {},
     "output_type": "execute_result"
    }
   ],
   "source": [
    "(test_df_mod['wiki_url'] == '?').sum()"
   ],
   "metadata": {
    "collapsed": false,
    "ExecuteTime": {
     "end_time": "2023-12-09T16:15:35.431206Z",
     "start_time": "2023-12-09T16:15:35.428578Z"
    }
   },
   "id": "69d6570dddff1398"
  },
  {
   "cell_type": "code",
   "execution_count": 20,
   "outputs": [],
   "source": [
    "non_na_test = test_df_mod[~test_df_mod.wiki_url.isna()]"
   ],
   "metadata": {
    "collapsed": false,
    "ExecuteTime": {
     "end_time": "2023-12-09T16:15:35.435162Z",
     "start_time": "2023-12-09T16:15:35.432563Z"
    }
   },
   "id": "e9c9edf13d1ab29a"
  },
  {
   "cell_type": "code",
   "execution_count": 21,
   "outputs": [
    {
     "name": "stdout",
     "output_type": "stream",
     "text": [
      "447\n"
     ]
    },
    {
     "data": {
      "text/plain": "      id            token entity_tag     full_mention  \\\n3      3   LEICESTERSHIRE          B   LEICESTERSHIRE   \n13    13           LONDON          B           LONDON   \n16    16             West          B      West Indian   \n19    19             Phil          B     Phil Simmons   \n28    28   Leicestershire          B   Leicestershire   \n30    30         Somerset          B         Somerset   \n65    65            Essex          B            Essex   \n67    67       Derbyshire          B       Derbyshire   \n69    69           Surrey          B           Surrey   \n76    76             Kent          B             Kent   \n87    87  Nottinghamshire          B  Nottinghamshire   \n92    92         Somerset          B         Somerset   \n101  101            Grace          B       Grace Road   \n104  104   Leicestershire          B   Leicestershire   \n119  119          England          B          England   \n121  121             Andy          B     Andy Caddick   \n133  133         Somerset          B         Somerset   \n143  143          Simmons          B          Simmons   \n154  154            Essex          B            Essex   \n166  166           Nasser          B   Nasser Hussain   \n169  169            Peter          B       Peter Such   \n180  180        Yorkshire          B        Yorkshire   \n182  182       Headingley          B       Headingley   \n185  185          Hussain          B          Hussain   \n190  190          England          B          England   \n207  207            Essex          B            Essex   \n223  223        Yorkshire          B        Yorkshire   \n233  233             Such          B             Such   \n262  262             Oval          B             Oval   \n264  264           Surrey          B           Surrey   \n266  266            Chris          B      Chris Lewis   \n273  273          England          B          England   \n299  299     Warwickshire          B     Warwickshire   \n307  307          England          B          England   \n309  309             Mark          B     Mark Butcher   \n315  315           Surrey          B           Surrey   \n328  328       Derbyshire          B       Derbyshire   \n342  342   Worcestershire          B   Worcestershire   \n363  363       Australian          B       Australian   \n364  364              Tom          B        Tom Moody   \n371  371            Chris          B      Chris Adams   \n377  377              Tim          B     Tim O'Gorman   \n378  378         O'Gorman          I     Tim O'Gorman   \n383  383       Derbyshire          B       Derbyshire   \n412  412             Kent          B             Kent   \n419  419  Nottinghamshire          B  Nottinghamshire   \n433  433             Paul          B     Paul Johnson   \n436  436       ex-England          B       ex-England   \n439  439           Martin          B   Martin McCague   \n449  449             Kent          B             Kent   \n\n                                              wiki_url  wikipedia_title  \n3                                                    ?              NaN  \n13                 http://en.wikipedia.org/wiki/London              NaN  \n16                                                   ?              NaN  \n19                                                   ?              NaN  \n28   http://en.wikipedia.org/wiki/Leicestershire_Co...              NaN  \n30   http://en.wikipedia.org/wiki/Somerset_County_C...              NaN  \n65   http://en.wikipedia.org/wiki/Essex_County_Cric...              NaN  \n67   http://en.wikipedia.org/wiki/Derbyshire_County...              NaN  \n69   http://en.wikipedia.org/wiki/Surrey_County_Cri...              NaN  \n76   http://en.wikipedia.org/wiki/Kent_County_Crick...              NaN  \n87   http://en.wikipedia.org/wiki/Nottinghamshire_C...              NaN  \n92   http://en.wikipedia.org/wiki/Somerset_County_C...              NaN  \n101                                                  ?              NaN  \n104  http://en.wikipedia.org/wiki/Leicestershire_Co...              NaN  \n119               http://en.wikipedia.org/wiki/England              NaN  \n121        http://en.wikipedia.org/wiki/Andrew_Caddick              NaN  \n133  http://en.wikipedia.org/wiki/Somerset_County_C...              NaN  \n143                                                  ?              NaN  \n154  http://en.wikipedia.org/wiki/Essex_County_Cric...              NaN  \n166        http://en.wikipedia.org/wiki/Nasser_Hussain              NaN  \n169                                                  ?              NaN  \n180  http://en.wikipedia.org/wiki/Yorkshire_County_...              NaN  \n182    http://en.wikipedia.org/wiki/Headingley_Stadium              NaN  \n185        http://en.wikipedia.org/wiki/Nasser_Hussain              NaN  \n190               http://en.wikipedia.org/wiki/England              NaN  \n207  http://en.wikipedia.org/wiki/Essex_County_Cric...              NaN  \n223  http://en.wikipedia.org/wiki/Yorkshire_County_...              NaN  \n233                                                  ?              NaN  \n262              http://en.wikipedia.org/wiki/The_Oval              NaN  \n264  http://en.wikipedia.org/wiki/Surrey_County_Cri...              NaN  \n266  http://en.wikipedia.org/wiki/Chris_Lewis_(cric...              NaN  \n273               http://en.wikipedia.org/wiki/England              NaN  \n299  http://en.wikipedia.org/wiki/Warwickshire_Coun...              NaN  \n307               http://en.wikipedia.org/wiki/England              NaN  \n309                                                  ?              NaN  \n315  http://en.wikipedia.org/wiki/Surrey_County_Cri...              NaN  \n328  http://en.wikipedia.org/wiki/Derbyshire_County...              NaN  \n342  http://en.wikipedia.org/wiki/Worcestershire_Co...              NaN  \n363             http://en.wikipedia.org/wiki/Australia              NaN  \n364                                                  ?              NaN  \n371                                                  ?              NaN  \n377                                            --NME--              NaN  \n378                                            --NME--              NaN  \n383  http://en.wikipedia.org/wiki/Derbyshire_County...              NaN  \n412  http://en.wikipedia.org/wiki/Kent_County_Crick...              NaN  \n419  http://en.wikipedia.org/wiki/Nottinghamshire_C...              NaN  \n433  http://en.wikipedia.org/wiki/Paul_Johnson_(squ...              NaN  \n436                                            --NME--              NaN  \n439                                                  ?              NaN  \n449  http://en.wikipedia.org/wiki/Kent_County_Crick...              NaN  ",
      "text/html": "<div>\n<style scoped>\n    .dataframe tbody tr th:only-of-type {\n        vertical-align: middle;\n    }\n\n    .dataframe tbody tr th {\n        vertical-align: top;\n    }\n\n    .dataframe thead th {\n        text-align: right;\n    }\n</style>\n<table border=\"1\" class=\"dataframe\">\n  <thead>\n    <tr style=\"text-align: right;\">\n      <th></th>\n      <th>id</th>\n      <th>token</th>\n      <th>entity_tag</th>\n      <th>full_mention</th>\n      <th>wiki_url</th>\n      <th>wikipedia_title</th>\n    </tr>\n  </thead>\n  <tbody>\n    <tr>\n      <th>3</th>\n      <td>3</td>\n      <td>LEICESTERSHIRE</td>\n      <td>B</td>\n      <td>LEICESTERSHIRE</td>\n      <td>?</td>\n      <td>NaN</td>\n    </tr>\n    <tr>\n      <th>13</th>\n      <td>13</td>\n      <td>LONDON</td>\n      <td>B</td>\n      <td>LONDON</td>\n      <td>http://en.wikipedia.org/wiki/London</td>\n      <td>NaN</td>\n    </tr>\n    <tr>\n      <th>16</th>\n      <td>16</td>\n      <td>West</td>\n      <td>B</td>\n      <td>West Indian</td>\n      <td>?</td>\n      <td>NaN</td>\n    </tr>\n    <tr>\n      <th>19</th>\n      <td>19</td>\n      <td>Phil</td>\n      <td>B</td>\n      <td>Phil Simmons</td>\n      <td>?</td>\n      <td>NaN</td>\n    </tr>\n    <tr>\n      <th>28</th>\n      <td>28</td>\n      <td>Leicestershire</td>\n      <td>B</td>\n      <td>Leicestershire</td>\n      <td>http://en.wikipedia.org/wiki/Leicestershire_Co...</td>\n      <td>NaN</td>\n    </tr>\n    <tr>\n      <th>30</th>\n      <td>30</td>\n      <td>Somerset</td>\n      <td>B</td>\n      <td>Somerset</td>\n      <td>http://en.wikipedia.org/wiki/Somerset_County_C...</td>\n      <td>NaN</td>\n    </tr>\n    <tr>\n      <th>65</th>\n      <td>65</td>\n      <td>Essex</td>\n      <td>B</td>\n      <td>Essex</td>\n      <td>http://en.wikipedia.org/wiki/Essex_County_Cric...</td>\n      <td>NaN</td>\n    </tr>\n    <tr>\n      <th>67</th>\n      <td>67</td>\n      <td>Derbyshire</td>\n      <td>B</td>\n      <td>Derbyshire</td>\n      <td>http://en.wikipedia.org/wiki/Derbyshire_County...</td>\n      <td>NaN</td>\n    </tr>\n    <tr>\n      <th>69</th>\n      <td>69</td>\n      <td>Surrey</td>\n      <td>B</td>\n      <td>Surrey</td>\n      <td>http://en.wikipedia.org/wiki/Surrey_County_Cri...</td>\n      <td>NaN</td>\n    </tr>\n    <tr>\n      <th>76</th>\n      <td>76</td>\n      <td>Kent</td>\n      <td>B</td>\n      <td>Kent</td>\n      <td>http://en.wikipedia.org/wiki/Kent_County_Crick...</td>\n      <td>NaN</td>\n    </tr>\n    <tr>\n      <th>87</th>\n      <td>87</td>\n      <td>Nottinghamshire</td>\n      <td>B</td>\n      <td>Nottinghamshire</td>\n      <td>http://en.wikipedia.org/wiki/Nottinghamshire_C...</td>\n      <td>NaN</td>\n    </tr>\n    <tr>\n      <th>92</th>\n      <td>92</td>\n      <td>Somerset</td>\n      <td>B</td>\n      <td>Somerset</td>\n      <td>http://en.wikipedia.org/wiki/Somerset_County_C...</td>\n      <td>NaN</td>\n    </tr>\n    <tr>\n      <th>101</th>\n      <td>101</td>\n      <td>Grace</td>\n      <td>B</td>\n      <td>Grace Road</td>\n      <td>?</td>\n      <td>NaN</td>\n    </tr>\n    <tr>\n      <th>104</th>\n      <td>104</td>\n      <td>Leicestershire</td>\n      <td>B</td>\n      <td>Leicestershire</td>\n      <td>http://en.wikipedia.org/wiki/Leicestershire_Co...</td>\n      <td>NaN</td>\n    </tr>\n    <tr>\n      <th>119</th>\n      <td>119</td>\n      <td>England</td>\n      <td>B</td>\n      <td>England</td>\n      <td>http://en.wikipedia.org/wiki/England</td>\n      <td>NaN</td>\n    </tr>\n    <tr>\n      <th>121</th>\n      <td>121</td>\n      <td>Andy</td>\n      <td>B</td>\n      <td>Andy Caddick</td>\n      <td>http://en.wikipedia.org/wiki/Andrew_Caddick</td>\n      <td>NaN</td>\n    </tr>\n    <tr>\n      <th>133</th>\n      <td>133</td>\n      <td>Somerset</td>\n      <td>B</td>\n      <td>Somerset</td>\n      <td>http://en.wikipedia.org/wiki/Somerset_County_C...</td>\n      <td>NaN</td>\n    </tr>\n    <tr>\n      <th>143</th>\n      <td>143</td>\n      <td>Simmons</td>\n      <td>B</td>\n      <td>Simmons</td>\n      <td>?</td>\n      <td>NaN</td>\n    </tr>\n    <tr>\n      <th>154</th>\n      <td>154</td>\n      <td>Essex</td>\n      <td>B</td>\n      <td>Essex</td>\n      <td>http://en.wikipedia.org/wiki/Essex_County_Cric...</td>\n      <td>NaN</td>\n    </tr>\n    <tr>\n      <th>166</th>\n      <td>166</td>\n      <td>Nasser</td>\n      <td>B</td>\n      <td>Nasser Hussain</td>\n      <td>http://en.wikipedia.org/wiki/Nasser_Hussain</td>\n      <td>NaN</td>\n    </tr>\n    <tr>\n      <th>169</th>\n      <td>169</td>\n      <td>Peter</td>\n      <td>B</td>\n      <td>Peter Such</td>\n      <td>?</td>\n      <td>NaN</td>\n    </tr>\n    <tr>\n      <th>180</th>\n      <td>180</td>\n      <td>Yorkshire</td>\n      <td>B</td>\n      <td>Yorkshire</td>\n      <td>http://en.wikipedia.org/wiki/Yorkshire_County_...</td>\n      <td>NaN</td>\n    </tr>\n    <tr>\n      <th>182</th>\n      <td>182</td>\n      <td>Headingley</td>\n      <td>B</td>\n      <td>Headingley</td>\n      <td>http://en.wikipedia.org/wiki/Headingley_Stadium</td>\n      <td>NaN</td>\n    </tr>\n    <tr>\n      <th>185</th>\n      <td>185</td>\n      <td>Hussain</td>\n      <td>B</td>\n      <td>Hussain</td>\n      <td>http://en.wikipedia.org/wiki/Nasser_Hussain</td>\n      <td>NaN</td>\n    </tr>\n    <tr>\n      <th>190</th>\n      <td>190</td>\n      <td>England</td>\n      <td>B</td>\n      <td>England</td>\n      <td>http://en.wikipedia.org/wiki/England</td>\n      <td>NaN</td>\n    </tr>\n    <tr>\n      <th>207</th>\n      <td>207</td>\n      <td>Essex</td>\n      <td>B</td>\n      <td>Essex</td>\n      <td>http://en.wikipedia.org/wiki/Essex_County_Cric...</td>\n      <td>NaN</td>\n    </tr>\n    <tr>\n      <th>223</th>\n      <td>223</td>\n      <td>Yorkshire</td>\n      <td>B</td>\n      <td>Yorkshire</td>\n      <td>http://en.wikipedia.org/wiki/Yorkshire_County_...</td>\n      <td>NaN</td>\n    </tr>\n    <tr>\n      <th>233</th>\n      <td>233</td>\n      <td>Such</td>\n      <td>B</td>\n      <td>Such</td>\n      <td>?</td>\n      <td>NaN</td>\n    </tr>\n    <tr>\n      <th>262</th>\n      <td>262</td>\n      <td>Oval</td>\n      <td>B</td>\n      <td>Oval</td>\n      <td>http://en.wikipedia.org/wiki/The_Oval</td>\n      <td>NaN</td>\n    </tr>\n    <tr>\n      <th>264</th>\n      <td>264</td>\n      <td>Surrey</td>\n      <td>B</td>\n      <td>Surrey</td>\n      <td>http://en.wikipedia.org/wiki/Surrey_County_Cri...</td>\n      <td>NaN</td>\n    </tr>\n    <tr>\n      <th>266</th>\n      <td>266</td>\n      <td>Chris</td>\n      <td>B</td>\n      <td>Chris Lewis</td>\n      <td>http://en.wikipedia.org/wiki/Chris_Lewis_(cric...</td>\n      <td>NaN</td>\n    </tr>\n    <tr>\n      <th>273</th>\n      <td>273</td>\n      <td>England</td>\n      <td>B</td>\n      <td>England</td>\n      <td>http://en.wikipedia.org/wiki/England</td>\n      <td>NaN</td>\n    </tr>\n    <tr>\n      <th>299</th>\n      <td>299</td>\n      <td>Warwickshire</td>\n      <td>B</td>\n      <td>Warwickshire</td>\n      <td>http://en.wikipedia.org/wiki/Warwickshire_Coun...</td>\n      <td>NaN</td>\n    </tr>\n    <tr>\n      <th>307</th>\n      <td>307</td>\n      <td>England</td>\n      <td>B</td>\n      <td>England</td>\n      <td>http://en.wikipedia.org/wiki/England</td>\n      <td>NaN</td>\n    </tr>\n    <tr>\n      <th>309</th>\n      <td>309</td>\n      <td>Mark</td>\n      <td>B</td>\n      <td>Mark Butcher</td>\n      <td>?</td>\n      <td>NaN</td>\n    </tr>\n    <tr>\n      <th>315</th>\n      <td>315</td>\n      <td>Surrey</td>\n      <td>B</td>\n      <td>Surrey</td>\n      <td>http://en.wikipedia.org/wiki/Surrey_County_Cri...</td>\n      <td>NaN</td>\n    </tr>\n    <tr>\n      <th>328</th>\n      <td>328</td>\n      <td>Derbyshire</td>\n      <td>B</td>\n      <td>Derbyshire</td>\n      <td>http://en.wikipedia.org/wiki/Derbyshire_County...</td>\n      <td>NaN</td>\n    </tr>\n    <tr>\n      <th>342</th>\n      <td>342</td>\n      <td>Worcestershire</td>\n      <td>B</td>\n      <td>Worcestershire</td>\n      <td>http://en.wikipedia.org/wiki/Worcestershire_Co...</td>\n      <td>NaN</td>\n    </tr>\n    <tr>\n      <th>363</th>\n      <td>363</td>\n      <td>Australian</td>\n      <td>B</td>\n      <td>Australian</td>\n      <td>http://en.wikipedia.org/wiki/Australia</td>\n      <td>NaN</td>\n    </tr>\n    <tr>\n      <th>364</th>\n      <td>364</td>\n      <td>Tom</td>\n      <td>B</td>\n      <td>Tom Moody</td>\n      <td>?</td>\n      <td>NaN</td>\n    </tr>\n    <tr>\n      <th>371</th>\n      <td>371</td>\n      <td>Chris</td>\n      <td>B</td>\n      <td>Chris Adams</td>\n      <td>?</td>\n      <td>NaN</td>\n    </tr>\n    <tr>\n      <th>377</th>\n      <td>377</td>\n      <td>Tim</td>\n      <td>B</td>\n      <td>Tim O'Gorman</td>\n      <td>--NME--</td>\n      <td>NaN</td>\n    </tr>\n    <tr>\n      <th>378</th>\n      <td>378</td>\n      <td>O'Gorman</td>\n      <td>I</td>\n      <td>Tim O'Gorman</td>\n      <td>--NME--</td>\n      <td>NaN</td>\n    </tr>\n    <tr>\n      <th>383</th>\n      <td>383</td>\n      <td>Derbyshire</td>\n      <td>B</td>\n      <td>Derbyshire</td>\n      <td>http://en.wikipedia.org/wiki/Derbyshire_County...</td>\n      <td>NaN</td>\n    </tr>\n    <tr>\n      <th>412</th>\n      <td>412</td>\n      <td>Kent</td>\n      <td>B</td>\n      <td>Kent</td>\n      <td>http://en.wikipedia.org/wiki/Kent_County_Crick...</td>\n      <td>NaN</td>\n    </tr>\n    <tr>\n      <th>419</th>\n      <td>419</td>\n      <td>Nottinghamshire</td>\n      <td>B</td>\n      <td>Nottinghamshire</td>\n      <td>http://en.wikipedia.org/wiki/Nottinghamshire_C...</td>\n      <td>NaN</td>\n    </tr>\n    <tr>\n      <th>433</th>\n      <td>433</td>\n      <td>Paul</td>\n      <td>B</td>\n      <td>Paul Johnson</td>\n      <td>http://en.wikipedia.org/wiki/Paul_Johnson_(squ...</td>\n      <td>NaN</td>\n    </tr>\n    <tr>\n      <th>436</th>\n      <td>436</td>\n      <td>ex-England</td>\n      <td>B</td>\n      <td>ex-England</td>\n      <td>--NME--</td>\n      <td>NaN</td>\n    </tr>\n    <tr>\n      <th>439</th>\n      <td>439</td>\n      <td>Martin</td>\n      <td>B</td>\n      <td>Martin McCague</td>\n      <td>?</td>\n      <td>NaN</td>\n    </tr>\n    <tr>\n      <th>449</th>\n      <td>449</td>\n      <td>Kent</td>\n      <td>B</td>\n      <td>Kent</td>\n      <td>http://en.wikipedia.org/wiki/Kent_County_Crick...</td>\n      <td>NaN</td>\n    </tr>\n  </tbody>\n</table>\n</div>"
     },
     "metadata": {},
     "output_type": "display_data"
    },
    {
     "data": {
      "text/plain": "      id           token entity_tag    full_mention wiki_url  wikipedia_title\n3      3  LEICESTERSHIRE          B  LEICESTERSHIRE        ?              NaN\n16    16            West          B     West Indian        ?              NaN\n19    19            Phil          B    Phil Simmons        ?              NaN\n101  101           Grace          B      Grace Road        ?              NaN\n143  143         Simmons          B         Simmons        ?              NaN\n169  169           Peter          B      Peter Such        ?              NaN\n233  233            Such          B            Such        ?              NaN\n309  309            Mark          B    Mark Butcher        ?              NaN\n364  364             Tom          B       Tom Moody        ?              NaN\n371  371           Chris          B     Chris Adams        ?              NaN\n439  439          Martin          B  Martin McCague        ?              NaN",
      "text/html": "<div>\n<style scoped>\n    .dataframe tbody tr th:only-of-type {\n        vertical-align: middle;\n    }\n\n    .dataframe tbody tr th {\n        vertical-align: top;\n    }\n\n    .dataframe thead th {\n        text-align: right;\n    }\n</style>\n<table border=\"1\" class=\"dataframe\">\n  <thead>\n    <tr style=\"text-align: right;\">\n      <th></th>\n      <th>id</th>\n      <th>token</th>\n      <th>entity_tag</th>\n      <th>full_mention</th>\n      <th>wiki_url</th>\n      <th>wikipedia_title</th>\n    </tr>\n  </thead>\n  <tbody>\n    <tr>\n      <th>3</th>\n      <td>3</td>\n      <td>LEICESTERSHIRE</td>\n      <td>B</td>\n      <td>LEICESTERSHIRE</td>\n      <td>?</td>\n      <td>NaN</td>\n    </tr>\n    <tr>\n      <th>16</th>\n      <td>16</td>\n      <td>West</td>\n      <td>B</td>\n      <td>West Indian</td>\n      <td>?</td>\n      <td>NaN</td>\n    </tr>\n    <tr>\n      <th>19</th>\n      <td>19</td>\n      <td>Phil</td>\n      <td>B</td>\n      <td>Phil Simmons</td>\n      <td>?</td>\n      <td>NaN</td>\n    </tr>\n    <tr>\n      <th>101</th>\n      <td>101</td>\n      <td>Grace</td>\n      <td>B</td>\n      <td>Grace Road</td>\n      <td>?</td>\n      <td>NaN</td>\n    </tr>\n    <tr>\n      <th>143</th>\n      <td>143</td>\n      <td>Simmons</td>\n      <td>B</td>\n      <td>Simmons</td>\n      <td>?</td>\n      <td>NaN</td>\n    </tr>\n    <tr>\n      <th>169</th>\n      <td>169</td>\n      <td>Peter</td>\n      <td>B</td>\n      <td>Peter Such</td>\n      <td>?</td>\n      <td>NaN</td>\n    </tr>\n    <tr>\n      <th>233</th>\n      <td>233</td>\n      <td>Such</td>\n      <td>B</td>\n      <td>Such</td>\n      <td>?</td>\n      <td>NaN</td>\n    </tr>\n    <tr>\n      <th>309</th>\n      <td>309</td>\n      <td>Mark</td>\n      <td>B</td>\n      <td>Mark Butcher</td>\n      <td>?</td>\n      <td>NaN</td>\n    </tr>\n    <tr>\n      <th>364</th>\n      <td>364</td>\n      <td>Tom</td>\n      <td>B</td>\n      <td>Tom Moody</td>\n      <td>?</td>\n      <td>NaN</td>\n    </tr>\n    <tr>\n      <th>371</th>\n      <td>371</td>\n      <td>Chris</td>\n      <td>B</td>\n      <td>Chris Adams</td>\n      <td>?</td>\n      <td>NaN</td>\n    </tr>\n    <tr>\n      <th>439</th>\n      <td>439</td>\n      <td>Martin</td>\n      <td>B</td>\n      <td>Martin McCague</td>\n      <td>?</td>\n      <td>NaN</td>\n    </tr>\n  </tbody>\n</table>\n</div>"
     },
     "metadata": {},
     "output_type": "display_data"
    },
    {
     "data": {
      "text/plain": "      id            token entity_tag     full_mention  \\\n13    13           LONDON          B           LONDON   \n28    28   Leicestershire          B   Leicestershire   \n30    30         Somerset          B         Somerset   \n65    65            Essex          B            Essex   \n67    67       Derbyshire          B       Derbyshire   \n69    69           Surrey          B           Surrey   \n76    76             Kent          B             Kent   \n87    87  Nottinghamshire          B  Nottinghamshire   \n92    92         Somerset          B         Somerset   \n104  104   Leicestershire          B   Leicestershire   \n119  119          England          B          England   \n121  121             Andy          B     Andy Caddick   \n133  133         Somerset          B         Somerset   \n154  154            Essex          B            Essex   \n166  166           Nasser          B   Nasser Hussain   \n180  180        Yorkshire          B        Yorkshire   \n182  182       Headingley          B       Headingley   \n185  185          Hussain          B          Hussain   \n190  190          England          B          England   \n207  207            Essex          B            Essex   \n223  223        Yorkshire          B        Yorkshire   \n262  262             Oval          B             Oval   \n264  264           Surrey          B           Surrey   \n266  266            Chris          B      Chris Lewis   \n273  273          England          B          England   \n299  299     Warwickshire          B     Warwickshire   \n307  307          England          B          England   \n315  315           Surrey          B           Surrey   \n328  328       Derbyshire          B       Derbyshire   \n342  342   Worcestershire          B   Worcestershire   \n363  363       Australian          B       Australian   \n383  383       Derbyshire          B       Derbyshire   \n412  412             Kent          B             Kent   \n419  419  Nottinghamshire          B  Nottinghamshire   \n433  433             Paul          B     Paul Johnson   \n449  449             Kent          B             Kent   \n\n                                              wiki_url  wikipedia_title  \n13                 http://en.wikipedia.org/wiki/London              NaN  \n28   http://en.wikipedia.org/wiki/Leicestershire_Co...              NaN  \n30   http://en.wikipedia.org/wiki/Somerset_County_C...              NaN  \n65   http://en.wikipedia.org/wiki/Essex_County_Cric...              NaN  \n67   http://en.wikipedia.org/wiki/Derbyshire_County...              NaN  \n69   http://en.wikipedia.org/wiki/Surrey_County_Cri...              NaN  \n76   http://en.wikipedia.org/wiki/Kent_County_Crick...              NaN  \n87   http://en.wikipedia.org/wiki/Nottinghamshire_C...              NaN  \n92   http://en.wikipedia.org/wiki/Somerset_County_C...              NaN  \n104  http://en.wikipedia.org/wiki/Leicestershire_Co...              NaN  \n119               http://en.wikipedia.org/wiki/England              NaN  \n121        http://en.wikipedia.org/wiki/Andrew_Caddick              NaN  \n133  http://en.wikipedia.org/wiki/Somerset_County_C...              NaN  \n154  http://en.wikipedia.org/wiki/Essex_County_Cric...              NaN  \n166        http://en.wikipedia.org/wiki/Nasser_Hussain              NaN  \n180  http://en.wikipedia.org/wiki/Yorkshire_County_...              NaN  \n182    http://en.wikipedia.org/wiki/Headingley_Stadium              NaN  \n185        http://en.wikipedia.org/wiki/Nasser_Hussain              NaN  \n190               http://en.wikipedia.org/wiki/England              NaN  \n207  http://en.wikipedia.org/wiki/Essex_County_Cric...              NaN  \n223  http://en.wikipedia.org/wiki/Yorkshire_County_...              NaN  \n262              http://en.wikipedia.org/wiki/The_Oval              NaN  \n264  http://en.wikipedia.org/wiki/Surrey_County_Cri...              NaN  \n266  http://en.wikipedia.org/wiki/Chris_Lewis_(cric...              NaN  \n273               http://en.wikipedia.org/wiki/England              NaN  \n299  http://en.wikipedia.org/wiki/Warwickshire_Coun...              NaN  \n307               http://en.wikipedia.org/wiki/England              NaN  \n315  http://en.wikipedia.org/wiki/Surrey_County_Cri...              NaN  \n328  http://en.wikipedia.org/wiki/Derbyshire_County...              NaN  \n342  http://en.wikipedia.org/wiki/Worcestershire_Co...              NaN  \n363             http://en.wikipedia.org/wiki/Australia              NaN  \n383  http://en.wikipedia.org/wiki/Derbyshire_County...              NaN  \n412  http://en.wikipedia.org/wiki/Kent_County_Crick...              NaN  \n419  http://en.wikipedia.org/wiki/Nottinghamshire_C...              NaN  \n433  http://en.wikipedia.org/wiki/Paul_Johnson_(squ...              NaN  \n449  http://en.wikipedia.org/wiki/Kent_County_Crick...              NaN  ",
      "text/html": "<div>\n<style scoped>\n    .dataframe tbody tr th:only-of-type {\n        vertical-align: middle;\n    }\n\n    .dataframe tbody tr th {\n        vertical-align: top;\n    }\n\n    .dataframe thead th {\n        text-align: right;\n    }\n</style>\n<table border=\"1\" class=\"dataframe\">\n  <thead>\n    <tr style=\"text-align: right;\">\n      <th></th>\n      <th>id</th>\n      <th>token</th>\n      <th>entity_tag</th>\n      <th>full_mention</th>\n      <th>wiki_url</th>\n      <th>wikipedia_title</th>\n    </tr>\n  </thead>\n  <tbody>\n    <tr>\n      <th>13</th>\n      <td>13</td>\n      <td>LONDON</td>\n      <td>B</td>\n      <td>LONDON</td>\n      <td>http://en.wikipedia.org/wiki/London</td>\n      <td>NaN</td>\n    </tr>\n    <tr>\n      <th>28</th>\n      <td>28</td>\n      <td>Leicestershire</td>\n      <td>B</td>\n      <td>Leicestershire</td>\n      <td>http://en.wikipedia.org/wiki/Leicestershire_Co...</td>\n      <td>NaN</td>\n    </tr>\n    <tr>\n      <th>30</th>\n      <td>30</td>\n      <td>Somerset</td>\n      <td>B</td>\n      <td>Somerset</td>\n      <td>http://en.wikipedia.org/wiki/Somerset_County_C...</td>\n      <td>NaN</td>\n    </tr>\n    <tr>\n      <th>65</th>\n      <td>65</td>\n      <td>Essex</td>\n      <td>B</td>\n      <td>Essex</td>\n      <td>http://en.wikipedia.org/wiki/Essex_County_Cric...</td>\n      <td>NaN</td>\n    </tr>\n    <tr>\n      <th>67</th>\n      <td>67</td>\n      <td>Derbyshire</td>\n      <td>B</td>\n      <td>Derbyshire</td>\n      <td>http://en.wikipedia.org/wiki/Derbyshire_County...</td>\n      <td>NaN</td>\n    </tr>\n    <tr>\n      <th>69</th>\n      <td>69</td>\n      <td>Surrey</td>\n      <td>B</td>\n      <td>Surrey</td>\n      <td>http://en.wikipedia.org/wiki/Surrey_County_Cri...</td>\n      <td>NaN</td>\n    </tr>\n    <tr>\n      <th>76</th>\n      <td>76</td>\n      <td>Kent</td>\n      <td>B</td>\n      <td>Kent</td>\n      <td>http://en.wikipedia.org/wiki/Kent_County_Crick...</td>\n      <td>NaN</td>\n    </tr>\n    <tr>\n      <th>87</th>\n      <td>87</td>\n      <td>Nottinghamshire</td>\n      <td>B</td>\n      <td>Nottinghamshire</td>\n      <td>http://en.wikipedia.org/wiki/Nottinghamshire_C...</td>\n      <td>NaN</td>\n    </tr>\n    <tr>\n      <th>92</th>\n      <td>92</td>\n      <td>Somerset</td>\n      <td>B</td>\n      <td>Somerset</td>\n      <td>http://en.wikipedia.org/wiki/Somerset_County_C...</td>\n      <td>NaN</td>\n    </tr>\n    <tr>\n      <th>104</th>\n      <td>104</td>\n      <td>Leicestershire</td>\n      <td>B</td>\n      <td>Leicestershire</td>\n      <td>http://en.wikipedia.org/wiki/Leicestershire_Co...</td>\n      <td>NaN</td>\n    </tr>\n    <tr>\n      <th>119</th>\n      <td>119</td>\n      <td>England</td>\n      <td>B</td>\n      <td>England</td>\n      <td>http://en.wikipedia.org/wiki/England</td>\n      <td>NaN</td>\n    </tr>\n    <tr>\n      <th>121</th>\n      <td>121</td>\n      <td>Andy</td>\n      <td>B</td>\n      <td>Andy Caddick</td>\n      <td>http://en.wikipedia.org/wiki/Andrew_Caddick</td>\n      <td>NaN</td>\n    </tr>\n    <tr>\n      <th>133</th>\n      <td>133</td>\n      <td>Somerset</td>\n      <td>B</td>\n      <td>Somerset</td>\n      <td>http://en.wikipedia.org/wiki/Somerset_County_C...</td>\n      <td>NaN</td>\n    </tr>\n    <tr>\n      <th>154</th>\n      <td>154</td>\n      <td>Essex</td>\n      <td>B</td>\n      <td>Essex</td>\n      <td>http://en.wikipedia.org/wiki/Essex_County_Cric...</td>\n      <td>NaN</td>\n    </tr>\n    <tr>\n      <th>166</th>\n      <td>166</td>\n      <td>Nasser</td>\n      <td>B</td>\n      <td>Nasser Hussain</td>\n      <td>http://en.wikipedia.org/wiki/Nasser_Hussain</td>\n      <td>NaN</td>\n    </tr>\n    <tr>\n      <th>180</th>\n      <td>180</td>\n      <td>Yorkshire</td>\n      <td>B</td>\n      <td>Yorkshire</td>\n      <td>http://en.wikipedia.org/wiki/Yorkshire_County_...</td>\n      <td>NaN</td>\n    </tr>\n    <tr>\n      <th>182</th>\n      <td>182</td>\n      <td>Headingley</td>\n      <td>B</td>\n      <td>Headingley</td>\n      <td>http://en.wikipedia.org/wiki/Headingley_Stadium</td>\n      <td>NaN</td>\n    </tr>\n    <tr>\n      <th>185</th>\n      <td>185</td>\n      <td>Hussain</td>\n      <td>B</td>\n      <td>Hussain</td>\n      <td>http://en.wikipedia.org/wiki/Nasser_Hussain</td>\n      <td>NaN</td>\n    </tr>\n    <tr>\n      <th>190</th>\n      <td>190</td>\n      <td>England</td>\n      <td>B</td>\n      <td>England</td>\n      <td>http://en.wikipedia.org/wiki/England</td>\n      <td>NaN</td>\n    </tr>\n    <tr>\n      <th>207</th>\n      <td>207</td>\n      <td>Essex</td>\n      <td>B</td>\n      <td>Essex</td>\n      <td>http://en.wikipedia.org/wiki/Essex_County_Cric...</td>\n      <td>NaN</td>\n    </tr>\n    <tr>\n      <th>223</th>\n      <td>223</td>\n      <td>Yorkshire</td>\n      <td>B</td>\n      <td>Yorkshire</td>\n      <td>http://en.wikipedia.org/wiki/Yorkshire_County_...</td>\n      <td>NaN</td>\n    </tr>\n    <tr>\n      <th>262</th>\n      <td>262</td>\n      <td>Oval</td>\n      <td>B</td>\n      <td>Oval</td>\n      <td>http://en.wikipedia.org/wiki/The_Oval</td>\n      <td>NaN</td>\n    </tr>\n    <tr>\n      <th>264</th>\n      <td>264</td>\n      <td>Surrey</td>\n      <td>B</td>\n      <td>Surrey</td>\n      <td>http://en.wikipedia.org/wiki/Surrey_County_Cri...</td>\n      <td>NaN</td>\n    </tr>\n    <tr>\n      <th>266</th>\n      <td>266</td>\n      <td>Chris</td>\n      <td>B</td>\n      <td>Chris Lewis</td>\n      <td>http://en.wikipedia.org/wiki/Chris_Lewis_(cric...</td>\n      <td>NaN</td>\n    </tr>\n    <tr>\n      <th>273</th>\n      <td>273</td>\n      <td>England</td>\n      <td>B</td>\n      <td>England</td>\n      <td>http://en.wikipedia.org/wiki/England</td>\n      <td>NaN</td>\n    </tr>\n    <tr>\n      <th>299</th>\n      <td>299</td>\n      <td>Warwickshire</td>\n      <td>B</td>\n      <td>Warwickshire</td>\n      <td>http://en.wikipedia.org/wiki/Warwickshire_Coun...</td>\n      <td>NaN</td>\n    </tr>\n    <tr>\n      <th>307</th>\n      <td>307</td>\n      <td>England</td>\n      <td>B</td>\n      <td>England</td>\n      <td>http://en.wikipedia.org/wiki/England</td>\n      <td>NaN</td>\n    </tr>\n    <tr>\n      <th>315</th>\n      <td>315</td>\n      <td>Surrey</td>\n      <td>B</td>\n      <td>Surrey</td>\n      <td>http://en.wikipedia.org/wiki/Surrey_County_Cri...</td>\n      <td>NaN</td>\n    </tr>\n    <tr>\n      <th>328</th>\n      <td>328</td>\n      <td>Derbyshire</td>\n      <td>B</td>\n      <td>Derbyshire</td>\n      <td>http://en.wikipedia.org/wiki/Derbyshire_County...</td>\n      <td>NaN</td>\n    </tr>\n    <tr>\n      <th>342</th>\n      <td>342</td>\n      <td>Worcestershire</td>\n      <td>B</td>\n      <td>Worcestershire</td>\n      <td>http://en.wikipedia.org/wiki/Worcestershire_Co...</td>\n      <td>NaN</td>\n    </tr>\n    <tr>\n      <th>363</th>\n      <td>363</td>\n      <td>Australian</td>\n      <td>B</td>\n      <td>Australian</td>\n      <td>http://en.wikipedia.org/wiki/Australia</td>\n      <td>NaN</td>\n    </tr>\n    <tr>\n      <th>383</th>\n      <td>383</td>\n      <td>Derbyshire</td>\n      <td>B</td>\n      <td>Derbyshire</td>\n      <td>http://en.wikipedia.org/wiki/Derbyshire_County...</td>\n      <td>NaN</td>\n    </tr>\n    <tr>\n      <th>412</th>\n      <td>412</td>\n      <td>Kent</td>\n      <td>B</td>\n      <td>Kent</td>\n      <td>http://en.wikipedia.org/wiki/Kent_County_Crick...</td>\n      <td>NaN</td>\n    </tr>\n    <tr>\n      <th>419</th>\n      <td>419</td>\n      <td>Nottinghamshire</td>\n      <td>B</td>\n      <td>Nottinghamshire</td>\n      <td>http://en.wikipedia.org/wiki/Nottinghamshire_C...</td>\n      <td>NaN</td>\n    </tr>\n    <tr>\n      <th>433</th>\n      <td>433</td>\n      <td>Paul</td>\n      <td>B</td>\n      <td>Paul Johnson</td>\n      <td>http://en.wikipedia.org/wiki/Paul_Johnson_(squ...</td>\n      <td>NaN</td>\n    </tr>\n    <tr>\n      <th>449</th>\n      <td>449</td>\n      <td>Kent</td>\n      <td>B</td>\n      <td>Kent</td>\n      <td>http://en.wikipedia.org/wiki/Kent_County_Crick...</td>\n      <td>NaN</td>\n    </tr>\n  </tbody>\n</table>\n</div>"
     },
     "metadata": {},
     "output_type": "display_data"
    }
   ],
   "source": [
    "test_doc_range =  find_doc_range(test)\n",
    "\n",
    "for start, end in test_doc_range:\n",
    "    current_doc = non_na_test[(non_na_test.id >= start) & (non_na_test.id <= end)]\n",
    "    not_found = current_doc[current_doc['wiki_url'] == '?']\n",
    "    found = current_doc[current_doc['wiki_url'].str.startswith('http')]\n",
    "    if end < 500:\n",
    "        display(current_doc)\n",
    "        display(not_found)\n",
    "        display(found)\n",
    "        "
   ],
   "metadata": {
    "collapsed": false,
    "ExecuteTime": {
     "end_time": "2023-12-09T16:15:35.951223Z",
     "start_time": "2023-12-09T16:15:35.435896Z"
    }
   },
   "id": "4c1f637d02c71fb2"
  },
  {
   "cell_type": "code",
   "execution_count": 48,
   "outputs": [
    {
     "name": "stdout",
     "output_type": "stream",
     "text": [
      "20587         23106\n",
      "534819       778255\n",
      "666909       988954\n",
      "694720      1051582\n",
      "992738      1842129\n",
      "             ...   \n",
      "4671827    23468498\n",
      "4741410    24993978\n",
      "4828311    27958026\n",
      "4944387    30594846\n",
      "5165169    56290361\n",
      "Name: item_id, Length: 121, dtype: int64\n"
     ]
    }
   ],
   "source": [
    "def find_possible_indexes(df, text_of_unknown):\n",
    "    if 'en_label' in df.columns:\n",
    "        # Case-insensitive search for the text in the 'en_label' column\n",
    "        matches = df['en_label'].str.contains(text_of_unknown, case=False, na=False)\n",
    "        return df[matches].item_id  # Returns the indexes of matching rows\n",
    "    else:\n",
    "        return \"Column 'en_label' not found in the DataFrame\"\n",
    "\n",
    "# Example usage\n",
    "indexes = find_possible_indexes(wiki_items, 'LEICESTERSHIRE')\n",
    "print(indexes)\n"
   ],
   "metadata": {
    "collapsed": false,
    "ExecuteTime": {
     "end_time": "2023-12-09T16:33:10.905802Z",
     "start_time": "2023-12-09T16:33:10.062710Z"
    }
   },
   "id": "1f5215ac939f752e"
  },
  {
   "cell_type": "code",
   "execution_count": 25,
   "outputs": [
    {
     "data": {
      "text/plain": "          item_id                                           en_label  \\\n20587       23106                                     Leicestershire   \n534819     778255                              Moira, Leicestershire   \n666909     988954                               South Leicestershire   \n694720    1051582                          North West Leicestershire   \n992738    1842129                       Leicestershire Senior League   \n...           ...                                                ...   \n4671827  23468498                         Leicestershire Rugby Union   \n4741410  24993978       Leicestershire Police and Crime Commissioner   \n4828311  27958026        2017 Leicestershire County Council election   \n4944387  30594846                          Leicestershire County Cup   \n5165169  56290361  Leicester and Leicestershire Amalgamated Hosie...   \n\n                                            en_description  \\\n20587    ceremonial county in England (use Q21272890 fo...   \n534819                           village in United Kingdom   \n666909   Parliamentary constituency in the United Kingd...   \n694720   Parliamentary constituency in the United Kingd...   \n992738                                                 NaN   \n...                                                    ...   \n4671827                                                NaN   \n4741410                                                NaN   \n4828311                                                NaN   \n4944387                                                NaN   \n5165169                                                NaN   \n\n                                           wikipedia_title  \n20587                                       Leicestershire  \n534819                               Moira, Leicestershire  \n666909   South Leicestershire (UK Parliament constituency)  \n694720   North West Leicestershire (UK Parliament const...  \n992738                        Leicestershire Senior League  \n...                                                    ...  \n4671827                         Leicestershire Rugby Union  \n4741410       Leicestershire Police and Crime Commissioner  \n4828311        2017 Leicestershire County Council election  \n4944387                          Leicestershire County Cup  \n5165169  Leicester and Leicestershire Amalgamated Hosie...  \n\n[121 rows x 4 columns]",
      "text/html": "<div>\n<style scoped>\n    .dataframe tbody tr th:only-of-type {\n        vertical-align: middle;\n    }\n\n    .dataframe tbody tr th {\n        vertical-align: top;\n    }\n\n    .dataframe thead th {\n        text-align: right;\n    }\n</style>\n<table border=\"1\" class=\"dataframe\">\n  <thead>\n    <tr style=\"text-align: right;\">\n      <th></th>\n      <th>item_id</th>\n      <th>en_label</th>\n      <th>en_description</th>\n      <th>wikipedia_title</th>\n    </tr>\n  </thead>\n  <tbody>\n    <tr>\n      <th>20587</th>\n      <td>23106</td>\n      <td>Leicestershire</td>\n      <td>ceremonial county in England (use Q21272890 fo...</td>\n      <td>Leicestershire</td>\n    </tr>\n    <tr>\n      <th>534819</th>\n      <td>778255</td>\n      <td>Moira, Leicestershire</td>\n      <td>village in United Kingdom</td>\n      <td>Moira, Leicestershire</td>\n    </tr>\n    <tr>\n      <th>666909</th>\n      <td>988954</td>\n      <td>South Leicestershire</td>\n      <td>Parliamentary constituency in the United Kingd...</td>\n      <td>South Leicestershire (UK Parliament constituency)</td>\n    </tr>\n    <tr>\n      <th>694720</th>\n      <td>1051582</td>\n      <td>North West Leicestershire</td>\n      <td>Parliamentary constituency in the United Kingd...</td>\n      <td>North West Leicestershire (UK Parliament const...</td>\n    </tr>\n    <tr>\n      <th>992738</th>\n      <td>1842129</td>\n      <td>Leicestershire Senior League</td>\n      <td>NaN</td>\n      <td>Leicestershire Senior League</td>\n    </tr>\n    <tr>\n      <th>...</th>\n      <td>...</td>\n      <td>...</td>\n      <td>...</td>\n      <td>...</td>\n    </tr>\n    <tr>\n      <th>4671827</th>\n      <td>23468498</td>\n      <td>Leicestershire Rugby Union</td>\n      <td>NaN</td>\n      <td>Leicestershire Rugby Union</td>\n    </tr>\n    <tr>\n      <th>4741410</th>\n      <td>24993978</td>\n      <td>Leicestershire Police and Crime Commissioner</td>\n      <td>NaN</td>\n      <td>Leicestershire Police and Crime Commissioner</td>\n    </tr>\n    <tr>\n      <th>4828311</th>\n      <td>27958026</td>\n      <td>2017 Leicestershire County Council election</td>\n      <td>NaN</td>\n      <td>2017 Leicestershire County Council election</td>\n    </tr>\n    <tr>\n      <th>4944387</th>\n      <td>30594846</td>\n      <td>Leicestershire County Cup</td>\n      <td>NaN</td>\n      <td>Leicestershire County Cup</td>\n    </tr>\n    <tr>\n      <th>5165169</th>\n      <td>56290361</td>\n      <td>Leicester and Leicestershire Amalgamated Hosie...</td>\n      <td>NaN</td>\n      <td>Leicester and Leicestershire Amalgamated Hosie...</td>\n    </tr>\n  </tbody>\n</table>\n<p>121 rows × 4 columns</p>\n</div>"
     },
     "execution_count": 25,
     "metadata": {},
     "output_type": "execute_result"
    }
   ],
   "source": [
    "wiki_items.loc[indexes]"
   ],
   "metadata": {
    "collapsed": false,
    "ExecuteTime": {
     "end_time": "2023-12-09T16:15:36.979675Z",
     "start_time": "2023-12-09T16:15:36.972194Z"
    }
   },
   "id": "457fbb5aebbdda62"
  },
  {
   "cell_type": "code",
   "execution_count": 26,
   "outputs": [
    {
     "name": "stdout",
     "output_type": "stream",
     "text": [
      "447\n",
      "-DOCSTART- (947testa CRICKET) CRICKET - LEICESTERSHIRE TAKE OVER AT TOP AFTER INNINGS VICTORY .  LONDON 1996-08-30  West Indian all-rounder Phil Simmons took four for 38 on Friday as Leicestershire beat Somerset by an innings and 39 runs in two days to take over at the head of the county championship .  Their stay on top , though , may be short-lived as title rivals Essex , Derbyshire and Surrey all closed in on victory while Kent made up for lost time in their rain-affected match against Nottinghamshire .  After bowling Somerset out for 83 on the opening morning at Grace Road , Leicestershire extended their first innings by 94 runs before being bowled out for 296 with England discard Andy Caddick taking three for 83 .  Trailing by 213 , Somerset got a solid start to their second innings before Simmons stepped in to bundle them out for 174 .  Essex , however , look certain to regain their top spot after Nasser Hussain and Peter Such gave them a firm grip on their match against Yorkshire at Headingley .  Hussain , considered surplus to England 's one-day requirements , struck 158 , his first championship century of the season , as Essex reached 372 and took a first innings lead of 82 .  By the close Yorkshire had turned that into a 37-run advantage but off-spinner Such had scuttled their hopes , taking four for 24 in 48 balls and leaving them hanging on 119 for five and praying for rain .  At the Oval , Surrey captain Chris Lewis , another man dumped by England , continued to silence his critics as he followed his four for 45 on Thursday with 80 not out on Friday in the match against Warwickshire .  He was well backed by England hopeful Mark Butcher who made 70 as Surrey closed on 429 for seven , a lead of 234 .  Derbyshire kept up the hunt for their first championship title since 1936 by reducing Worcestershire to 133 for five in their second innings , still 100 runs away from avoiding an innings defeat .  Australian Tom Moody took six for 82 but Chris Adams , 123 , and Tim O'Gorman , 109 , took Derbyshire to 471 and a first innings lead of 233 .  After the frustration of seeing the opening day of their match badly affected by the weather , Kent stepped up a gear to dismiss Nottinghamshire for 214 .  They were held up by a gritty 84 from Paul Johnson but ex-England fast bowler Martin McCague took four for 55 .  By stumps Kent had reached 108 for three . \n"
     ]
    }
   ],
   "source": [
    "test_doc_range =  find_doc_range(test)\n",
    "\n",
    "for start, end in test_doc_range:\n",
    "    current_doc = test[(test.id >= start) & (test.id <= end)]\n",
    "    # Ensure NaN values are handled, and join the tokens with a space\n",
    "    document_string = current_doc['token'].fillna('').str.cat(sep=' ')\n",
    "    if end < 500:\n",
    "        print(document_string)\n"
   ],
   "metadata": {
    "collapsed": false,
    "ExecuteTime": {
     "end_time": "2023-12-09T16:15:37.480702Z",
     "start_time": "2023-12-09T16:15:36.977840Z"
    }
   },
   "id": "32f92864cddc3896"
  },
  {
   "cell_type": "code",
   "execution_count": 27,
   "outputs": [
    {
     "data": {
      "text/plain": "          item_id                 en_label  \\\n0               1                 Universe   \n1               2                    Earth   \n2               3                     life   \n3               4                    death   \n4               5                    human   \n...           ...                      ...   \n5216231  77042017                  HR 4523   \n5216232  77043280         Charlie Johnston   \n5216233  77231860               Aldo Rossi   \n5216234  77240068  Ebenezer Baptist Church   \n5216235  77242291                New Court   \n\n                                            en_description  \\\n0                       totality of space and all contents   \n1            third planet from the Sun in the Solar System   \n2        matter capable of extracting energy from the e...   \n3                   permanent cessation of vital functions   \n4        common name of Homo sapiens, unique extant spe...   \n...                                                    ...   \n5216231                                                NaN   \n5216232                                                NaN   \n5216233                                           musician   \n5216234                    church in Atlanta, Georgia, USA   \n5216235           group of buildings in City of London, UK   \n\n                 wikipedia_title  \n0                       Universe  \n1                          Earth  \n2                           Life  \n3                          Death  \n4                          Human  \n...                          ...  \n5216231                HD 102365  \n5216232        Charlie Johnstone  \n5216233    Aldo Rossi (musician)  \n5216234  Ebenezer Baptist Church  \n5216235                New Court  \n\n[5216236 rows x 4 columns]",
      "text/html": "<div>\n<style scoped>\n    .dataframe tbody tr th:only-of-type {\n        vertical-align: middle;\n    }\n\n    .dataframe tbody tr th {\n        vertical-align: top;\n    }\n\n    .dataframe thead th {\n        text-align: right;\n    }\n</style>\n<table border=\"1\" class=\"dataframe\">\n  <thead>\n    <tr style=\"text-align: right;\">\n      <th></th>\n      <th>item_id</th>\n      <th>en_label</th>\n      <th>en_description</th>\n      <th>wikipedia_title</th>\n    </tr>\n  </thead>\n  <tbody>\n    <tr>\n      <th>0</th>\n      <td>1</td>\n      <td>Universe</td>\n      <td>totality of space and all contents</td>\n      <td>Universe</td>\n    </tr>\n    <tr>\n      <th>1</th>\n      <td>2</td>\n      <td>Earth</td>\n      <td>third planet from the Sun in the Solar System</td>\n      <td>Earth</td>\n    </tr>\n    <tr>\n      <th>2</th>\n      <td>3</td>\n      <td>life</td>\n      <td>matter capable of extracting energy from the e...</td>\n      <td>Life</td>\n    </tr>\n    <tr>\n      <th>3</th>\n      <td>4</td>\n      <td>death</td>\n      <td>permanent cessation of vital functions</td>\n      <td>Death</td>\n    </tr>\n    <tr>\n      <th>4</th>\n      <td>5</td>\n      <td>human</td>\n      <td>common name of Homo sapiens, unique extant spe...</td>\n      <td>Human</td>\n    </tr>\n    <tr>\n      <th>...</th>\n      <td>...</td>\n      <td>...</td>\n      <td>...</td>\n      <td>...</td>\n    </tr>\n    <tr>\n      <th>5216231</th>\n      <td>77042017</td>\n      <td>HR 4523</td>\n      <td>NaN</td>\n      <td>HD 102365</td>\n    </tr>\n    <tr>\n      <th>5216232</th>\n      <td>77043280</td>\n      <td>Charlie Johnston</td>\n      <td>NaN</td>\n      <td>Charlie Johnstone</td>\n    </tr>\n    <tr>\n      <th>5216233</th>\n      <td>77231860</td>\n      <td>Aldo Rossi</td>\n      <td>musician</td>\n      <td>Aldo Rossi (musician)</td>\n    </tr>\n    <tr>\n      <th>5216234</th>\n      <td>77240068</td>\n      <td>Ebenezer Baptist Church</td>\n      <td>church in Atlanta, Georgia, USA</td>\n      <td>Ebenezer Baptist Church</td>\n    </tr>\n    <tr>\n      <th>5216235</th>\n      <td>77242291</td>\n      <td>New Court</td>\n      <td>group of buildings in City of London, UK</td>\n      <td>New Court</td>\n    </tr>\n  </tbody>\n</table>\n<p>5216236 rows × 4 columns</p>\n</div>"
     },
     "execution_count": 27,
     "metadata": {},
     "output_type": "execute_result"
    }
   ],
   "source": [
    "wiki_items"
   ],
   "metadata": {
    "collapsed": false,
    "ExecuteTime": {
     "end_time": "2023-12-09T16:15:37.485958Z",
     "start_time": "2023-12-09T16:15:37.480527Z"
    }
   },
   "id": "a58dba5b5483aa42"
  },
  {
   "cell_type": "code",
   "execution_count": 28,
   "outputs": [],
   "source": [
    "URL_LEN = len(URL)"
   ],
   "metadata": {
    "collapsed": false,
    "ExecuteTime": {
     "end_time": "2023-12-09T16:15:37.486189Z",
     "start_time": "2023-12-09T16:15:37.483173Z"
    }
   },
   "id": "8a553951619a61fc"
  },
  {
   "cell_type": "code",
   "execution_count": 29,
   "outputs": [
    {
     "data": {
      "text/plain": "'Germany'"
     },
     "execution_count": 29,
     "metadata": {},
     "output_type": "execute_result"
    }
   ],
   "source": [
    "train.wiki_url.loc[3][URL_LEN:]"
   ],
   "metadata": {
    "collapsed": false,
    "ExecuteTime": {
     "end_time": "2023-12-09T16:15:37.488027Z",
     "start_time": "2023-12-09T16:15:37.485872Z"
    }
   },
   "id": "7a1858ecb938c938"
  },
  {
   "cell_type": "code",
   "execution_count": 33,
   "outputs": [
    {
     "name": "stdout",
     "output_type": "stream",
     "text": [
      "447\n"
     ]
    },
    {
     "data": {
      "text/plain": "array([858684])"
     },
     "metadata": {},
     "output_type": "display_data"
    }
   ],
   "source": [
    "test_doc_range =  find_doc_range(test)\n",
    "\n",
    "for start, end in test_doc_range:\n",
    "    current_doc = non_na_test[(non_na_test.id >= start) & (non_na_test.id <= end)]\n",
    "    not_found = current_doc[current_doc['wiki_url'] == '?']\n",
    "    found = current_doc[current_doc['wiki_url'].str.startswith('http')]\n",
    "    if end < 500:\n",
    "        #display(current_doc)\n",
    "        #display(not_found)\n",
    "        #display(found)\n",
    "        titles = found['wikipedia_title'].apply(lambda row: row[URL_LEN:])\n",
    "        #display(titles)\n",
    "        # Use `isin` to match titles with 'wikipedia_title' in 'wiki_items' and extract 'item_id'\n",
    "        vertices = wiki_items[wiki_items['wikipedia_title'].isin(titles)]['item_id'].values\n",
    "        display(vertices)\n",
    "        #vertices = wiki_items[wiki_items.wikipedia_title.isin(found.wiki_url.apply(lambda row: row[URL_LEN]))].item_id.values\n",
    "        #display(vertices)\n",
    "        "
   ],
   "metadata": {
    "collapsed": false,
    "ExecuteTime": {
     "end_time": "2023-12-09T16:18:54.152548Z",
     "start_time": "2023-12-09T16:18:53.574837Z"
    }
   },
   "id": "9cf46fd9154d3b6d"
  },
  {
   "cell_type": "code",
   "execution_count": 31,
   "outputs": [
    {
     "data": {
      "text/plain": "     item_id   en_label                                     en_description  \\\n13        21    England  country in north-west Europe, part of the Unit...   \n73        84     London     capital and largest city of the United Kingdom   \n377      408  Australia                                 country in Oceania   \n\n    wikipedia_title  \n13          England  \n73           London  \n377       Australia  ",
      "text/html": "<div>\n<style scoped>\n    .dataframe tbody tr th:only-of-type {\n        vertical-align: middle;\n    }\n\n    .dataframe tbody tr th {\n        vertical-align: top;\n    }\n\n    .dataframe thead th {\n        text-align: right;\n    }\n</style>\n<table border=\"1\" class=\"dataframe\">\n  <thead>\n    <tr style=\"text-align: right;\">\n      <th></th>\n      <th>item_id</th>\n      <th>en_label</th>\n      <th>en_description</th>\n      <th>wikipedia_title</th>\n    </tr>\n  </thead>\n  <tbody>\n    <tr>\n      <th>13</th>\n      <td>21</td>\n      <td>England</td>\n      <td>country in north-west Europe, part of the Unit...</td>\n      <td>England</td>\n    </tr>\n    <tr>\n      <th>73</th>\n      <td>84</td>\n      <td>London</td>\n      <td>capital and largest city of the United Kingdom</td>\n      <td>London</td>\n    </tr>\n    <tr>\n      <th>377</th>\n      <td>408</td>\n      <td>Australia</td>\n      <td>country in Oceania</td>\n      <td>Australia</td>\n    </tr>\n  </tbody>\n</table>\n</div>"
     },
     "execution_count": 31,
     "metadata": {},
     "output_type": "execute_result"
    }
   ],
   "source": [
    "wiki_items[wiki_items.item_id.isin(vertices)]"
   ],
   "metadata": {
    "collapsed": false,
    "ExecuteTime": {
     "end_time": "2023-12-09T16:15:38.261428Z",
     "start_time": "2023-12-09T16:15:38.247867Z"
    }
   },
   "id": "76527ea3bd5c02b8"
  },
  {
   "cell_type": "code",
   "execution_count": 32,
   "outputs": [
    {
     "data": {
      "text/plain": "            id                          token entity_tag    full_mention  \\\n0            0  -DOCSTART- (947testa CRICKET)        NaN             NaN   \n1            1                        CRICKET        NaN             NaN   \n2            2                              -        NaN             NaN   \n3            3                 LEICESTERSHIRE          B  LEICESTERSHIRE   \n4            4                           TAKE        NaN             NaN   \n...        ...                            ...        ...             ...   \n104885  104885                        brother        NaN             NaN   \n104886  104886                              ,        NaN             NaN   \n104887  104887                          Bobby          B           Bobby   \n104888  104888                              .        NaN             NaN   \n104889  104889                            NaN        NaN             NaN   \n\n       wiki_url  wikipedia_title  \n0           NaN              NaN  \n1           NaN              NaN  \n2           NaN              NaN  \n3             ?              NaN  \n4           NaN              NaN  \n...         ...              ...  \n104885      NaN              NaN  \n104886      NaN              NaN  \n104887        ?              NaN  \n104888      NaN              NaN  \n104889      NaN              NaN  \n\n[104890 rows x 6 columns]",
      "text/html": "<div>\n<style scoped>\n    .dataframe tbody tr th:only-of-type {\n        vertical-align: middle;\n    }\n\n    .dataframe tbody tr th {\n        vertical-align: top;\n    }\n\n    .dataframe thead th {\n        text-align: right;\n    }\n</style>\n<table border=\"1\" class=\"dataframe\">\n  <thead>\n    <tr style=\"text-align: right;\">\n      <th></th>\n      <th>id</th>\n      <th>token</th>\n      <th>entity_tag</th>\n      <th>full_mention</th>\n      <th>wiki_url</th>\n      <th>wikipedia_title</th>\n    </tr>\n  </thead>\n  <tbody>\n    <tr>\n      <th>0</th>\n      <td>0</td>\n      <td>-DOCSTART- (947testa CRICKET)</td>\n      <td>NaN</td>\n      <td>NaN</td>\n      <td>NaN</td>\n      <td>NaN</td>\n    </tr>\n    <tr>\n      <th>1</th>\n      <td>1</td>\n      <td>CRICKET</td>\n      <td>NaN</td>\n      <td>NaN</td>\n      <td>NaN</td>\n      <td>NaN</td>\n    </tr>\n    <tr>\n      <th>2</th>\n      <td>2</td>\n      <td>-</td>\n      <td>NaN</td>\n      <td>NaN</td>\n      <td>NaN</td>\n      <td>NaN</td>\n    </tr>\n    <tr>\n      <th>3</th>\n      <td>3</td>\n      <td>LEICESTERSHIRE</td>\n      <td>B</td>\n      <td>LEICESTERSHIRE</td>\n      <td>?</td>\n      <td>NaN</td>\n    </tr>\n    <tr>\n      <th>4</th>\n      <td>4</td>\n      <td>TAKE</td>\n      <td>NaN</td>\n      <td>NaN</td>\n      <td>NaN</td>\n      <td>NaN</td>\n    </tr>\n    <tr>\n      <th>...</th>\n      <td>...</td>\n      <td>...</td>\n      <td>...</td>\n      <td>...</td>\n      <td>...</td>\n      <td>...</td>\n    </tr>\n    <tr>\n      <th>104885</th>\n      <td>104885</td>\n      <td>brother</td>\n      <td>NaN</td>\n      <td>NaN</td>\n      <td>NaN</td>\n      <td>NaN</td>\n    </tr>\n    <tr>\n      <th>104886</th>\n      <td>104886</td>\n      <td>,</td>\n      <td>NaN</td>\n      <td>NaN</td>\n      <td>NaN</td>\n      <td>NaN</td>\n    </tr>\n    <tr>\n      <th>104887</th>\n      <td>104887</td>\n      <td>Bobby</td>\n      <td>B</td>\n      <td>Bobby</td>\n      <td>?</td>\n      <td>NaN</td>\n    </tr>\n    <tr>\n      <th>104888</th>\n      <td>104888</td>\n      <td>.</td>\n      <td>NaN</td>\n      <td>NaN</td>\n      <td>NaN</td>\n      <td>NaN</td>\n    </tr>\n    <tr>\n      <th>104889</th>\n      <td>104889</td>\n      <td>NaN</td>\n      <td>NaN</td>\n      <td>NaN</td>\n      <td>NaN</td>\n      <td>NaN</td>\n    </tr>\n  </tbody>\n</table>\n<p>104890 rows × 6 columns</p>\n</div>"
     },
     "execution_count": 32,
     "metadata": {},
     "output_type": "execute_result"
    }
   ],
   "source": [
    "test_df_mod"
   ],
   "metadata": {
    "collapsed": false,
    "ExecuteTime": {
     "end_time": "2023-12-09T16:16:41.136536Z",
     "start_time": "2023-12-09T16:16:41.122315Z"
    }
   },
   "id": "d051d08c5de4fd8c"
  },
  {
   "cell_type": "code",
   "execution_count": 37,
   "outputs": [],
   "source": [
    "\n",
    "def preprocess_title(title):\n",
    "    try:\n",
    "        return str(title).replace(' ', '').replace('_', '').lower()\n",
    "    except:\n",
    "        print(title) "
   ],
   "metadata": {
    "collapsed": false,
    "ExecuteTime": {
     "end_time": "2023-12-09T16:22:57.141561Z",
     "start_time": "2023-12-09T16:22:57.133335Z"
    }
   },
   "id": "4e2a3cb9b41f8dbf"
  },
  {
   "cell_type": "code",
   "execution_count": 49,
   "outputs": [
    {
     "name": "stdout",
     "output_type": "stream",
     "text": [
      "447\n"
     ]
    },
    {
     "data": {
      "text/plain": "     20587     534819    666909     694720     992738     995139     1151338  \\\n3    23106.0  778255.0  988954.0  1051582.0  1842129.0  1853930.0  2358899.0   \n16       NaN       NaN       NaN        NaN        NaN        NaN        NaN   \n19       NaN       NaN       NaN        NaN        NaN        NaN        NaN   \n101      NaN       NaN       NaN        NaN        NaN        NaN        NaN   \n143      NaN       NaN       NaN        NaN        NaN        NaN        NaN   \n169      NaN       NaN       NaN        NaN        NaN        NaN        NaN   \n233      NaN       NaN       NaN        NaN        NaN        NaN        NaN   \n309      NaN       NaN       NaN        NaN        NaN        NaN        NaN   \n364      NaN       NaN       NaN        NaN        NaN        NaN        NaN   \n371      NaN       NaN       NaN        NaN        NaN        NaN        NaN   \n439      NaN       NaN       NaN        NaN        NaN        NaN        NaN   \n\n       1203777    1232983    1244653  ...    3515131     4819783   579356   \\\n3    2516218.0  2612441.0  2645192.0  ...        NaN         NaN       NaN   \n16         NaN        NaN        NaN  ...        NaN         NaN       NaN   \n19         NaN        NaN        NaN  ...        NaN         NaN       NaN   \n101        NaN        NaN        NaN  ...        NaN         NaN       NaN   \n143        NaN        NaN        NaN  ...        NaN         NaN       NaN   \n169        NaN        NaN        NaN  ...        NaN         NaN       NaN   \n233        NaN        NaN        NaN  ...        NaN         NaN       NaN   \n309        NaN        NaN        NaN  ...        NaN         NaN       NaN   \n364        NaN        NaN        NaN  ...  7816918.0  27831051.0       NaN   \n371        NaN        NaN        NaN  ...        NaN         NaN  860227.0   \n439        NaN        NaN        NaN  ...        NaN         NaN       NaN   \n\n       2141199    2141200    2141201    2141202    2141203    2141204  \\\n3          NaN        NaN        NaN        NaN        NaN        NaN   \n16         NaN        NaN        NaN        NaN        NaN        NaN   \n19         NaN        NaN        NaN        NaN        NaN        NaN   \n101        NaN        NaN        NaN        NaN        NaN        NaN   \n143        NaN        NaN        NaN        NaN        NaN        NaN   \n169        NaN        NaN        NaN        NaN        NaN        NaN   \n233        NaN        NaN        NaN        NaN        NaN        NaN   \n309        NaN        NaN        NaN        NaN        NaN        NaN   \n364        NaN        NaN        NaN        NaN        NaN        NaN   \n371  5105679.0  5105681.0  5105682.0  5105684.0  5105685.0  5105686.0   \n439        NaN        NaN        NaN        NaN        NaN        NaN   \n\n       2843774  \n3          NaN  \n16         NaN  \n19         NaN  \n101        NaN  \n143        NaN  \n169        NaN  \n233        NaN  \n309        NaN  \n364        NaN  \n371        NaN  \n439  6584108.0  \n\n[11 rows x 2072 columns]",
      "text/html": "<div>\n<style scoped>\n    .dataframe tbody tr th:only-of-type {\n        vertical-align: middle;\n    }\n\n    .dataframe tbody tr th {\n        vertical-align: top;\n    }\n\n    .dataframe thead th {\n        text-align: right;\n    }\n</style>\n<table border=\"1\" class=\"dataframe\">\n  <thead>\n    <tr style=\"text-align: right;\">\n      <th></th>\n      <th>20587</th>\n      <th>534819</th>\n      <th>666909</th>\n      <th>694720</th>\n      <th>992738</th>\n      <th>995139</th>\n      <th>1151338</th>\n      <th>1203777</th>\n      <th>1232983</th>\n      <th>1244653</th>\n      <th>...</th>\n      <th>3515131</th>\n      <th>4819783</th>\n      <th>579356</th>\n      <th>2141199</th>\n      <th>2141200</th>\n      <th>2141201</th>\n      <th>2141202</th>\n      <th>2141203</th>\n      <th>2141204</th>\n      <th>2843774</th>\n    </tr>\n  </thead>\n  <tbody>\n    <tr>\n      <th>3</th>\n      <td>23106.0</td>\n      <td>778255.0</td>\n      <td>988954.0</td>\n      <td>1051582.0</td>\n      <td>1842129.0</td>\n      <td>1853930.0</td>\n      <td>2358899.0</td>\n      <td>2516218.0</td>\n      <td>2612441.0</td>\n      <td>2645192.0</td>\n      <td>...</td>\n      <td>NaN</td>\n      <td>NaN</td>\n      <td>NaN</td>\n      <td>NaN</td>\n      <td>NaN</td>\n      <td>NaN</td>\n      <td>NaN</td>\n      <td>NaN</td>\n      <td>NaN</td>\n      <td>NaN</td>\n    </tr>\n    <tr>\n      <th>16</th>\n      <td>NaN</td>\n      <td>NaN</td>\n      <td>NaN</td>\n      <td>NaN</td>\n      <td>NaN</td>\n      <td>NaN</td>\n      <td>NaN</td>\n      <td>NaN</td>\n      <td>NaN</td>\n      <td>NaN</td>\n      <td>...</td>\n      <td>NaN</td>\n      <td>NaN</td>\n      <td>NaN</td>\n      <td>NaN</td>\n      <td>NaN</td>\n      <td>NaN</td>\n      <td>NaN</td>\n      <td>NaN</td>\n      <td>NaN</td>\n      <td>NaN</td>\n    </tr>\n    <tr>\n      <th>19</th>\n      <td>NaN</td>\n      <td>NaN</td>\n      <td>NaN</td>\n      <td>NaN</td>\n      <td>NaN</td>\n      <td>NaN</td>\n      <td>NaN</td>\n      <td>NaN</td>\n      <td>NaN</td>\n      <td>NaN</td>\n      <td>...</td>\n      <td>NaN</td>\n      <td>NaN</td>\n      <td>NaN</td>\n      <td>NaN</td>\n      <td>NaN</td>\n      <td>NaN</td>\n      <td>NaN</td>\n      <td>NaN</td>\n      <td>NaN</td>\n      <td>NaN</td>\n    </tr>\n    <tr>\n      <th>101</th>\n      <td>NaN</td>\n      <td>NaN</td>\n      <td>NaN</td>\n      <td>NaN</td>\n      <td>NaN</td>\n      <td>NaN</td>\n      <td>NaN</td>\n      <td>NaN</td>\n      <td>NaN</td>\n      <td>NaN</td>\n      <td>...</td>\n      <td>NaN</td>\n      <td>NaN</td>\n      <td>NaN</td>\n      <td>NaN</td>\n      <td>NaN</td>\n      <td>NaN</td>\n      <td>NaN</td>\n      <td>NaN</td>\n      <td>NaN</td>\n      <td>NaN</td>\n    </tr>\n    <tr>\n      <th>143</th>\n      <td>NaN</td>\n      <td>NaN</td>\n      <td>NaN</td>\n      <td>NaN</td>\n      <td>NaN</td>\n      <td>NaN</td>\n      <td>NaN</td>\n      <td>NaN</td>\n      <td>NaN</td>\n      <td>NaN</td>\n      <td>...</td>\n      <td>NaN</td>\n      <td>NaN</td>\n      <td>NaN</td>\n      <td>NaN</td>\n      <td>NaN</td>\n      <td>NaN</td>\n      <td>NaN</td>\n      <td>NaN</td>\n      <td>NaN</td>\n      <td>NaN</td>\n    </tr>\n    <tr>\n      <th>169</th>\n      <td>NaN</td>\n      <td>NaN</td>\n      <td>NaN</td>\n      <td>NaN</td>\n      <td>NaN</td>\n      <td>NaN</td>\n      <td>NaN</td>\n      <td>NaN</td>\n      <td>NaN</td>\n      <td>NaN</td>\n      <td>...</td>\n      <td>NaN</td>\n      <td>NaN</td>\n      <td>NaN</td>\n      <td>NaN</td>\n      <td>NaN</td>\n      <td>NaN</td>\n      <td>NaN</td>\n      <td>NaN</td>\n      <td>NaN</td>\n      <td>NaN</td>\n    </tr>\n    <tr>\n      <th>233</th>\n      <td>NaN</td>\n      <td>NaN</td>\n      <td>NaN</td>\n      <td>NaN</td>\n      <td>NaN</td>\n      <td>NaN</td>\n      <td>NaN</td>\n      <td>NaN</td>\n      <td>NaN</td>\n      <td>NaN</td>\n      <td>...</td>\n      <td>NaN</td>\n      <td>NaN</td>\n      <td>NaN</td>\n      <td>NaN</td>\n      <td>NaN</td>\n      <td>NaN</td>\n      <td>NaN</td>\n      <td>NaN</td>\n      <td>NaN</td>\n      <td>NaN</td>\n    </tr>\n    <tr>\n      <th>309</th>\n      <td>NaN</td>\n      <td>NaN</td>\n      <td>NaN</td>\n      <td>NaN</td>\n      <td>NaN</td>\n      <td>NaN</td>\n      <td>NaN</td>\n      <td>NaN</td>\n      <td>NaN</td>\n      <td>NaN</td>\n      <td>...</td>\n      <td>NaN</td>\n      <td>NaN</td>\n      <td>NaN</td>\n      <td>NaN</td>\n      <td>NaN</td>\n      <td>NaN</td>\n      <td>NaN</td>\n      <td>NaN</td>\n      <td>NaN</td>\n      <td>NaN</td>\n    </tr>\n    <tr>\n      <th>364</th>\n      <td>NaN</td>\n      <td>NaN</td>\n      <td>NaN</td>\n      <td>NaN</td>\n      <td>NaN</td>\n      <td>NaN</td>\n      <td>NaN</td>\n      <td>NaN</td>\n      <td>NaN</td>\n      <td>NaN</td>\n      <td>...</td>\n      <td>7816918.0</td>\n      <td>27831051.0</td>\n      <td>NaN</td>\n      <td>NaN</td>\n      <td>NaN</td>\n      <td>NaN</td>\n      <td>NaN</td>\n      <td>NaN</td>\n      <td>NaN</td>\n      <td>NaN</td>\n    </tr>\n    <tr>\n      <th>371</th>\n      <td>NaN</td>\n      <td>NaN</td>\n      <td>NaN</td>\n      <td>NaN</td>\n      <td>NaN</td>\n      <td>NaN</td>\n      <td>NaN</td>\n      <td>NaN</td>\n      <td>NaN</td>\n      <td>NaN</td>\n      <td>...</td>\n      <td>NaN</td>\n      <td>NaN</td>\n      <td>860227.0</td>\n      <td>5105679.0</td>\n      <td>5105681.0</td>\n      <td>5105682.0</td>\n      <td>5105684.0</td>\n      <td>5105685.0</td>\n      <td>5105686.0</td>\n      <td>NaN</td>\n    </tr>\n    <tr>\n      <th>439</th>\n      <td>NaN</td>\n      <td>NaN</td>\n      <td>NaN</td>\n      <td>NaN</td>\n      <td>NaN</td>\n      <td>NaN</td>\n      <td>NaN</td>\n      <td>NaN</td>\n      <td>NaN</td>\n      <td>NaN</td>\n      <td>...</td>\n      <td>NaN</td>\n      <td>NaN</td>\n      <td>NaN</td>\n      <td>NaN</td>\n      <td>NaN</td>\n      <td>NaN</td>\n      <td>NaN</td>\n      <td>NaN</td>\n      <td>NaN</td>\n      <td>6584108.0</td>\n    </tr>\n  </tbody>\n</table>\n<p>11 rows × 2072 columns</p>\n</div>"
     },
     "metadata": {},
     "output_type": "display_data"
    },
    {
     "ename": "NodeNotFound",
     "evalue": "Either source 5865259.0 or target 21 is not in G",
     "output_type": "error",
     "traceback": [
      "\u001B[0;31m---------------------------------------------------------------------------\u001B[0m",
      "\u001B[0;31mNodeNotFound\u001B[0m                              Traceback (most recent call last)",
      "Cell \u001B[0;32mIn[49], line 19\u001B[0m\n\u001B[1;32m     15\u001B[0m \u001B[38;5;66;03m#display(titles)\u001B[39;00m\n\u001B[1;32m     16\u001B[0m \u001B[38;5;66;03m# Use `isin` to match titles with 'wikipedia_title' in 'wiki_items' and extract 'item_id'\u001B[39;00m\n\u001B[1;32m     17\u001B[0m doc_vertices \u001B[38;5;241m=\u001B[39m wiki_items[wiki_titles\u001B[38;5;241m.\u001B[39misin(found_titles)][\u001B[38;5;124m'\u001B[39m\u001B[38;5;124mitem_id\u001B[39m\u001B[38;5;124m'\u001B[39m]\u001B[38;5;241m.\u001B[39mvalues\n\u001B[0;32m---> 19\u001B[0m distances \u001B[38;5;241m=\u001B[39m \u001B[43mcompute_distance\u001B[49m\u001B[43m(\u001B[49m\u001B[43mG\u001B[49m\u001B[43m,\u001B[49m\u001B[43m \u001B[49m\u001B[43mnot_found_per_idx\u001B[49m\u001B[38;5;241;43m.\u001B[39;49m\u001B[43miloc\u001B[49m\u001B[43m[\u001B[49m\u001B[38;5;241;43m0\u001B[39;49m\u001B[43m]\u001B[49m\u001B[43m,\u001B[49m\u001B[43mvertices\u001B[49m\u001B[43m)\u001B[49m\n\u001B[1;32m     20\u001B[0m display(distances)\n\u001B[1;32m     21\u001B[0m \u001B[38;5;66;03m#vertices = wiki_items[wiki_items.wikipedia_title.isin(found.wiki_url.apply(lambda row: row[URL_LEN]))].item_id.values\u001B[39;00m\n\u001B[1;32m     22\u001B[0m \u001B[38;5;66;03m#display(vertices)\u001B[39;00m\n",
      "Cell \u001B[0;32mIn[15], line 21\u001B[0m, in \u001B[0;36mcompute_distance\u001B[0;34m(G, possible_vertices, document_vertices)\u001B[0m\n\u001B[1;32m     18\u001B[0m \u001B[38;5;28;01mfor\u001B[39;00m doc_vertex \u001B[38;5;129;01min\u001B[39;00m document_vertices:\n\u001B[1;32m     19\u001B[0m     \u001B[38;5;28;01mtry\u001B[39;00m:\n\u001B[1;32m     20\u001B[0m         \u001B[38;5;66;03m# Compute the shortest path length\u001B[39;00m\n\u001B[0;32m---> 21\u001B[0m         distance \u001B[38;5;241m=\u001B[39m \u001B[43mnx\u001B[49m\u001B[38;5;241;43m.\u001B[39;49m\u001B[43mshortest_path_length\u001B[49m\u001B[43m(\u001B[49m\u001B[43mG\u001B[49m\u001B[43m,\u001B[49m\u001B[43m \u001B[49m\u001B[43msource\u001B[49m\u001B[38;5;241;43m=\u001B[39;49m\u001B[43mvertex\u001B[49m\u001B[43m,\u001B[49m\u001B[43m \u001B[49m\u001B[43mtarget\u001B[49m\u001B[38;5;241;43m=\u001B[39;49m\u001B[43mdoc_vertex\u001B[49m\u001B[43m)\u001B[49m\n\u001B[1;32m     22\u001B[0m         distances[vertex][doc_vertex] \u001B[38;5;241m=\u001B[39m distance\n\u001B[1;32m     23\u001B[0m     \u001B[38;5;28;01mexcept\u001B[39;00m nx\u001B[38;5;241m.\u001B[39mNetworkXNoPath:\n\u001B[1;32m     24\u001B[0m         \u001B[38;5;66;03m# In case there is no path between vertex and doc_vertex\u001B[39;00m\n",
      "File \u001B[0;32m~/Library/Mobile Documents/com~apple~CloudDocs/Documents/GitHub/ada-2023-project-dataexplorers/venv/lib/python3.9/site-packages/networkx/utils/backends.py:412\u001B[0m, in \u001B[0;36m_dispatch.__call__\u001B[0;34m(self, backend, *args, **kwargs)\u001B[0m\n\u001B[1;32m    409\u001B[0m \u001B[38;5;28;01mdef\u001B[39;00m \u001B[38;5;21m__call__\u001B[39m(\u001B[38;5;28mself\u001B[39m, \u001B[38;5;241m/\u001B[39m, \u001B[38;5;241m*\u001B[39margs, backend\u001B[38;5;241m=\u001B[39m\u001B[38;5;28;01mNone\u001B[39;00m, \u001B[38;5;241m*\u001B[39m\u001B[38;5;241m*\u001B[39mkwargs):\n\u001B[1;32m    410\u001B[0m     \u001B[38;5;28;01mif\u001B[39;00m \u001B[38;5;129;01mnot\u001B[39;00m backends:\n\u001B[1;32m    411\u001B[0m         \u001B[38;5;66;03m# Fast path if no backends are installed\u001B[39;00m\n\u001B[0;32m--> 412\u001B[0m         \u001B[38;5;28;01mreturn\u001B[39;00m \u001B[38;5;28;43mself\u001B[39;49m\u001B[38;5;241;43m.\u001B[39;49m\u001B[43morig_func\u001B[49m\u001B[43m(\u001B[49m\u001B[38;5;241;43m*\u001B[39;49m\u001B[43margs\u001B[49m\u001B[43m,\u001B[49m\u001B[43m \u001B[49m\u001B[38;5;241;43m*\u001B[39;49m\u001B[38;5;241;43m*\u001B[39;49m\u001B[43mkwargs\u001B[49m\u001B[43m)\u001B[49m\n\u001B[1;32m    414\u001B[0m     \u001B[38;5;66;03m# Use `backend_name` in this function instead of `backend`\u001B[39;00m\n\u001B[1;32m    415\u001B[0m     backend_name \u001B[38;5;241m=\u001B[39m backend\n",
      "File \u001B[0;32m~/Library/Mobile Documents/com~apple~CloudDocs/Documents/GitHub/ada-2023-project-dataexplorers/venv/lib/python3.9/site-packages/networkx/algorithms/shortest_paths/generic.py:316\u001B[0m, in \u001B[0;36mshortest_path_length\u001B[0;34m(G, source, target, weight, method)\u001B[0m\n\u001B[1;32m    313\u001B[0m \u001B[38;5;28;01melse\u001B[39;00m:\n\u001B[1;32m    314\u001B[0m     \u001B[38;5;66;03m# Find shortest source-target path.\u001B[39;00m\n\u001B[1;32m    315\u001B[0m     \u001B[38;5;28;01mif\u001B[39;00m method \u001B[38;5;241m==\u001B[39m \u001B[38;5;124m\"\u001B[39m\u001B[38;5;124munweighted\u001B[39m\u001B[38;5;124m\"\u001B[39m:\n\u001B[0;32m--> 316\u001B[0m         p \u001B[38;5;241m=\u001B[39m \u001B[43mnx\u001B[49m\u001B[38;5;241;43m.\u001B[39;49m\u001B[43mbidirectional_shortest_path\u001B[49m\u001B[43m(\u001B[49m\u001B[43mG\u001B[49m\u001B[43m,\u001B[49m\u001B[43m \u001B[49m\u001B[43msource\u001B[49m\u001B[43m,\u001B[49m\u001B[43m \u001B[49m\u001B[43mtarget\u001B[49m\u001B[43m)\u001B[49m\n\u001B[1;32m    317\u001B[0m         paths \u001B[38;5;241m=\u001B[39m \u001B[38;5;28mlen\u001B[39m(p) \u001B[38;5;241m-\u001B[39m \u001B[38;5;241m1\u001B[39m\n\u001B[1;32m    318\u001B[0m     \u001B[38;5;28;01melif\u001B[39;00m method \u001B[38;5;241m==\u001B[39m \u001B[38;5;124m\"\u001B[39m\u001B[38;5;124mdijkstra\u001B[39m\u001B[38;5;124m\"\u001B[39m:\n",
      "File \u001B[0;32m~/Library/Mobile Documents/com~apple~CloudDocs/Documents/GitHub/ada-2023-project-dataexplorers/venv/lib/python3.9/site-packages/networkx/utils/backends.py:412\u001B[0m, in \u001B[0;36m_dispatch.__call__\u001B[0;34m(self, backend, *args, **kwargs)\u001B[0m\n\u001B[1;32m    409\u001B[0m \u001B[38;5;28;01mdef\u001B[39;00m \u001B[38;5;21m__call__\u001B[39m(\u001B[38;5;28mself\u001B[39m, \u001B[38;5;241m/\u001B[39m, \u001B[38;5;241m*\u001B[39margs, backend\u001B[38;5;241m=\u001B[39m\u001B[38;5;28;01mNone\u001B[39;00m, \u001B[38;5;241m*\u001B[39m\u001B[38;5;241m*\u001B[39mkwargs):\n\u001B[1;32m    410\u001B[0m     \u001B[38;5;28;01mif\u001B[39;00m \u001B[38;5;129;01mnot\u001B[39;00m backends:\n\u001B[1;32m    411\u001B[0m         \u001B[38;5;66;03m# Fast path if no backends are installed\u001B[39;00m\n\u001B[0;32m--> 412\u001B[0m         \u001B[38;5;28;01mreturn\u001B[39;00m \u001B[38;5;28;43mself\u001B[39;49m\u001B[38;5;241;43m.\u001B[39;49m\u001B[43morig_func\u001B[49m\u001B[43m(\u001B[49m\u001B[38;5;241;43m*\u001B[39;49m\u001B[43margs\u001B[49m\u001B[43m,\u001B[49m\u001B[43m \u001B[49m\u001B[38;5;241;43m*\u001B[39;49m\u001B[38;5;241;43m*\u001B[39;49m\u001B[43mkwargs\u001B[49m\u001B[43m)\u001B[49m\n\u001B[1;32m    414\u001B[0m     \u001B[38;5;66;03m# Use `backend_name` in this function instead of `backend`\u001B[39;00m\n\u001B[1;32m    415\u001B[0m     backend_name \u001B[38;5;241m=\u001B[39m backend\n",
      "File \u001B[0;32m~/Library/Mobile Documents/com~apple~CloudDocs/Documents/GitHub/ada-2023-project-dataexplorers/venv/lib/python3.9/site-packages/networkx/algorithms/shortest_paths/unweighted.py:238\u001B[0m, in \u001B[0;36mbidirectional_shortest_path\u001B[0;34m(G, source, target)\u001B[0m\n\u001B[1;32m    236\u001B[0m \u001B[38;5;28;01mif\u001B[39;00m source \u001B[38;5;129;01mnot\u001B[39;00m \u001B[38;5;129;01min\u001B[39;00m G \u001B[38;5;129;01mor\u001B[39;00m target \u001B[38;5;129;01mnot\u001B[39;00m \u001B[38;5;129;01min\u001B[39;00m G:\n\u001B[1;32m    237\u001B[0m     msg \u001B[38;5;241m=\u001B[39m \u001B[38;5;124mf\u001B[39m\u001B[38;5;124m\"\u001B[39m\u001B[38;5;124mEither source \u001B[39m\u001B[38;5;132;01m{\u001B[39;00msource\u001B[38;5;132;01m}\u001B[39;00m\u001B[38;5;124m or target \u001B[39m\u001B[38;5;132;01m{\u001B[39;00mtarget\u001B[38;5;132;01m}\u001B[39;00m\u001B[38;5;124m is not in G\u001B[39m\u001B[38;5;124m\"\u001B[39m\n\u001B[0;32m--> 238\u001B[0m     \u001B[38;5;28;01mraise\u001B[39;00m nx\u001B[38;5;241m.\u001B[39mNodeNotFound(msg)\n\u001B[1;32m    240\u001B[0m \u001B[38;5;66;03m# call helper to do the real work\u001B[39;00m\n\u001B[1;32m    241\u001B[0m results \u001B[38;5;241m=\u001B[39m _bidirectional_pred_succ(G, source, target)\n",
      "\u001B[0;31mNodeNotFound\u001B[0m: Either source 5865259.0 or target 21 is not in G"
     ]
    }
   ],
   "source": [
    "test_doc_range =  find_doc_range(test)\n",
    "\n",
    "for start, end in test_doc_range:\n",
    "    current_doc = non_na_test[(non_na_test.id >= start) & (non_na_test.id <= end)]\n",
    "    not_found = current_doc[current_doc['wiki_url'] == '?']\n",
    "    found = current_doc[current_doc['wiki_url'].str.startswith('http')]\n",
    "    if end < 500:\n",
    "        #display(current_doc)\n",
    "        #display(not_found)\n",
    "        #display(found)\n",
    "        found_titles = found['wiki_url'].apply(lambda row: row[URL_LEN:]).apply(preprocess_title)\n",
    "        not_found_per_idx = not_found['full_mention'].apply(lambda row: find_possible_indexes(wiki_items, row))\n",
    "        display(not_found_per_idx)\n",
    "        wiki_titles = wiki_items['wikipedia_title'].apply(preprocess_title)\n",
    "        #display(titles)\n",
    "        # Use `isin` to match titles with 'wikipedia_title' in 'wiki_items' and extract 'item_id'\n",
    "        doc_vertices = wiki_items[wiki_titles.isin(found_titles)]['item_id'].values\n",
    "        \n",
    "        distances = compute_distance(G, not_found_per_idx.iloc[0],vertices)\n",
    "        display(distances)\n",
    "        #vertices = wiki_items[wiki_items.wikipedia_title.isin(found.wiki_url.apply(lambda row: row[URL_LEN]))].item_id.values\n",
    "        #display(vertices)\n",
    "        "
   ],
   "metadata": {
    "collapsed": false,
    "ExecuteTime": {
     "end_time": "2023-12-09T16:33:43.362061Z",
     "start_time": "2023-12-09T16:33:24.682848Z"
    }
   },
   "id": "e7ac6f9613a413f6"
  },
  {
   "cell_type": "code",
   "execution_count": 41,
   "outputs": [
    {
     "data": {
      "text/plain": "         item_id                             en_label  \\\n13            21                              England   \n73            84                               London   \n377          408                            Australia   \n748457   1155836                             The Oval   \n760665   1187032                   Headingley Stadium   \n977029   1788018       Derbyshire County Cricket Club   \n1126814  2278396                         Paul Johnson   \n1271284  2725632           Surrey County Cricket Club   \n1271297  2725667   Worcestershire County Cricket Club   \n1271309  2725705     Warwickshire County Cricket Club   \n1373695  3058749            Essex County Cricket Club   \n1415232  3177444        Yorkshire County Cricket Club   \n1422158  3195284             Kent County Cricket Club   \n1430950  3229147   Leicestershire County Cricket Club   \n1470832  3344790  Nottinghamshire County Cricket Club   \n1521999  3489807         Somerset County Cricket Club   \n1534046  3520174                       Nasser Hussain   \n1897722  4756511                       Andrew Caddick   \n2142365  5107238                          Chris Lewis   \n\n                                            en_description  \\\n13       country in north-west Europe, part of the Unit...   \n73          capital and largest city of the United Kingdom   \n377                                     country in Oceania   \n748457          cricket ground in Kennington, South London   \n760665                                        sports venue   \n977029                                english cricket club   \n1126814                         squash player from England   \n1271284                               English cricket club   \n1271297                               english cricket team   \n1271309                               english cricket club   \n1373695                               english cricket club   \n1415232                               english cricket club   \n1422158                               English cricket club   \n1430950                               english cricket club   \n1470832                                        sports club   \n1521999                               english cricket club   \n1534046                                  English cricketer   \n1897722                                  English cricketer   \n2142365  English Test and County cricketer, drug traffi...   \n\n                             wikipedia_title  \n13                                   England  \n73                                    London  \n377                                Australia  \n748457                              The Oval  \n760665                    Headingley Stadium  \n977029        Derbyshire County Cricket Club  \n1126814         Paul Johnson (squash player)  \n1271284           Surrey County Cricket Club  \n1271297   Worcestershire County Cricket Club  \n1271309     Warwickshire County Cricket Club  \n1373695            Essex County Cricket Club  \n1415232        Yorkshire County Cricket Club  \n1422158             Kent County Cricket Club  \n1430950   Leicestershire County Cricket Club  \n1470832  Nottinghamshire County Cricket Club  \n1521999         Somerset County Cricket Club  \n1534046                       Nasser Hussain  \n1897722                       Andrew Caddick  \n2142365              Chris Lewis (cricketer)  ",
      "text/html": "<div>\n<style scoped>\n    .dataframe tbody tr th:only-of-type {\n        vertical-align: middle;\n    }\n\n    .dataframe tbody tr th {\n        vertical-align: top;\n    }\n\n    .dataframe thead th {\n        text-align: right;\n    }\n</style>\n<table border=\"1\" class=\"dataframe\">\n  <thead>\n    <tr style=\"text-align: right;\">\n      <th></th>\n      <th>item_id</th>\n      <th>en_label</th>\n      <th>en_description</th>\n      <th>wikipedia_title</th>\n    </tr>\n  </thead>\n  <tbody>\n    <tr>\n      <th>13</th>\n      <td>21</td>\n      <td>England</td>\n      <td>country in north-west Europe, part of the Unit...</td>\n      <td>England</td>\n    </tr>\n    <tr>\n      <th>73</th>\n      <td>84</td>\n      <td>London</td>\n      <td>capital and largest city of the United Kingdom</td>\n      <td>London</td>\n    </tr>\n    <tr>\n      <th>377</th>\n      <td>408</td>\n      <td>Australia</td>\n      <td>country in Oceania</td>\n      <td>Australia</td>\n    </tr>\n    <tr>\n      <th>748457</th>\n      <td>1155836</td>\n      <td>The Oval</td>\n      <td>cricket ground in Kennington, South London</td>\n      <td>The Oval</td>\n    </tr>\n    <tr>\n      <th>760665</th>\n      <td>1187032</td>\n      <td>Headingley Stadium</td>\n      <td>sports venue</td>\n      <td>Headingley Stadium</td>\n    </tr>\n    <tr>\n      <th>977029</th>\n      <td>1788018</td>\n      <td>Derbyshire County Cricket Club</td>\n      <td>english cricket club</td>\n      <td>Derbyshire County Cricket Club</td>\n    </tr>\n    <tr>\n      <th>1126814</th>\n      <td>2278396</td>\n      <td>Paul Johnson</td>\n      <td>squash player from England</td>\n      <td>Paul Johnson (squash player)</td>\n    </tr>\n    <tr>\n      <th>1271284</th>\n      <td>2725632</td>\n      <td>Surrey County Cricket Club</td>\n      <td>English cricket club</td>\n      <td>Surrey County Cricket Club</td>\n    </tr>\n    <tr>\n      <th>1271297</th>\n      <td>2725667</td>\n      <td>Worcestershire County Cricket Club</td>\n      <td>english cricket team</td>\n      <td>Worcestershire County Cricket Club</td>\n    </tr>\n    <tr>\n      <th>1271309</th>\n      <td>2725705</td>\n      <td>Warwickshire County Cricket Club</td>\n      <td>english cricket club</td>\n      <td>Warwickshire County Cricket Club</td>\n    </tr>\n    <tr>\n      <th>1373695</th>\n      <td>3058749</td>\n      <td>Essex County Cricket Club</td>\n      <td>english cricket club</td>\n      <td>Essex County Cricket Club</td>\n    </tr>\n    <tr>\n      <th>1415232</th>\n      <td>3177444</td>\n      <td>Yorkshire County Cricket Club</td>\n      <td>english cricket club</td>\n      <td>Yorkshire County Cricket Club</td>\n    </tr>\n    <tr>\n      <th>1422158</th>\n      <td>3195284</td>\n      <td>Kent County Cricket Club</td>\n      <td>English cricket club</td>\n      <td>Kent County Cricket Club</td>\n    </tr>\n    <tr>\n      <th>1430950</th>\n      <td>3229147</td>\n      <td>Leicestershire County Cricket Club</td>\n      <td>english cricket club</td>\n      <td>Leicestershire County Cricket Club</td>\n    </tr>\n    <tr>\n      <th>1470832</th>\n      <td>3344790</td>\n      <td>Nottinghamshire County Cricket Club</td>\n      <td>sports club</td>\n      <td>Nottinghamshire County Cricket Club</td>\n    </tr>\n    <tr>\n      <th>1521999</th>\n      <td>3489807</td>\n      <td>Somerset County Cricket Club</td>\n      <td>english cricket club</td>\n      <td>Somerset County Cricket Club</td>\n    </tr>\n    <tr>\n      <th>1534046</th>\n      <td>3520174</td>\n      <td>Nasser Hussain</td>\n      <td>English cricketer</td>\n      <td>Nasser Hussain</td>\n    </tr>\n    <tr>\n      <th>1897722</th>\n      <td>4756511</td>\n      <td>Andrew Caddick</td>\n      <td>English cricketer</td>\n      <td>Andrew Caddick</td>\n    </tr>\n    <tr>\n      <th>2142365</th>\n      <td>5107238</td>\n      <td>Chris Lewis</td>\n      <td>English Test and County cricketer, drug traffi...</td>\n      <td>Chris Lewis (cricketer)</td>\n    </tr>\n  </tbody>\n</table>\n</div>"
     },
     "execution_count": 41,
     "metadata": {},
     "output_type": "execute_result"
    }
   ],
   "source": [
    "wiki_items[wiki_items.item_id.isin(vertices)]"
   ],
   "metadata": {
    "collapsed": false,
    "ExecuteTime": {
     "end_time": "2023-12-09T16:24:08.164594Z",
     "start_time": "2023-12-09T16:24:08.145149Z"
    }
   },
   "id": "45a1b74bfaebf000"
  },
  {
   "cell_type": "code",
   "execution_count": 47,
   "outputs": [
    {
     "name": "stdout",
     "output_type": "stream",
     "text": [
      "Source node 20587 not found in the graph.\n"
     ]
    }
   ],
   "source": [
    "# Check if the source and target nodes exist in the graph\n",
    "source_node = 20587\n",
    "target_node = 21\n",
    "\n",
    "if not G.has_node(source_node):\n",
    "    print(f\"Source node {source_node} not found in the graph.\")\n",
    "    # Optionally add the node: G.add_node(source_node)\n",
    "\n",
    "if not G.has_node(target_node):\n",
    "    print(f\"Target node {target_node} not found in the graph.\")\n",
    "    # Optionally add the node: G.add_node(target_node)\n",
    "\n",
    "# If both nodes exist, perform your operation\n",
    "if G.has_node(source_node) and G.has_node(target_node):\n",
    "    # Example operation: finding a shortest path\n",
    "    path = nx.shortest_path(G, source=source_node, target=target_node)\n",
    "    print(path)\n"
   ],
   "metadata": {
    "collapsed": false,
    "ExecuteTime": {
     "end_time": "2023-12-09T16:30:23.555612Z",
     "start_time": "2023-12-09T16:30:23.546737Z"
    }
   },
   "id": "519c53e4188725c9"
  },
  {
   "cell_type": "code",
   "execution_count": 54,
   "outputs": [
    {
     "data": {
      "text/plain": "         item_id    en_label      en_description wikipedia_title\n3138482  7182408  Phil Simon  non-fiction writer      Phil Simon",
      "text/html": "<div>\n<style scoped>\n    .dataframe tbody tr th:only-of-type {\n        vertical-align: middle;\n    }\n\n    .dataframe tbody tr th {\n        vertical-align: top;\n    }\n\n    .dataframe thead th {\n        text-align: right;\n    }\n</style>\n<table border=\"1\" class=\"dataframe\">\n  <thead>\n    <tr style=\"text-align: right;\">\n      <th></th>\n      <th>item_id</th>\n      <th>en_label</th>\n      <th>en_description</th>\n      <th>wikipedia_title</th>\n    </tr>\n  </thead>\n  <tbody>\n    <tr>\n      <th>3138482</th>\n      <td>7182408</td>\n      <td>Phil Simon</td>\n      <td>non-fiction writer</td>\n      <td>Phil Simon</td>\n    </tr>\n  </tbody>\n</table>\n</div>"
     },
     "execution_count": 54,
     "metadata": {},
     "output_type": "execute_result"
    }
   ],
   "source": [
    "wiki_items[wiki_items['en_label'].str.contains('Phil Simon', case=False, na=False)]"
   ],
   "metadata": {
    "collapsed": false,
    "ExecuteTime": {
     "end_time": "2023-12-09T16:49:28.460403Z",
     "start_time": "2023-12-09T16:49:27.532659Z"
    }
   },
   "id": "b457d7b8cf1ae583"
  },
  {
   "cell_type": "code",
   "execution_count": null,
   "outputs": [],
   "source": [],
   "metadata": {
    "collapsed": false
   },
   "id": "e2655f3249b646be"
  }
 ],
 "metadata": {
  "kernelspec": {
   "display_name": "Python 3 (ipykernel)",
   "language": "python",
   "name": "python3"
  },
  "language_info": {
   "codemirror_mode": {
    "name": "ipython",
    "version": 3
   },
   "file_extension": ".py",
   "mimetype": "text/x-python",
   "name": "python",
   "nbconvert_exporter": "python",
   "pygments_lexer": "ipython3",
   "version": "3.9.6"
  }
 },
 "nbformat": 4,
 "nbformat_minor": 5
}
