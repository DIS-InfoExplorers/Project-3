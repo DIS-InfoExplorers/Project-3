{
 "cells": [
  {
   "cell_type": "code",
   "execution_count": 98,
   "id": "initial_id",
   "metadata": {
    "collapsed": true,
    "ExecuteTime": {
     "end_time": "2023-12-14T09:17:19.723026300Z",
     "start_time": "2023-12-14T09:17:19.667177600Z"
    }
   },
   "outputs": [],
   "source": [
    "import numpy as np\n",
    "import pandas as pd\n",
    "import matplotlib.pyplot as plt\n",
    "import pickle\n",
    "from tqdm import tqdm\n",
    "import os"
   ]
  },
  {
   "cell_type": "code",
   "execution_count": 99,
   "outputs": [],
   "source": [
    "# Constant paths\n",
    "DATA_FOLDER = 'data/'\n",
    "PICKLES_FOLDER = 'pickles/'\n",
    "WIKILITE_FOLDER = DATA_FOLDER + 'wiki_lite/'\n",
    "SUBMISSIONS_FOLDER = 'submissions/'\n",
    "\n",
    "# Create folders if they don't exist\n",
    "if not os.path.exists(PICKLES_FOLDER):\n",
    "    os.makedirs(PICKLES_FOLDER)\n",
    "\n",
    "if not os.path.exists(SUBMISSIONS_FOLDER):\n",
    "    os.makedirs(SUBMISSIONS_FOLDER)"
   ],
   "metadata": {
    "collapsed": false,
    "ExecuteTime": {
     "end_time": "2023-12-14T09:17:19.738029700Z",
     "start_time": "2023-12-14T09:17:19.670763700Z"
    }
   },
   "id": "18f1bb4a3fc83cd6"
  },
  {
   "cell_type": "code",
   "execution_count": 100,
   "outputs": [],
   "source": [
    "# Train data loading\n",
    "try:\n",
    "    train_df = pd.read_pickle(PICKLES_FOLDER + 'train_df.pkl')\n",
    "except:\n",
    "    train_df = pd.read_csv(DATA_FOLDER + 'train.csv')\n",
    "    train_df.to_pickle(PICKLES_FOLDER + 'train_df.pkl')\n",
    "  \n",
    "# Test data loading  \n",
    "try:\n",
    "    test_df = pd.read_pickle(PICKLES_FOLDER + 'test_df.pkl')\n",
    "except:\n",
    "    test_df = pd.read_csv(DATA_FOLDER + 'test.csv')  \n",
    "    test_df.to_pickle(PICKLES_FOLDER + 'test_df.pkl')\n",
    "   \n",
    "# Redirects loading\n",
    "try:\n",
    "    enwinki_redirects = pd.read_pickle(PICKLES_FOLDER + 'enwiki_redirects.pkl')\n",
    "except:\n",
    "    enwinki_redirects = pd.read_csv(WIKILITE_FOLDER + 'enwiki_redirects.tsv', names=['en_title', 'en_redirect_title'], sep='\\t')\n",
    "    enwinki_redirects.to_pickle(PICKLES_FOLDER + 'enwiki_redirects.pkl')\n",
    "  \n",
    "# Aliases loading  \n",
    "try:\n",
    "    item_aliases = pd.read_pickle(PICKLES_FOLDER + 'item_aliases.pkl')\n",
    "except:\n",
    "    item_aliases = pd.read_csv(WIKILITE_FOLDER + 'item_aliases.csv')\n",
    "    item_aliases.to_pickle(PICKLES_FOLDER + 'item_aliases.pkl')\n",
    "\n",
    "# Properties loading\n",
    "try:\n",
    "    properties = pd.read_pickle(PICKLES_FOLDER + 'property.pkl')\n",
    "except:\n",
    "    properties = pd.read_csv(WIKILITE_FOLDER + 'property.csv')\n",
    "    properties.to_pickle(PICKLES_FOLDER + 'property.pkl')\n",
    "\n",
    "# Statements loading\n",
    "try:\n",
    "    statements = pd.read_pickle(PICKLES_FOLDER + 'statements.pkl')\n",
    "except:\n",
    "    statements = pd.read_csv(WIKILITE_FOLDER + 'statements.csv')\n",
    "    statements.to_pickle(PICKLES_FOLDER + 'statements.pkl')\n",
    "   \n",
    "# Wiki items loading \n",
    "try:\n",
    "    wiki_items = pd.read_pickle(PICKLES_FOLDER + 'wiki_items.pkl')\n",
    "except:\n",
    "    wiki_items = pd.read_csv(WIKILITE_FOLDER + 'wiki_items.csv')\n",
    "    wiki_items.to_pickle(PICKLES_FOLDER + 'wiki_items.pkl')"
   ],
   "metadata": {
    "collapsed": false,
    "ExecuteTime": {
     "end_time": "2023-12-14T09:17:23.237280500Z",
     "start_time": "2023-12-14T09:17:19.681196200Z"
    }
   },
   "id": "8b9e6f0ee2813fe"
  },
  {
   "cell_type": "markdown",
   "source": [
    "## Data exploration"
   ],
   "metadata": {
    "collapsed": false
   },
   "id": "78f73f63d272f417"
  },
  {
   "cell_type": "code",
   "execution_count": 101,
   "outputs": [
    {
     "name": "stdout",
     "output_type": "stream",
     "text": [
      "Redirects:\n"
     ]
    },
    {
     "data": {
      "text/plain": "                               en_title     en_redirect_title\n0                                     !      Exclamation mark\n1              ! (CONFIG.SYS directive)            CONFIG.SYS\n2                  ! (Donnie Vie Album)            Donnie Vie\n3                  ! (Donnie Vie album)            Donnie Vie\n4        ! (The Song Formerly Known As)          Unit (album)\n...                                 ...                   ...\n8558898                               󠁽  Tags (Unicode block)\n8558899                               󠁾  Tags (Unicode block)\n8558900                               󠁿  Tags (Unicode block)\n8558901                               􍁷     Private Use Areas\n8558902                               􏰉     Private Use Areas\n\n[8558903 rows x 2 columns]",
      "text/html": "<div>\n<style scoped>\n    .dataframe tbody tr th:only-of-type {\n        vertical-align: middle;\n    }\n\n    .dataframe tbody tr th {\n        vertical-align: top;\n    }\n\n    .dataframe thead th {\n        text-align: right;\n    }\n</style>\n<table border=\"1\" class=\"dataframe\">\n  <thead>\n    <tr style=\"text-align: right;\">\n      <th></th>\n      <th>en_title</th>\n      <th>en_redirect_title</th>\n    </tr>\n  </thead>\n  <tbody>\n    <tr>\n      <th>0</th>\n      <td>!</td>\n      <td>Exclamation mark</td>\n    </tr>\n    <tr>\n      <th>1</th>\n      <td>! (CONFIG.SYS directive)</td>\n      <td>CONFIG.SYS</td>\n    </tr>\n    <tr>\n      <th>2</th>\n      <td>! (Donnie Vie Album)</td>\n      <td>Donnie Vie</td>\n    </tr>\n    <tr>\n      <th>3</th>\n      <td>! (Donnie Vie album)</td>\n      <td>Donnie Vie</td>\n    </tr>\n    <tr>\n      <th>4</th>\n      <td>! (The Song Formerly Known As)</td>\n      <td>Unit (album)</td>\n    </tr>\n    <tr>\n      <th>...</th>\n      <td>...</td>\n      <td>...</td>\n    </tr>\n    <tr>\n      <th>8558898</th>\n      <td>󠁽</td>\n      <td>Tags (Unicode block)</td>\n    </tr>\n    <tr>\n      <th>8558899</th>\n      <td>󠁾</td>\n      <td>Tags (Unicode block)</td>\n    </tr>\n    <tr>\n      <th>8558900</th>\n      <td>󠁿</td>\n      <td>Tags (Unicode block)</td>\n    </tr>\n    <tr>\n      <th>8558901</th>\n      <td>􍁷</td>\n      <td>Private Use Areas</td>\n    </tr>\n    <tr>\n      <th>8558902</th>\n      <td>􏰉</td>\n      <td>Private Use Areas</td>\n    </tr>\n  </tbody>\n</table>\n<p>8558903 rows × 2 columns</p>\n</div>"
     },
     "metadata": {},
     "output_type": "display_data"
    },
    {
     "name": "stdout",
     "output_type": "stream",
     "text": [
      "Aliases:\n"
     ]
    },
    {
     "data": {
      "text/plain": "          item_id                                           en_alias\n0               1                                       Our Universe\n1               1                                       The Universe\n2               1                                         The Cosmos\n3               1                                             cosmos\n4               2                                        Blue Planet\n...           ...                                                ...\n1495310  76858465  Photinus luciferin 4-monooxygenase (adenosine ...\n1495311  76858465                                 firefly luciferase\n1495312  76868858                               12 Canum Venaticorum\n1495313  76868858                            Alpha Canum Venaticorum\n1495314  76955532                                             Meleph\n\n[1495315 rows x 2 columns]",
      "text/html": "<div>\n<style scoped>\n    .dataframe tbody tr th:only-of-type {\n        vertical-align: middle;\n    }\n\n    .dataframe tbody tr th {\n        vertical-align: top;\n    }\n\n    .dataframe thead th {\n        text-align: right;\n    }\n</style>\n<table border=\"1\" class=\"dataframe\">\n  <thead>\n    <tr style=\"text-align: right;\">\n      <th></th>\n      <th>item_id</th>\n      <th>en_alias</th>\n    </tr>\n  </thead>\n  <tbody>\n    <tr>\n      <th>0</th>\n      <td>1</td>\n      <td>Our Universe</td>\n    </tr>\n    <tr>\n      <th>1</th>\n      <td>1</td>\n      <td>The Universe</td>\n    </tr>\n    <tr>\n      <th>2</th>\n      <td>1</td>\n      <td>The Cosmos</td>\n    </tr>\n    <tr>\n      <th>3</th>\n      <td>1</td>\n      <td>cosmos</td>\n    </tr>\n    <tr>\n      <th>4</th>\n      <td>2</td>\n      <td>Blue Planet</td>\n    </tr>\n    <tr>\n      <th>...</th>\n      <td>...</td>\n      <td>...</td>\n    </tr>\n    <tr>\n      <th>1495310</th>\n      <td>76858465</td>\n      <td>Photinus luciferin 4-monooxygenase (adenosine ...</td>\n    </tr>\n    <tr>\n      <th>1495311</th>\n      <td>76858465</td>\n      <td>firefly luciferase</td>\n    </tr>\n    <tr>\n      <th>1495312</th>\n      <td>76868858</td>\n      <td>12 Canum Venaticorum</td>\n    </tr>\n    <tr>\n      <th>1495313</th>\n      <td>76868858</td>\n      <td>Alpha Canum Venaticorum</td>\n    </tr>\n    <tr>\n      <th>1495314</th>\n      <td>76955532</td>\n      <td>Meleph</td>\n    </tr>\n  </tbody>\n</table>\n<p>1495315 rows × 2 columns</p>\n</div>"
     },
     "metadata": {},
     "output_type": "display_data"
    },
    {
     "name": "stdout",
     "output_type": "stream",
     "text": [
      "Properties:\n"
     ]
    },
    {
     "data": {
      "text/plain": "      property_id                                        en_label  \\\n0               6                              head of government   \n1              10                                           video   \n2              14                                    traffic sign   \n3              15                                       route map   \n4              16                                  highway system   \n...           ...                                             ...   \n6980         7663                           Scienza a due voci ID   \n6981         7665                                    FMV World ID   \n6982         7666             Visuotinė lietuvių enciklopedija ID   \n6983         7667  Hellenic Civil Aviation Authority airport code   \n6984         7668                                       file page   \n\n                                         en_description  \n0     head of the executive power of this town, city...  \n1     relevant video. For images, use the property P...  \n2     graphic symbol describing the item, used at th...  \n3               image of route map at Wikimedia Commons  \n4     system (or specific country specific road type...  \n...                                                 ...  \n6980  identifier for an Italian female scientist in ...  \n6981  identifier of a video game in the FMV World da...  \n6982  identifier for an item in the online edition o...  \n6983                                                NaN  \n6984  property to indicate a page number of a pdf fi...  \n\n[6985 rows x 3 columns]",
      "text/html": "<div>\n<style scoped>\n    .dataframe tbody tr th:only-of-type {\n        vertical-align: middle;\n    }\n\n    .dataframe tbody tr th {\n        vertical-align: top;\n    }\n\n    .dataframe thead th {\n        text-align: right;\n    }\n</style>\n<table border=\"1\" class=\"dataframe\">\n  <thead>\n    <tr style=\"text-align: right;\">\n      <th></th>\n      <th>property_id</th>\n      <th>en_label</th>\n      <th>en_description</th>\n    </tr>\n  </thead>\n  <tbody>\n    <tr>\n      <th>0</th>\n      <td>6</td>\n      <td>head of government</td>\n      <td>head of the executive power of this town, city...</td>\n    </tr>\n    <tr>\n      <th>1</th>\n      <td>10</td>\n      <td>video</td>\n      <td>relevant video. For images, use the property P...</td>\n    </tr>\n    <tr>\n      <th>2</th>\n      <td>14</td>\n      <td>traffic sign</td>\n      <td>graphic symbol describing the item, used at th...</td>\n    </tr>\n    <tr>\n      <th>3</th>\n      <td>15</td>\n      <td>route map</td>\n      <td>image of route map at Wikimedia Commons</td>\n    </tr>\n    <tr>\n      <th>4</th>\n      <td>16</td>\n      <td>highway system</td>\n      <td>system (or specific country specific road type...</td>\n    </tr>\n    <tr>\n      <th>...</th>\n      <td>...</td>\n      <td>...</td>\n      <td>...</td>\n    </tr>\n    <tr>\n      <th>6980</th>\n      <td>7663</td>\n      <td>Scienza a due voci ID</td>\n      <td>identifier for an Italian female scientist in ...</td>\n    </tr>\n    <tr>\n      <th>6981</th>\n      <td>7665</td>\n      <td>FMV World ID</td>\n      <td>identifier of a video game in the FMV World da...</td>\n    </tr>\n    <tr>\n      <th>6982</th>\n      <td>7666</td>\n      <td>Visuotinė lietuvių enciklopedija ID</td>\n      <td>identifier for an item in the online edition o...</td>\n    </tr>\n    <tr>\n      <th>6983</th>\n      <td>7667</td>\n      <td>Hellenic Civil Aviation Authority airport code</td>\n      <td>NaN</td>\n    </tr>\n    <tr>\n      <th>6984</th>\n      <td>7668</td>\n      <td>file page</td>\n      <td>property to indicate a page number of a pdf fi...</td>\n    </tr>\n  </tbody>\n</table>\n<p>6985 rows × 3 columns</p>\n</div>"
     },
     "metadata": {},
     "output_type": "display_data"
    },
    {
     "name": "stdout",
     "output_type": "stream",
     "text": [
      "Statements:\n"
     ]
    },
    {
     "data": {
      "text/plain": "          source_item_id  edge_property_id  target_item_id\n0                      1               398          497745\n1                      1               398         1133705\n2                      1               398         1139177\n3                      1               398         7439451\n4                      1               398        15241043\n...                  ...               ...             ...\n26903183        77240068                31           16970\n26903184        77240068               131           23556\n26903185        77242291                17             145\n26903186        77242291               131           23311\n26903187        77242291               466         1537151\n\n[26903188 rows x 3 columns]",
      "text/html": "<div>\n<style scoped>\n    .dataframe tbody tr th:only-of-type {\n        vertical-align: middle;\n    }\n\n    .dataframe tbody tr th {\n        vertical-align: top;\n    }\n\n    .dataframe thead th {\n        text-align: right;\n    }\n</style>\n<table border=\"1\" class=\"dataframe\">\n  <thead>\n    <tr style=\"text-align: right;\">\n      <th></th>\n      <th>source_item_id</th>\n      <th>edge_property_id</th>\n      <th>target_item_id</th>\n    </tr>\n  </thead>\n  <tbody>\n    <tr>\n      <th>0</th>\n      <td>1</td>\n      <td>398</td>\n      <td>497745</td>\n    </tr>\n    <tr>\n      <th>1</th>\n      <td>1</td>\n      <td>398</td>\n      <td>1133705</td>\n    </tr>\n    <tr>\n      <th>2</th>\n      <td>1</td>\n      <td>398</td>\n      <td>1139177</td>\n    </tr>\n    <tr>\n      <th>3</th>\n      <td>1</td>\n      <td>398</td>\n      <td>7439451</td>\n    </tr>\n    <tr>\n      <th>4</th>\n      <td>1</td>\n      <td>398</td>\n      <td>15241043</td>\n    </tr>\n    <tr>\n      <th>...</th>\n      <td>...</td>\n      <td>...</td>\n      <td>...</td>\n    </tr>\n    <tr>\n      <th>26903183</th>\n      <td>77240068</td>\n      <td>31</td>\n      <td>16970</td>\n    </tr>\n    <tr>\n      <th>26903184</th>\n      <td>77240068</td>\n      <td>131</td>\n      <td>23556</td>\n    </tr>\n    <tr>\n      <th>26903185</th>\n      <td>77242291</td>\n      <td>17</td>\n      <td>145</td>\n    </tr>\n    <tr>\n      <th>26903186</th>\n      <td>77242291</td>\n      <td>131</td>\n      <td>23311</td>\n    </tr>\n    <tr>\n      <th>26903187</th>\n      <td>77242291</td>\n      <td>466</td>\n      <td>1537151</td>\n    </tr>\n  </tbody>\n</table>\n<p>26903188 rows × 3 columns</p>\n</div>"
     },
     "metadata": {},
     "output_type": "display_data"
    },
    {
     "name": "stdout",
     "output_type": "stream",
     "text": [
      "Wiki items:\n"
     ]
    },
    {
     "data": {
      "text/plain": "          item_id                 en_label  \\\n0               1                 Universe   \n1               2                    Earth   \n2               3                     life   \n3               4                    death   \n4               5                    human   \n...           ...                      ...   \n5216231  77042017                  HR 4523   \n5216232  77043280         Charlie Johnston   \n5216233  77231860               Aldo Rossi   \n5216234  77240068  Ebenezer Baptist Church   \n5216235  77242291                New Court   \n\n                                            en_description  \\\n0                       totality of space and all contents   \n1            third planet from the Sun in the Solar System   \n2        matter capable of extracting energy from the e...   \n3                   permanent cessation of vital functions   \n4        common name of Homo sapiens, unique extant spe...   \n...                                                    ...   \n5216231                                                NaN   \n5216232                                                NaN   \n5216233                                           musician   \n5216234                    church in Atlanta, Georgia, USA   \n5216235           group of buildings in City of London, UK   \n\n                 wikipedia_title  \n0                       Universe  \n1                          Earth  \n2                           Life  \n3                          Death  \n4                          Human  \n...                          ...  \n5216231                HD 102365  \n5216232        Charlie Johnstone  \n5216233    Aldo Rossi (musician)  \n5216234  Ebenezer Baptist Church  \n5216235                New Court  \n\n[5216236 rows x 4 columns]",
      "text/html": "<div>\n<style scoped>\n    .dataframe tbody tr th:only-of-type {\n        vertical-align: middle;\n    }\n\n    .dataframe tbody tr th {\n        vertical-align: top;\n    }\n\n    .dataframe thead th {\n        text-align: right;\n    }\n</style>\n<table border=\"1\" class=\"dataframe\">\n  <thead>\n    <tr style=\"text-align: right;\">\n      <th></th>\n      <th>item_id</th>\n      <th>en_label</th>\n      <th>en_description</th>\n      <th>wikipedia_title</th>\n    </tr>\n  </thead>\n  <tbody>\n    <tr>\n      <th>0</th>\n      <td>1</td>\n      <td>Universe</td>\n      <td>totality of space and all contents</td>\n      <td>Universe</td>\n    </tr>\n    <tr>\n      <th>1</th>\n      <td>2</td>\n      <td>Earth</td>\n      <td>third planet from the Sun in the Solar System</td>\n      <td>Earth</td>\n    </tr>\n    <tr>\n      <th>2</th>\n      <td>3</td>\n      <td>life</td>\n      <td>matter capable of extracting energy from the e...</td>\n      <td>Life</td>\n    </tr>\n    <tr>\n      <th>3</th>\n      <td>4</td>\n      <td>death</td>\n      <td>permanent cessation of vital functions</td>\n      <td>Death</td>\n    </tr>\n    <tr>\n      <th>4</th>\n      <td>5</td>\n      <td>human</td>\n      <td>common name of Homo sapiens, unique extant spe...</td>\n      <td>Human</td>\n    </tr>\n    <tr>\n      <th>...</th>\n      <td>...</td>\n      <td>...</td>\n      <td>...</td>\n      <td>...</td>\n    </tr>\n    <tr>\n      <th>5216231</th>\n      <td>77042017</td>\n      <td>HR 4523</td>\n      <td>NaN</td>\n      <td>HD 102365</td>\n    </tr>\n    <tr>\n      <th>5216232</th>\n      <td>77043280</td>\n      <td>Charlie Johnston</td>\n      <td>NaN</td>\n      <td>Charlie Johnstone</td>\n    </tr>\n    <tr>\n      <th>5216233</th>\n      <td>77231860</td>\n      <td>Aldo Rossi</td>\n      <td>musician</td>\n      <td>Aldo Rossi (musician)</td>\n    </tr>\n    <tr>\n      <th>5216234</th>\n      <td>77240068</td>\n      <td>Ebenezer Baptist Church</td>\n      <td>church in Atlanta, Georgia, USA</td>\n      <td>Ebenezer Baptist Church</td>\n    </tr>\n    <tr>\n      <th>5216235</th>\n      <td>77242291</td>\n      <td>New Court</td>\n      <td>group of buildings in City of London, UK</td>\n      <td>New Court</td>\n    </tr>\n  </tbody>\n</table>\n<p>5216236 rows × 4 columns</p>\n</div>"
     },
     "metadata": {},
     "output_type": "display_data"
    }
   ],
   "source": [
    "print('Redirects:')\n",
    "display(enwinki_redirects)\n",
    "\n",
    "print('Aliases:')\n",
    "display(item_aliases)\n",
    "\n",
    "print('Properties:')\n",
    "display(properties)\n",
    "\n",
    "print('Statements:')\n",
    "display(statements)\n",
    "\n",
    "print('Wiki items:')\n",
    "display(wiki_items)"
   ],
   "metadata": {
    "collapsed": false,
    "ExecuteTime": {
     "end_time": "2023-12-14T09:17:23.257423500Z",
     "start_time": "2023-12-14T09:17:23.238210300Z"
    }
   },
   "id": "d18fef17312059e4"
  },
  {
   "cell_type": "markdown",
   "source": [
    "Merging `item_aliases` and `wiki_items` on `item_id` to get the `wikipedia_title` for each `en_alias`:"
   ],
   "metadata": {
    "collapsed": false
   },
   "id": "7b64eefea3ce0942"
  },
  {
   "cell_type": "code",
   "execution_count": 102,
   "outputs": [
    {
     "data": {
      "text/plain": "   item_id  en_label                                 en_description  \\\n0        1  Universe             totality of space and all contents   \n1        1  Universe             totality of space and all contents   \n2        1  Universe             totality of space and all contents   \n3        1  Universe             totality of space and all contents   \n4        2     Earth  third planet from the Sun in the Solar System   \n\n  wikipedia_title      en_alias  \n0        Universe  Our Universe  \n1        Universe  The Universe  \n2        Universe    The Cosmos  \n3        Universe        cosmos  \n4           Earth   Blue Planet  ",
      "text/html": "<div>\n<style scoped>\n    .dataframe tbody tr th:only-of-type {\n        vertical-align: middle;\n    }\n\n    .dataframe tbody tr th {\n        vertical-align: top;\n    }\n\n    .dataframe thead th {\n        text-align: right;\n    }\n</style>\n<table border=\"1\" class=\"dataframe\">\n  <thead>\n    <tr style=\"text-align: right;\">\n      <th></th>\n      <th>item_id</th>\n      <th>en_label</th>\n      <th>en_description</th>\n      <th>wikipedia_title</th>\n      <th>en_alias</th>\n    </tr>\n  </thead>\n  <tbody>\n    <tr>\n      <th>0</th>\n      <td>1</td>\n      <td>Universe</td>\n      <td>totality of space and all contents</td>\n      <td>Universe</td>\n      <td>Our Universe</td>\n    </tr>\n    <tr>\n      <th>1</th>\n      <td>1</td>\n      <td>Universe</td>\n      <td>totality of space and all contents</td>\n      <td>Universe</td>\n      <td>The Universe</td>\n    </tr>\n    <tr>\n      <th>2</th>\n      <td>1</td>\n      <td>Universe</td>\n      <td>totality of space and all contents</td>\n      <td>Universe</td>\n      <td>The Cosmos</td>\n    </tr>\n    <tr>\n      <th>3</th>\n      <td>1</td>\n      <td>Universe</td>\n      <td>totality of space and all contents</td>\n      <td>Universe</td>\n      <td>cosmos</td>\n    </tr>\n    <tr>\n      <th>4</th>\n      <td>2</td>\n      <td>Earth</td>\n      <td>third planet from the Sun in the Solar System</td>\n      <td>Earth</td>\n      <td>Blue Planet</td>\n    </tr>\n  </tbody>\n</table>\n</div>"
     },
     "execution_count": 102,
     "metadata": {},
     "output_type": "execute_result"
    }
   ],
   "source": [
    "merged_wiki_items = wiki_items.merge(item_aliases, how='left', on='item_id')\n",
    "merged_wiki_items.head()"
   ],
   "metadata": {
    "collapsed": false,
    "ExecuteTime": {
     "end_time": "2023-12-14T09:17:24.725552600Z",
     "start_time": "2023-12-14T09:17:23.258524300Z"
    }
   },
   "id": "bd280c1982f55afb"
  },
  {
   "cell_type": "markdown",
   "source": [
    "## Trying to find links to test tokens in the wiki items and train tokens"
   ],
   "metadata": {
    "collapsed": false
   },
   "id": "a16b47b24a5cc18a"
  },
  {
   "cell_type": "code",
   "execution_count": 103,
   "outputs": [],
   "source": [
    "test_df_mod = test_df.copy(deep=True)\n",
    "train_df_mod = train_df.copy(deep=True)"
   ],
   "metadata": {
    "collapsed": false,
    "ExecuteTime": {
     "end_time": "2023-12-14T09:17:24.733824500Z",
     "start_time": "2023-12-14T09:17:24.719404900Z"
    }
   },
   "id": "82965c83ebbb3015"
  },
  {
   "cell_type": "code",
   "execution_count": 104,
   "outputs": [],
   "source": [
    "# Beginning of the URL to wikipedia\n",
    "URL = 'http://en.wikipedia.org/wiki/'"
   ],
   "metadata": {
    "collapsed": false,
    "ExecuteTime": {
     "end_time": "2023-12-14T09:17:24.733824500Z",
     "start_time": "2023-12-14T09:17:24.728872900Z"
    }
   },
   "id": "2cb2450d10518b95"
  },
  {
   "cell_type": "code",
   "execution_count": 105,
   "outputs": [
    {
     "data": {
      "text/plain": "    id     token entity_tag         full_mention  \\\n3    4    German          B               German   \n7    8   British          B              British   \n14  15  BRUSSELS          B             BRUSSELS   \n18  19  European          B  European Commission   \n26  27    German          B               German   \n\n                                            wiki_url   full_mention_lower  \n3               http://en.wikipedia.org/wiki/Germany               german  \n7        http://en.wikipedia.org/wiki/United_Kingdom              british  \n14             http://en.wikipedia.org/wiki/Brussels             brussels  \n18  http://en.wikipedia.org/wiki/European_Commission  european commission  \n26              http://en.wikipedia.org/wiki/Germany               german  ",
      "text/html": "<div>\n<style scoped>\n    .dataframe tbody tr th:only-of-type {\n        vertical-align: middle;\n    }\n\n    .dataframe tbody tr th {\n        vertical-align: top;\n    }\n\n    .dataframe thead th {\n        text-align: right;\n    }\n</style>\n<table border=\"1\" class=\"dataframe\">\n  <thead>\n    <tr style=\"text-align: right;\">\n      <th></th>\n      <th>id</th>\n      <th>token</th>\n      <th>entity_tag</th>\n      <th>full_mention</th>\n      <th>wiki_url</th>\n      <th>full_mention_lower</th>\n    </tr>\n  </thead>\n  <tbody>\n    <tr>\n      <th>3</th>\n      <td>4</td>\n      <td>German</td>\n      <td>B</td>\n      <td>German</td>\n      <td>http://en.wikipedia.org/wiki/Germany</td>\n      <td>german</td>\n    </tr>\n    <tr>\n      <th>7</th>\n      <td>8</td>\n      <td>British</td>\n      <td>B</td>\n      <td>British</td>\n      <td>http://en.wikipedia.org/wiki/United_Kingdom</td>\n      <td>british</td>\n    </tr>\n    <tr>\n      <th>14</th>\n      <td>15</td>\n      <td>BRUSSELS</td>\n      <td>B</td>\n      <td>BRUSSELS</td>\n      <td>http://en.wikipedia.org/wiki/Brussels</td>\n      <td>brussels</td>\n    </tr>\n    <tr>\n      <th>18</th>\n      <td>19</td>\n      <td>European</td>\n      <td>B</td>\n      <td>European Commission</td>\n      <td>http://en.wikipedia.org/wiki/European_Commission</td>\n      <td>european commission</td>\n    </tr>\n    <tr>\n      <th>26</th>\n      <td>27</td>\n      <td>German</td>\n      <td>B</td>\n      <td>German</td>\n      <td>http://en.wikipedia.org/wiki/Germany</td>\n      <td>german</td>\n    </tr>\n  </tbody>\n</table>\n</div>"
     },
     "execution_count": 105,
     "metadata": {},
     "output_type": "execute_result"
    }
   ],
   "source": [
    "train_df_mod['full_mention_lower'] = train_df_mod['full_mention'].str.lower()\n",
    "\n",
    "# We only keep the tokens that have a wiki_url\n",
    "train_df_mod = train_df_mod[train_df_mod['wiki_url'].notnull() & (train_df_mod['wiki_url'] != '--NME--')]\n",
    "train_df_mod.head()"
   ],
   "metadata": {
    "collapsed": false,
    "ExecuteTime": {
     "end_time": "2023-12-14T09:17:24.811832700Z",
     "start_time": "2023-12-14T09:17:24.733217300Z"
    }
   },
   "id": "7249692acea2e0eb"
  },
  {
   "cell_type": "code",
   "execution_count": 106,
   "outputs": [
    {
     "data": {
      "text/plain": "   id                          token entity_tag    full_mention wiki_url\n0   0  -DOCSTART- (947testa CRICKET)        NaN             NaN      NaN\n1   1                        CRICKET        NaN             NaN      NaN\n2   2                              -        NaN             NaN      NaN\n3   3                 LEICESTERSHIRE          B  leicestershire        ?\n4   4                           TAKE        NaN             NaN      NaN",
      "text/html": "<div>\n<style scoped>\n    .dataframe tbody tr th:only-of-type {\n        vertical-align: middle;\n    }\n\n    .dataframe tbody tr th {\n        vertical-align: top;\n    }\n\n    .dataframe thead th {\n        text-align: right;\n    }\n</style>\n<table border=\"1\" class=\"dataframe\">\n  <thead>\n    <tr style=\"text-align: right;\">\n      <th></th>\n      <th>id</th>\n      <th>token</th>\n      <th>entity_tag</th>\n      <th>full_mention</th>\n      <th>wiki_url</th>\n    </tr>\n  </thead>\n  <tbody>\n    <tr>\n      <th>0</th>\n      <td>0</td>\n      <td>-DOCSTART- (947testa CRICKET)</td>\n      <td>NaN</td>\n      <td>NaN</td>\n      <td>NaN</td>\n    </tr>\n    <tr>\n      <th>1</th>\n      <td>1</td>\n      <td>CRICKET</td>\n      <td>NaN</td>\n      <td>NaN</td>\n      <td>NaN</td>\n    </tr>\n    <tr>\n      <th>2</th>\n      <td>2</td>\n      <td>-</td>\n      <td>NaN</td>\n      <td>NaN</td>\n      <td>NaN</td>\n    </tr>\n    <tr>\n      <th>3</th>\n      <td>3</td>\n      <td>LEICESTERSHIRE</td>\n      <td>B</td>\n      <td>leicestershire</td>\n      <td>?</td>\n    </tr>\n    <tr>\n      <th>4</th>\n      <td>4</td>\n      <td>TAKE</td>\n      <td>NaN</td>\n      <td>NaN</td>\n      <td>NaN</td>\n    </tr>\n  </tbody>\n</table>\n</div>"
     },
     "execution_count": 106,
     "metadata": {},
     "output_type": "execute_result"
    }
   ],
   "source": [
    "test_df_mod['full_mention'] = test_df_mod['full_mention'].str.lower()\n",
    "test_df_mod.head()"
   ],
   "metadata": {
    "collapsed": false,
    "ExecuteTime": {
     "end_time": "2023-12-14T09:17:24.815757100Z",
     "start_time": "2023-12-14T09:17:24.773668500Z"
    }
   },
   "id": "2b559a94a8e19926"
  },
  {
   "cell_type": "markdown",
   "source": [
    "For each token in `test_df_mod`, we try to find a link in `train_df_mod` and `merged_wiki_items`:"
   ],
   "metadata": {
    "collapsed": false
   },
   "id": "232b9ce2e0976f62"
  },
  {
   "cell_type": "code",
   "execution_count": 107,
   "outputs": [],
   "source": [
    "merged_wiki_items['en_alias_lower'] = merged_wiki_items['en_alias'].str.lower()\n",
    "merged_wiki_items['wikipedia_title_lower'] = merged_wiki_items['wikipedia_title'].str.lower()\n",
    "\n",
    "wiki_items['wikipedia_title_lower'] = wiki_items['wikipedia_title'].str.lower()\n",
    "\n",
    "enwinki_redirects['en_title_lower'] = enwinki_redirects['en_title'].str.lower()"
   ],
   "metadata": {
    "collapsed": false,
    "ExecuteTime": {
     "end_time": "2023-12-14T09:17:27.678015200Z",
     "start_time": "2023-12-14T09:17:24.914534600Z"
    }
   },
   "id": "7d96a359b740d910"
  },
  {
   "cell_type": "markdown",
   "source": [
    "### 1. Just pandas"
   ],
   "metadata": {
    "collapsed": false
   },
   "id": "32633bff935bf318"
  },
  {
   "cell_type": "code",
   "execution_count": 108,
   "outputs": [],
   "source": [
    "pandas = False"
   ],
   "metadata": {
    "collapsed": false,
    "ExecuteTime": {
     "end_time": "2023-12-14T09:17:27.686281Z",
     "start_time": "2023-12-14T09:17:27.679759400Z"
    }
   },
   "id": "30833aa9df6e7556"
  },
  {
   "cell_type": "code",
   "execution_count": 109,
   "outputs": [],
   "source": [
    "if pandas:\n",
    "    aliases_matching = 0\n",
    "    \n",
    "    for index, row in tqdm(test_df_mod.iterrows(), total=test_df_mod.shape[0]):\n",
    "        if str(row['wiki_url']) == 'nan' or row['wiki_url'] != '?':\n",
    "            continue\n",
    "            \n",
    "        token = row['full_mention']\n",
    "        train_url = train_df_mod[train_df_mod['full_mention_lower'] == token]['wiki_url'].values\n",
    "        \n",
    "        if len(train_url) > 0:\n",
    "            test_df_mod.at[index, 'wiki_url'] = train_url[0]\n",
    "            \n",
    "        else:\n",
    "            wiki_title = merged_wiki_items[(merged_wiki_items['wikipedia_title_lower'] == token) | (merged_wiki_items['en_alias_lower'] == token)]['wikipedia_title'].values\n",
    "            \n",
    "            if len(wiki_title) > 0:\n",
    "                aliases_matching += 1\n",
    "                test_df_mod.at[index, 'wiki_url'] = URL + wiki_title[0].replace(' ', '_')"
   ],
   "metadata": {
    "collapsed": false,
    "ExecuteTime": {
     "end_time": "2023-12-14T09:17:27.699214400Z",
     "start_time": "2023-12-14T09:17:27.684373400Z"
    }
   },
   "id": "61a1db3a6730d60e"
  },
  {
   "cell_type": "markdown",
   "source": [
    "### 2. Using dictionaries and redirects"
   ],
   "metadata": {
    "collapsed": false
   },
   "id": "ef8e3b286066879e"
  },
  {
   "cell_type": "code",
   "execution_count": 110,
   "outputs": [],
   "source": [
    "DICT_FOLDER = PICKLES_FOLDER + 'dictionaries/'"
   ],
   "metadata": {
    "collapsed": false,
    "ExecuteTime": {
     "end_time": "2023-12-14T09:17:27.707961300Z",
     "start_time": "2023-12-14T09:17:27.700109400Z"
    }
   },
   "id": "cf3e7bcd5309c070"
  },
  {
   "cell_type": "code",
   "execution_count": 111,
   "outputs": [],
   "source": [
    "try:\n",
    "    aliases_dict = pickle.load(open(DICT_FOLDER + 'aliases_dict.pkl', 'rb'))\n",
    "except:\n",
    "    aliases_dict = pd.Series(merged_wiki_items['wikipedia_title'].values, index=merged_wiki_items['en_alias_lower']).to_dict()\n",
    "    pickle.dump(aliases_dict, open(DICT_FOLDER + 'aliases_dict.pkl', 'wb'))"
   ],
   "metadata": {
    "collapsed": false,
    "ExecuteTime": {
     "end_time": "2023-12-14T09:17:28.162969400Z",
     "start_time": "2023-12-14T09:17:27.705973900Z"
    }
   },
   "id": "82d4af9957872fe7"
  },
  {
   "cell_type": "code",
   "execution_count": 112,
   "outputs": [],
   "source": [
    "try:\n",
    "    titles_dict = pickle.load(open(DICT_FOLDER + 'titles_dict.pkl', 'rb'))\n",
    "except:  \n",
    "    titles_dict = pd.Series(wiki_items['wikipedia_title'].values, index=wiki_items['wikipedia_title_lower']).to_dict()\n",
    "    pickle.dump(titles_dict, open(DICT_FOLDER + 'titles_dict.pkl', 'wb'))\n",
    "   "
   ],
   "metadata": {
    "collapsed": false,
    "ExecuteTime": {
     "end_time": "2023-12-14T09:17:30.135977600Z",
     "start_time": "2023-12-14T09:17:28.162969400Z"
    }
   },
   "id": "e2a837f701077025"
  },
  {
   "cell_type": "code",
   "execution_count": 113,
   "outputs": [],
   "source": [
    "try:\n",
    "    train_dict = pickle.load(open(DICT_FOLDER + 'train_dict.pkl', 'rb'))\n",
    "except:\n",
    "    train_dict = pd.Series(train_df_mod['wiki_url'].values, index=train_df_mod['full_mention_lower']).to_dict()\n",
    "    pickle.dump(train_dict, open(DICT_FOLDER + 'train_dict.pkl', 'wb'))"
   ],
   "metadata": {
    "collapsed": false,
    "ExecuteTime": {
     "end_time": "2023-12-14T09:17:30.145537800Z",
     "start_time": "2023-12-14T09:17:30.137010800Z"
    }
   },
   "id": "d6c486944ee1036d"
  },
  {
   "cell_type": "code",
   "execution_count": 114,
   "outputs": [],
   "source": [
    "try:\n",
    "    redirects_dict = pickle.load(open(DICT_FOLDER + 'redirects_dict.pkl', 'rb'))\n",
    "except:\n",
    "    redirects_dict = pd.Series(enwinki_redirects['en_redirect_title'].values, index=enwinki_redirects['en_title_lower']).to_dict()\n",
    "    pickle.dump(redirects_dict, open(DICT_FOLDER + 'redirects_dict.pkl', 'wb'))"
   ],
   "metadata": {
    "collapsed": false,
    "ExecuteTime": {
     "end_time": "2023-12-14T09:17:34.037737200Z",
     "start_time": "2023-12-14T09:17:30.142559700Z"
    }
   },
   "id": "252ec3cd41695de4"
  },
  {
   "cell_type": "markdown",
   "source": [
    "### Saving all the dictionaries as pickles"
   ],
   "metadata": {
    "collapsed": false
   },
   "id": "adb9e5ef3747dcf9"
  },
  {
   "cell_type": "code",
   "execution_count": 115,
   "outputs": [],
   "source": [
    "dictionaries = True"
   ],
   "metadata": {
    "collapsed": false,
    "ExecuteTime": {
     "end_time": "2023-12-14T09:17:34.045833Z",
     "start_time": "2023-12-14T09:17:34.038725800Z"
    }
   },
   "id": "642c18fef1b4c348"
  },
  {
   "cell_type": "code",
   "execution_count": 116,
   "outputs": [
    {
     "name": "stderr",
     "output_type": "stream",
     "text": [
      "100%|██████████| 104890/104890 [00:02<00:00, 38224.11it/s]\n"
     ]
    }
   ],
   "source": [
    "if dictionaries:\n",
    "    aliases_matching = 0\n",
    "    redirects_matching = 0\n",
    "    \n",
    "    for index, row in tqdm(test_df_mod.iterrows(), total=test_df_mod.shape[0]):\n",
    "        if str(row['wiki_url']) == 'nan' or row['wiki_url'] != '?':\n",
    "            continue\n",
    "            \n",
    "        token = row['full_mention']\n",
    "        train_url = train_dict.get(token)\n",
    "        \n",
    "        \n",
    "        if train_url is not None:\n",
    "            # We found a link in the train data and it is the true identity so we can use it\n",
    "            test_df_mod.at[index, 'wiki_url'] = train_url\n",
    "            continue\n",
    "            \n",
    "        else:\n",
    "            wiki_title = titles_dict.get(token)\n",
    "            \n",
    "            if wiki_title is not None:\n",
    "                aliases_matching += 1\n",
    "                \n",
    "            else:\n",
    "                wiki_title = aliases_dict.get(token)\n",
    "                \n",
    "                if wiki_title is not None:\n",
    "                    aliases_matching += 1\n",
    "                    \n",
    "        if wiki_title is not None:\n",
    "            redirect_title = redirects_dict.get(wiki_title.lower())    \n",
    "\n",
    "            if redirect_title is not None:\n",
    "                redirects_matching += 1\n",
    "                test_df_mod.at[index, 'wiki_url'] = URL + redirect_title.replace(' ', '_')\n",
    "\n",
    "            else:\n",
    "                test_df_mod.at[index, 'wiki_url'] = URL + wiki_title.replace(' ', '_')\n",
    "            \n",
    "            test_df_mod.at[index, 'wiki_url'] = URL + wiki_title.replace(' ', '_')\n"
   ],
   "metadata": {
    "collapsed": false,
    "ExecuteTime": {
     "end_time": "2023-12-14T09:17:36.809592900Z",
     "start_time": "2023-12-14T09:17:34.048834100Z"
    }
   },
   "id": "8e186a6eee7eb6ba"
  },
  {
   "cell_type": "markdown",
   "source": [
    "### Let's look at the results"
   ],
   "metadata": {
    "collapsed": false
   },
   "id": "f0004443794cbb37"
  },
  {
   "cell_type": "code",
   "execution_count": 117,
   "outputs": [
    {
     "data": {
      "text/plain": "2107"
     },
     "execution_count": 117,
     "metadata": {},
     "output_type": "execute_result"
    }
   ],
   "source": [
    "aliases_matching"
   ],
   "metadata": {
    "collapsed": false,
    "ExecuteTime": {
     "end_time": "2023-12-14T09:17:36.814120300Z",
     "start_time": "2023-12-14T09:17:36.803787700Z"
    }
   },
   "id": "416956ed3cbe7456"
  },
  {
   "cell_type": "code",
   "execution_count": 118,
   "outputs": [
    {
     "data": {
      "text/plain": "393"
     },
     "execution_count": 118,
     "metadata": {},
     "output_type": "execute_result"
    }
   ],
   "source": [
    "redirects_matching"
   ],
   "metadata": {
    "collapsed": false,
    "ExecuteTime": {
     "end_time": "2023-12-14T09:17:36.815269Z",
     "start_time": "2023-12-14T09:17:36.807576400Z"
    }
   },
   "id": "38d44acc9170b212"
  },
  {
   "cell_type": "markdown",
   "source": [
    "Let's see how many tokens we found links for:"
   ],
   "metadata": {
    "collapsed": false
   },
   "id": "7507b3a85b5a8586"
  },
  {
   "cell_type": "code",
   "execution_count": 119,
   "outputs": [
    {
     "name": "stdout",
     "output_type": "stream",
     "text": [
      "Previously we had 9166 tokens without a link\n",
      "Now we have 547 tokens without a link\n"
     ]
    }
   ],
   "source": [
    "print(f\"Previously we had {test_df[test_df['wiki_url'] == '?']['wiki_url'].count()} tokens without a link\")\n",
    "print(f\"Now we have {test_df_mod[test_df_mod['wiki_url'] == '?']['wiki_url'].count()} tokens without a link\")"
   ],
   "metadata": {
    "collapsed": false,
    "ExecuteTime": {
     "end_time": "2023-12-14T09:17:36.833185300Z",
     "start_time": "2023-12-14T09:17:36.816296800Z"
    }
   },
   "id": "c3e735d9fe28d308"
  },
  {
   "cell_type": "markdown",
   "source": [
    "### Creating submission file for second part"
   ],
   "metadata": {
    "collapsed": false
   },
   "id": "e2f5746f1b4d3123"
  },
  {
   "cell_type": "code",
   "execution_count": 120,
   "outputs": [],
   "source": [
    "submission = test_df_mod[['id', 'wiki_url']]\n",
    "submission.loc[:, 'wiki_url'] = submission['wiki_url'].apply(lambda x: 'NOT_FOUND' if not (str(x).startswith('http') or str(x) == '?') else x)\n",
    "# submission.loc[:, 'wiki_url'] = submission['wiki_url'].apply(lambda x: 'NOT_FOUND' if not (str(x).startswith('http')) else x)\n",
    "\n",
    "name = 'tr_title_alias_dict_redirects_url'\n",
    "\n",
    "submission.to_csv(SUBMISSIONS_FOLDER + name + '.csv', index=False)"
   ],
   "metadata": {
    "collapsed": false,
    "ExecuteTime": {
     "end_time": "2023-12-14T09:17:36.903203300Z",
     "start_time": "2023-12-14T09:17:36.827047900Z"
    }
   },
   "id": "df485ff6287f478b"
  },
  {
   "cell_type": "markdown",
   "source": [
    "### Looking at differences in results"
   ],
   "metadata": {
    "collapsed": false
   },
   "id": "389aa176bcba7b1e"
  },
  {
   "cell_type": "code",
   "execution_count": 121,
   "outputs": [
    {
     "data": {
      "text/plain": "          id                                        wiki_url_pd  \\\n0         69  http://en.wikipedia.org/wiki/Surrey_County_Cri...   \n1        264  http://en.wikipedia.org/wiki/Surrey_County_Cri...   \n2        315  http://en.wikipedia.org/wiki/Surrey_County_Cri...   \n3        519     http://en.wikipedia.org/wiki/Chester-le-Street   \n4        578  http://en.wikipedia.org/wiki/Surrey_County_Cri...   \n...      ...                                                ...   \n1018  104572               http://en.wikipedia.org/wiki/Seville   \n1019  104590              http://en.wikipedia.org/wiki/Heracles   \n1020  104617  http://en.wikipedia.org/wiki/The_Irishman_(197...   \n1021  104819   http://en.wikipedia.org/wiki/1998_FIFA_World_Cup   \n1022  104887         http://en.wikipedia.org/wiki/Bobby_Timmons   \n\n                                       wiki_url_dict  \n0                http://en.wikipedia.org/wiki/Surrey  \n1                http://en.wikipedia.org/wiki/Surrey  \n2                http://en.wikipedia.org/wiki/Surrey  \n3      http://en.wikipedia.org/wiki/Riverside_Ground  \n4                http://en.wikipedia.org/wiki/Surrey  \n...                                              ...  \n1018         http://en.wikipedia.org/wiki/Sevilla_FC  \n1019           http://en.wikipedia.org/wiki/Hercules  \n1020       http://en.wikipedia.org/wiki/The_Irishman  \n1021  http://en.wikipedia.org/wiki/Cricket_World_Cup  \n1022              http://en.wikipedia.org/wiki/Bobby  \n\n[1023 rows x 3 columns]",
      "text/html": "<div>\n<style scoped>\n    .dataframe tbody tr th:only-of-type {\n        vertical-align: middle;\n    }\n\n    .dataframe tbody tr th {\n        vertical-align: top;\n    }\n\n    .dataframe thead th {\n        text-align: right;\n    }\n</style>\n<table border=\"1\" class=\"dataframe\">\n  <thead>\n    <tr style=\"text-align: right;\">\n      <th></th>\n      <th>id</th>\n      <th>wiki_url_pd</th>\n      <th>wiki_url_dict</th>\n    </tr>\n  </thead>\n  <tbody>\n    <tr>\n      <th>0</th>\n      <td>69</td>\n      <td>http://en.wikipedia.org/wiki/Surrey_County_Cri...</td>\n      <td>http://en.wikipedia.org/wiki/Surrey</td>\n    </tr>\n    <tr>\n      <th>1</th>\n      <td>264</td>\n      <td>http://en.wikipedia.org/wiki/Surrey_County_Cri...</td>\n      <td>http://en.wikipedia.org/wiki/Surrey</td>\n    </tr>\n    <tr>\n      <th>2</th>\n      <td>315</td>\n      <td>http://en.wikipedia.org/wiki/Surrey_County_Cri...</td>\n      <td>http://en.wikipedia.org/wiki/Surrey</td>\n    </tr>\n    <tr>\n      <th>3</th>\n      <td>519</td>\n      <td>http://en.wikipedia.org/wiki/Chester-le-Street</td>\n      <td>http://en.wikipedia.org/wiki/Riverside_Ground</td>\n    </tr>\n    <tr>\n      <th>4</th>\n      <td>578</td>\n      <td>http://en.wikipedia.org/wiki/Surrey_County_Cri...</td>\n      <td>http://en.wikipedia.org/wiki/Surrey</td>\n    </tr>\n    <tr>\n      <th>...</th>\n      <td>...</td>\n      <td>...</td>\n      <td>...</td>\n    </tr>\n    <tr>\n      <th>1018</th>\n      <td>104572</td>\n      <td>http://en.wikipedia.org/wiki/Seville</td>\n      <td>http://en.wikipedia.org/wiki/Sevilla_FC</td>\n    </tr>\n    <tr>\n      <th>1019</th>\n      <td>104590</td>\n      <td>http://en.wikipedia.org/wiki/Heracles</td>\n      <td>http://en.wikipedia.org/wiki/Hercules</td>\n    </tr>\n    <tr>\n      <th>1020</th>\n      <td>104617</td>\n      <td>http://en.wikipedia.org/wiki/The_Irishman_(197...</td>\n      <td>http://en.wikipedia.org/wiki/The_Irishman</td>\n    </tr>\n    <tr>\n      <th>1021</th>\n      <td>104819</td>\n      <td>http://en.wikipedia.org/wiki/1998_FIFA_World_Cup</td>\n      <td>http://en.wikipedia.org/wiki/Cricket_World_Cup</td>\n    </tr>\n    <tr>\n      <th>1022</th>\n      <td>104887</td>\n      <td>http://en.wikipedia.org/wiki/Bobby_Timmons</td>\n      <td>http://en.wikipedia.org/wiki/Bobby</td>\n    </tr>\n  </tbody>\n</table>\n<p>1023 rows × 3 columns</p>\n</div>"
     },
     "execution_count": 121,
     "metadata": {},
     "output_type": "execute_result"
    }
   ],
   "source": [
    "name_1 = 'tr_title_alias_pd'\n",
    "name_2 = name\n",
    "\n",
    "df1 = pd.read_csv(SUBMISSIONS_FOLDER + name_1 + '.csv')\n",
    "df2 = pd.read_csv(SUBMISSIONS_FOLDER + name_2 + '.csv')\n",
    "\n",
    "mask = df1['wiki_url'] != df2['wiki_url']\n",
    "\n",
    "diff = pd.merge(df1[mask], df2[mask], how='inner', on='id', suffixes=('_pd', '_dict'))\n",
    "diff"
   ],
   "metadata": {
    "collapsed": false,
    "ExecuteTime": {
     "end_time": "2023-12-14T09:17:36.961649600Z",
     "start_time": "2023-12-14T09:17:36.906091500Z"
    }
   },
   "id": "7f4c4ba47772446"
  }
 ],
 "metadata": {
  "kernelspec": {
   "display_name": "Python 3",
   "language": "python",
   "name": "python3"
  },
  "language_info": {
   "codemirror_mode": {
    "name": "ipython",
    "version": 2
   },
   "file_extension": ".py",
   "mimetype": "text/x-python",
   "name": "python",
   "nbconvert_exporter": "python",
   "pygments_lexer": "ipython2",
   "version": "2.7.6"
  }
 },
 "nbformat": 4,
 "nbformat_minor": 5
}
