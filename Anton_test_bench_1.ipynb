{
 "cells": [
  {
   "cell_type": "code",
   "execution_count": 1,
   "id": "initial_id",
   "metadata": {
    "collapsed": true,
    "ExecuteTime": {
     "end_time": "2023-11-25T10:21:06.643429Z",
     "start_time": "2023-11-25T10:21:05.369047900Z"
    }
   },
   "outputs": [],
   "source": [
    "import numpy as np\n",
    "import pandas as pd\n",
    "import matplotlib.pyplot as plt"
   ]
  },
  {
   "cell_type": "code",
   "execution_count": 2,
   "outputs": [],
   "source": [
    "DATA_FOLDER = 'data/'\n",
    "WIKILITE_FOLDER = DATA_FOLDER + 'wiki_lite/'"
   ],
   "metadata": {
    "collapsed": false,
    "ExecuteTime": {
     "end_time": "2023-11-25T10:21:06.660053800Z",
     "start_time": "2023-11-25T10:21:06.643429Z"
    }
   },
   "id": "18f1bb4a3fc83cd6"
  },
  {
   "cell_type": "code",
   "execution_count": 3,
   "outputs": [],
   "source": [
    "train_df = pd.read_csv(DATA_FOLDER + 'train.csv')\n",
    "test_df = pd.read_csv(DATA_FOLDER + 'test.csv')\n",
    "\n",
    "enwinki_redirects = pd.read_csv(WIKILITE_FOLDER + 'enwiki_redirects.tsv', sep='\\t')\n",
    "item_aliases = pd.read_csv(WIKILITE_FOLDER + 'item_aliases.csv')\n",
    "properties = pd.read_csv(WIKILITE_FOLDER + 'property.csv')\n",
    "statements = pd.read_csv(WIKILITE_FOLDER + 'statements.csv')\n",
    "wiki_items = pd.read_csv(WIKILITE_FOLDER + 'wiki_items.csv')"
   ],
   "metadata": {
    "collapsed": false,
    "ExecuteTime": {
     "end_time": "2023-11-25T10:21:38.482711200Z",
     "start_time": "2023-11-25T10:21:06.649976500Z"
    }
   },
   "id": "8b9e6f0ee2813fe"
  },
  {
   "cell_type": "code",
   "execution_count": 4,
   "outputs": [
    {
     "name": "stdout",
     "output_type": "stream",
     "text": [
      "Redirects:\n"
     ]
    },
    {
     "data": {
      "text/plain": "                                      !      Exclamation mark\n0              ! (CONFIG.SYS directive)            CONFIG.SYS\n1                  ! (Donnie Vie Album)            Donnie Vie\n2                  ! (Donnie Vie album)            Donnie Vie\n3        ! (The Song Formerly Known As)          Unit (album)\n4                             ! (album)    ! (disambiguation)\n...                                 ...                   ...\n8558897                               󠁽  Tags (Unicode block)\n8558898                               󠁾  Tags (Unicode block)\n8558899                               󠁿  Tags (Unicode block)\n8558900                               􍁷     Private Use Areas\n8558901                               􏰉     Private Use Areas\n\n[8558902 rows x 2 columns]",
      "text/html": "<div>\n<style scoped>\n    .dataframe tbody tr th:only-of-type {\n        vertical-align: middle;\n    }\n\n    .dataframe tbody tr th {\n        vertical-align: top;\n    }\n\n    .dataframe thead th {\n        text-align: right;\n    }\n</style>\n<table border=\"1\" class=\"dataframe\">\n  <thead>\n    <tr style=\"text-align: right;\">\n      <th></th>\n      <th>!</th>\n      <th>Exclamation mark</th>\n    </tr>\n  </thead>\n  <tbody>\n    <tr>\n      <th>0</th>\n      <td>! (CONFIG.SYS directive)</td>\n      <td>CONFIG.SYS</td>\n    </tr>\n    <tr>\n      <th>1</th>\n      <td>! (Donnie Vie Album)</td>\n      <td>Donnie Vie</td>\n    </tr>\n    <tr>\n      <th>2</th>\n      <td>! (Donnie Vie album)</td>\n      <td>Donnie Vie</td>\n    </tr>\n    <tr>\n      <th>3</th>\n      <td>! (The Song Formerly Known As)</td>\n      <td>Unit (album)</td>\n    </tr>\n    <tr>\n      <th>4</th>\n      <td>! (album)</td>\n      <td>! (disambiguation)</td>\n    </tr>\n    <tr>\n      <th>...</th>\n      <td>...</td>\n      <td>...</td>\n    </tr>\n    <tr>\n      <th>8558897</th>\n      <td>󠁽</td>\n      <td>Tags (Unicode block)</td>\n    </tr>\n    <tr>\n      <th>8558898</th>\n      <td>󠁾</td>\n      <td>Tags (Unicode block)</td>\n    </tr>\n    <tr>\n      <th>8558899</th>\n      <td>󠁿</td>\n      <td>Tags (Unicode block)</td>\n    </tr>\n    <tr>\n      <th>8558900</th>\n      <td>􍁷</td>\n      <td>Private Use Areas</td>\n    </tr>\n    <tr>\n      <th>8558901</th>\n      <td>􏰉</td>\n      <td>Private Use Areas</td>\n    </tr>\n  </tbody>\n</table>\n<p>8558902 rows × 2 columns</p>\n</div>"
     },
     "metadata": {},
     "output_type": "display_data"
    },
    {
     "name": "stdout",
     "output_type": "stream",
     "text": [
      "Aliases:\n"
     ]
    },
    {
     "data": {
      "text/plain": "          item_id                                           en_alias\n0               1                                       Our Universe\n1               1                                       The Universe\n2               1                                         The Cosmos\n3               1                                             cosmos\n4               2                                        Blue Planet\n...           ...                                                ...\n1495310  76858465  Photinus luciferin 4-monooxygenase (adenosine ...\n1495311  76858465                                 firefly luciferase\n1495312  76868858                               12 Canum Venaticorum\n1495313  76868858                            Alpha Canum Venaticorum\n1495314  76955532                                             Meleph\n\n[1495315 rows x 2 columns]",
      "text/html": "<div>\n<style scoped>\n    .dataframe tbody tr th:only-of-type {\n        vertical-align: middle;\n    }\n\n    .dataframe tbody tr th {\n        vertical-align: top;\n    }\n\n    .dataframe thead th {\n        text-align: right;\n    }\n</style>\n<table border=\"1\" class=\"dataframe\">\n  <thead>\n    <tr style=\"text-align: right;\">\n      <th></th>\n      <th>item_id</th>\n      <th>en_alias</th>\n    </tr>\n  </thead>\n  <tbody>\n    <tr>\n      <th>0</th>\n      <td>1</td>\n      <td>Our Universe</td>\n    </tr>\n    <tr>\n      <th>1</th>\n      <td>1</td>\n      <td>The Universe</td>\n    </tr>\n    <tr>\n      <th>2</th>\n      <td>1</td>\n      <td>The Cosmos</td>\n    </tr>\n    <tr>\n      <th>3</th>\n      <td>1</td>\n      <td>cosmos</td>\n    </tr>\n    <tr>\n      <th>4</th>\n      <td>2</td>\n      <td>Blue Planet</td>\n    </tr>\n    <tr>\n      <th>...</th>\n      <td>...</td>\n      <td>...</td>\n    </tr>\n    <tr>\n      <th>1495310</th>\n      <td>76858465</td>\n      <td>Photinus luciferin 4-monooxygenase (adenosine ...</td>\n    </tr>\n    <tr>\n      <th>1495311</th>\n      <td>76858465</td>\n      <td>firefly luciferase</td>\n    </tr>\n    <tr>\n      <th>1495312</th>\n      <td>76868858</td>\n      <td>12 Canum Venaticorum</td>\n    </tr>\n    <tr>\n      <th>1495313</th>\n      <td>76868858</td>\n      <td>Alpha Canum Venaticorum</td>\n    </tr>\n    <tr>\n      <th>1495314</th>\n      <td>76955532</td>\n      <td>Meleph</td>\n    </tr>\n  </tbody>\n</table>\n<p>1495315 rows × 2 columns</p>\n</div>"
     },
     "metadata": {},
     "output_type": "display_data"
    },
    {
     "name": "stdout",
     "output_type": "stream",
     "text": [
      "Properties:\n"
     ]
    },
    {
     "data": {
      "text/plain": "      property_id                                        en_label  \\\n0               6                              head of government   \n1              10                                           video   \n2              14                                    traffic sign   \n3              15                                       route map   \n4              16                                  highway system   \n...           ...                                             ...   \n6980         7663                           Scienza a due voci ID   \n6981         7665                                    FMV World ID   \n6982         7666             Visuotinė lietuvių enciklopedija ID   \n6983         7667  Hellenic Civil Aviation Authority airport code   \n6984         7668                                       file page   \n\n                                         en_description  \n0     head of the executive power of this town, city...  \n1     relevant video. For images, use the property P...  \n2     graphic symbol describing the item, used at th...  \n3               image of route map at Wikimedia Commons  \n4     system (or specific country specific road type...  \n...                                                 ...  \n6980  identifier for an Italian female scientist in ...  \n6981  identifier of a video game in the FMV World da...  \n6982  identifier for an item in the online edition o...  \n6983                                                NaN  \n6984  property to indicate a page number of a pdf fi...  \n\n[6985 rows x 3 columns]",
      "text/html": "<div>\n<style scoped>\n    .dataframe tbody tr th:only-of-type {\n        vertical-align: middle;\n    }\n\n    .dataframe tbody tr th {\n        vertical-align: top;\n    }\n\n    .dataframe thead th {\n        text-align: right;\n    }\n</style>\n<table border=\"1\" class=\"dataframe\">\n  <thead>\n    <tr style=\"text-align: right;\">\n      <th></th>\n      <th>property_id</th>\n      <th>en_label</th>\n      <th>en_description</th>\n    </tr>\n  </thead>\n  <tbody>\n    <tr>\n      <th>0</th>\n      <td>6</td>\n      <td>head of government</td>\n      <td>head of the executive power of this town, city...</td>\n    </tr>\n    <tr>\n      <th>1</th>\n      <td>10</td>\n      <td>video</td>\n      <td>relevant video. For images, use the property P...</td>\n    </tr>\n    <tr>\n      <th>2</th>\n      <td>14</td>\n      <td>traffic sign</td>\n      <td>graphic symbol describing the item, used at th...</td>\n    </tr>\n    <tr>\n      <th>3</th>\n      <td>15</td>\n      <td>route map</td>\n      <td>image of route map at Wikimedia Commons</td>\n    </tr>\n    <tr>\n      <th>4</th>\n      <td>16</td>\n      <td>highway system</td>\n      <td>system (or specific country specific road type...</td>\n    </tr>\n    <tr>\n      <th>...</th>\n      <td>...</td>\n      <td>...</td>\n      <td>...</td>\n    </tr>\n    <tr>\n      <th>6980</th>\n      <td>7663</td>\n      <td>Scienza a due voci ID</td>\n      <td>identifier for an Italian female scientist in ...</td>\n    </tr>\n    <tr>\n      <th>6981</th>\n      <td>7665</td>\n      <td>FMV World ID</td>\n      <td>identifier of a video game in the FMV World da...</td>\n    </tr>\n    <tr>\n      <th>6982</th>\n      <td>7666</td>\n      <td>Visuotinė lietuvių enciklopedija ID</td>\n      <td>identifier for an item in the online edition o...</td>\n    </tr>\n    <tr>\n      <th>6983</th>\n      <td>7667</td>\n      <td>Hellenic Civil Aviation Authority airport code</td>\n      <td>NaN</td>\n    </tr>\n    <tr>\n      <th>6984</th>\n      <td>7668</td>\n      <td>file page</td>\n      <td>property to indicate a page number of a pdf fi...</td>\n    </tr>\n  </tbody>\n</table>\n<p>6985 rows × 3 columns</p>\n</div>"
     },
     "metadata": {},
     "output_type": "display_data"
    },
    {
     "name": "stdout",
     "output_type": "stream",
     "text": [
      "Statements:\n"
     ]
    },
    {
     "data": {
      "text/plain": "          source_item_id  edge_property_id  target_item_id\n0                      1               398          497745\n1                      1               398         1133705\n2                      1               398         1139177\n3                      1               398         7439451\n4                      1               398        15241043\n...                  ...               ...             ...\n26903183        77240068                31           16970\n26903184        77240068               131           23556\n26903185        77242291                17             145\n26903186        77242291               131           23311\n26903187        77242291               466         1537151\n\n[26903188 rows x 3 columns]",
      "text/html": "<div>\n<style scoped>\n    .dataframe tbody tr th:only-of-type {\n        vertical-align: middle;\n    }\n\n    .dataframe tbody tr th {\n        vertical-align: top;\n    }\n\n    .dataframe thead th {\n        text-align: right;\n    }\n</style>\n<table border=\"1\" class=\"dataframe\">\n  <thead>\n    <tr style=\"text-align: right;\">\n      <th></th>\n      <th>source_item_id</th>\n      <th>edge_property_id</th>\n      <th>target_item_id</th>\n    </tr>\n  </thead>\n  <tbody>\n    <tr>\n      <th>0</th>\n      <td>1</td>\n      <td>398</td>\n      <td>497745</td>\n    </tr>\n    <tr>\n      <th>1</th>\n      <td>1</td>\n      <td>398</td>\n      <td>1133705</td>\n    </tr>\n    <tr>\n      <th>2</th>\n      <td>1</td>\n      <td>398</td>\n      <td>1139177</td>\n    </tr>\n    <tr>\n      <th>3</th>\n      <td>1</td>\n      <td>398</td>\n      <td>7439451</td>\n    </tr>\n    <tr>\n      <th>4</th>\n      <td>1</td>\n      <td>398</td>\n      <td>15241043</td>\n    </tr>\n    <tr>\n      <th>...</th>\n      <td>...</td>\n      <td>...</td>\n      <td>...</td>\n    </tr>\n    <tr>\n      <th>26903183</th>\n      <td>77240068</td>\n      <td>31</td>\n      <td>16970</td>\n    </tr>\n    <tr>\n      <th>26903184</th>\n      <td>77240068</td>\n      <td>131</td>\n      <td>23556</td>\n    </tr>\n    <tr>\n      <th>26903185</th>\n      <td>77242291</td>\n      <td>17</td>\n      <td>145</td>\n    </tr>\n    <tr>\n      <th>26903186</th>\n      <td>77242291</td>\n      <td>131</td>\n      <td>23311</td>\n    </tr>\n    <tr>\n      <th>26903187</th>\n      <td>77242291</td>\n      <td>466</td>\n      <td>1537151</td>\n    </tr>\n  </tbody>\n</table>\n<p>26903188 rows × 3 columns</p>\n</div>"
     },
     "metadata": {},
     "output_type": "display_data"
    },
    {
     "name": "stdout",
     "output_type": "stream",
     "text": [
      "Wiki items:\n"
     ]
    },
    {
     "data": {
      "text/plain": "          item_id                 en_label  \\\n0               1                 Universe   \n1               2                    Earth   \n2               3                     life   \n3               4                    death   \n4               5                    human   \n...           ...                      ...   \n5216231  77042017                  HR 4523   \n5216232  77043280         Charlie Johnston   \n5216233  77231860               Aldo Rossi   \n5216234  77240068  Ebenezer Baptist Church   \n5216235  77242291                New Court   \n\n                                            en_description  \\\n0                       totality of space and all contents   \n1            third planet from the Sun in the Solar System   \n2        matter capable of extracting energy from the e...   \n3                   permanent cessation of vital functions   \n4        common name of Homo sapiens, unique extant spe...   \n...                                                    ...   \n5216231                                                NaN   \n5216232                                                NaN   \n5216233                                           musician   \n5216234                    church in Atlanta, Georgia, USA   \n5216235           group of buildings in City of London, UK   \n\n                 wikipedia_title  \n0                       Universe  \n1                          Earth  \n2                           Life  \n3                          Death  \n4                          Human  \n...                          ...  \n5216231                HD 102365  \n5216232        Charlie Johnstone  \n5216233    Aldo Rossi (musician)  \n5216234  Ebenezer Baptist Church  \n5216235                New Court  \n\n[5216236 rows x 4 columns]",
      "text/html": "<div>\n<style scoped>\n    .dataframe tbody tr th:only-of-type {\n        vertical-align: middle;\n    }\n\n    .dataframe tbody tr th {\n        vertical-align: top;\n    }\n\n    .dataframe thead th {\n        text-align: right;\n    }\n</style>\n<table border=\"1\" class=\"dataframe\">\n  <thead>\n    <tr style=\"text-align: right;\">\n      <th></th>\n      <th>item_id</th>\n      <th>en_label</th>\n      <th>en_description</th>\n      <th>wikipedia_title</th>\n    </tr>\n  </thead>\n  <tbody>\n    <tr>\n      <th>0</th>\n      <td>1</td>\n      <td>Universe</td>\n      <td>totality of space and all contents</td>\n      <td>Universe</td>\n    </tr>\n    <tr>\n      <th>1</th>\n      <td>2</td>\n      <td>Earth</td>\n      <td>third planet from the Sun in the Solar System</td>\n      <td>Earth</td>\n    </tr>\n    <tr>\n      <th>2</th>\n      <td>3</td>\n      <td>life</td>\n      <td>matter capable of extracting energy from the e...</td>\n      <td>Life</td>\n    </tr>\n    <tr>\n      <th>3</th>\n      <td>4</td>\n      <td>death</td>\n      <td>permanent cessation of vital functions</td>\n      <td>Death</td>\n    </tr>\n    <tr>\n      <th>4</th>\n      <td>5</td>\n      <td>human</td>\n      <td>common name of Homo sapiens, unique extant spe...</td>\n      <td>Human</td>\n    </tr>\n    <tr>\n      <th>...</th>\n      <td>...</td>\n      <td>...</td>\n      <td>...</td>\n      <td>...</td>\n    </tr>\n    <tr>\n      <th>5216231</th>\n      <td>77042017</td>\n      <td>HR 4523</td>\n      <td>NaN</td>\n      <td>HD 102365</td>\n    </tr>\n    <tr>\n      <th>5216232</th>\n      <td>77043280</td>\n      <td>Charlie Johnston</td>\n      <td>NaN</td>\n      <td>Charlie Johnstone</td>\n    </tr>\n    <tr>\n      <th>5216233</th>\n      <td>77231860</td>\n      <td>Aldo Rossi</td>\n      <td>musician</td>\n      <td>Aldo Rossi (musician)</td>\n    </tr>\n    <tr>\n      <th>5216234</th>\n      <td>77240068</td>\n      <td>Ebenezer Baptist Church</td>\n      <td>church in Atlanta, Georgia, USA</td>\n      <td>Ebenezer Baptist Church</td>\n    </tr>\n    <tr>\n      <th>5216235</th>\n      <td>77242291</td>\n      <td>New Court</td>\n      <td>group of buildings in City of London, UK</td>\n      <td>New Court</td>\n    </tr>\n  </tbody>\n</table>\n<p>5216236 rows × 4 columns</p>\n</div>"
     },
     "metadata": {},
     "output_type": "display_data"
    }
   ],
   "source": [
    "print('Redirects:')\n",
    "display(enwinki_redirects)\n",
    "\n",
    "print('Aliases:')\n",
    "display(item_aliases)\n",
    "\n",
    "print('Properties:')\n",
    "display(properties)\n",
    "\n",
    "print('Statements:')\n",
    "display(statements)\n",
    "\n",
    "print('Wiki items:')\n",
    "display(wiki_items)"
   ],
   "metadata": {
    "collapsed": false,
    "ExecuteTime": {
     "end_time": "2023-11-25T10:21:38.548583100Z",
     "start_time": "2023-11-25T10:21:38.505754600Z"
    }
   },
   "id": "d18fef17312059e4"
  },
  {
   "cell_type": "code",
   "execution_count": 5,
   "outputs": [
    {
     "data": {
      "text/plain": "   id              token entity_tag full_mention  \\\n0   1  -DOCSTART- (1 EU)        NaN          NaN   \n1   2                 EU          B           EU   \n2   3            rejects        NaN          NaN   \n3   4             German          B       German   \n4   5               call        NaN          NaN   \n\n                               wiki_url  \n0                                   NaN  \n1                               --NME--  \n2                                   NaN  \n3  http://en.wikipedia.org/wiki/Germany  \n4                                   NaN  ",
      "text/html": "<div>\n<style scoped>\n    .dataframe tbody tr th:only-of-type {\n        vertical-align: middle;\n    }\n\n    .dataframe tbody tr th {\n        vertical-align: top;\n    }\n\n    .dataframe thead th {\n        text-align: right;\n    }\n</style>\n<table border=\"1\" class=\"dataframe\">\n  <thead>\n    <tr style=\"text-align: right;\">\n      <th></th>\n      <th>id</th>\n      <th>token</th>\n      <th>entity_tag</th>\n      <th>full_mention</th>\n      <th>wiki_url</th>\n    </tr>\n  </thead>\n  <tbody>\n    <tr>\n      <th>0</th>\n      <td>1</td>\n      <td>-DOCSTART- (1 EU)</td>\n      <td>NaN</td>\n      <td>NaN</td>\n      <td>NaN</td>\n    </tr>\n    <tr>\n      <th>1</th>\n      <td>2</td>\n      <td>EU</td>\n      <td>B</td>\n      <td>EU</td>\n      <td>--NME--</td>\n    </tr>\n    <tr>\n      <th>2</th>\n      <td>3</td>\n      <td>rejects</td>\n      <td>NaN</td>\n      <td>NaN</td>\n      <td>NaN</td>\n    </tr>\n    <tr>\n      <th>3</th>\n      <td>4</td>\n      <td>German</td>\n      <td>B</td>\n      <td>German</td>\n      <td>http://en.wikipedia.org/wiki/Germany</td>\n    </tr>\n    <tr>\n      <th>4</th>\n      <td>5</td>\n      <td>call</td>\n      <td>NaN</td>\n      <td>NaN</td>\n      <td>NaN</td>\n    </tr>\n  </tbody>\n</table>\n</div>"
     },
     "execution_count": 5,
     "metadata": {},
     "output_type": "execute_result"
    }
   ],
   "source": [
    "train_df.head()"
   ],
   "metadata": {
    "collapsed": false,
    "ExecuteTime": {
     "end_time": "2023-11-25T10:21:38.675879200Z",
     "start_time": "2023-11-25T10:21:38.547076200Z"
    }
   },
   "id": "934139ea546d4ba6"
  },
  {
   "cell_type": "code",
   "execution_count": 6,
   "outputs": [
    {
     "data": {
      "text/plain": "array(['German', 'British', 'BRUSSELS', ..., 'Shinichi', 'Swe', 'Bradley'],\n      dtype=object)"
     },
     "execution_count": 6,
     "metadata": {},
     "output_type": "execute_result"
    }
   ],
   "source": [
    "entity_tokens = train_df[train_df['wiki_url'].notnull() & (train_df['wiki_url'] != '--NME--')]\n",
    "entity_tokens['token'].unique()"
   ],
   "metadata": {
    "collapsed": false,
    "ExecuteTime": {
     "end_time": "2023-11-25T10:21:38.783701Z",
     "start_time": "2023-11-25T10:21:38.556265300Z"
    }
   },
   "id": "f99f8dfc223334cf"
  },
  {
   "cell_type": "code",
   "execution_count": 7,
   "outputs": [
    {
     "data": {
      "text/plain": "   item_id  en_label                                 en_description  \\\n0        1  Universe             totality of space and all contents   \n1        1  Universe             totality of space and all contents   \n2        1  Universe             totality of space and all contents   \n3        1  Universe             totality of space and all contents   \n4        2     Earth  third planet from the Sun in the Solar System   \n\n  wikipedia_title      en_alias  \n0        Universe  Our Universe  \n1        Universe  The Universe  \n2        Universe    The Cosmos  \n3        Universe        cosmos  \n4           Earth   Blue Planet  ",
      "text/html": "<div>\n<style scoped>\n    .dataframe tbody tr th:only-of-type {\n        vertical-align: middle;\n    }\n\n    .dataframe tbody tr th {\n        vertical-align: top;\n    }\n\n    .dataframe thead th {\n        text-align: right;\n    }\n</style>\n<table border=\"1\" class=\"dataframe\">\n  <thead>\n    <tr style=\"text-align: right;\">\n      <th></th>\n      <th>item_id</th>\n      <th>en_label</th>\n      <th>en_description</th>\n      <th>wikipedia_title</th>\n      <th>en_alias</th>\n    </tr>\n  </thead>\n  <tbody>\n    <tr>\n      <th>0</th>\n      <td>1</td>\n      <td>Universe</td>\n      <td>totality of space and all contents</td>\n      <td>Universe</td>\n      <td>Our Universe</td>\n    </tr>\n    <tr>\n      <th>1</th>\n      <td>1</td>\n      <td>Universe</td>\n      <td>totality of space and all contents</td>\n      <td>Universe</td>\n      <td>The Universe</td>\n    </tr>\n    <tr>\n      <th>2</th>\n      <td>1</td>\n      <td>Universe</td>\n      <td>totality of space and all contents</td>\n      <td>Universe</td>\n      <td>The Cosmos</td>\n    </tr>\n    <tr>\n      <th>3</th>\n      <td>1</td>\n      <td>Universe</td>\n      <td>totality of space and all contents</td>\n      <td>Universe</td>\n      <td>cosmos</td>\n    </tr>\n    <tr>\n      <th>4</th>\n      <td>2</td>\n      <td>Earth</td>\n      <td>third planet from the Sun in the Solar System</td>\n      <td>Earth</td>\n      <td>Blue Planet</td>\n    </tr>\n  </tbody>\n</table>\n</div>"
     },
     "execution_count": 7,
     "metadata": {},
     "output_type": "execute_result"
    }
   ],
   "source": [
    "merged_wiki_items = wiki_items.merge(item_aliases, how='left', on='item_id')\n",
    "merged_wiki_items.head()"
   ],
   "metadata": {
    "collapsed": false,
    "ExecuteTime": {
     "end_time": "2023-11-25T10:21:40.863016300Z",
     "start_time": "2023-11-25T10:21:38.586713700Z"
    }
   },
   "id": "bd280c1982f55afb"
  },
  {
   "cell_type": "code",
   "execution_count": 22,
   "outputs": [],
   "source": [
    "target_tokens = test_df[test_df['wiki_url'] == '?']\n",
    "train_unique = target_tokens['token'].str.lower().unique()"
   ],
   "metadata": {
    "collapsed": false,
    "ExecuteTime": {
     "end_time": "2023-11-25T10:56:37.438386800Z",
     "start_time": "2023-11-25T10:56:37.381676800Z"
    }
   },
   "id": "661b530ecbcb31e8"
  },
  {
   "cell_type": "code",
   "execution_count": 26,
   "outputs": [
    {
     "data": {
      "text/plain": "array(['german', 'british', 'brussels', ..., 'shinichi', 'swe', 'bradley'],\n      dtype=object)"
     },
     "execution_count": 26,
     "metadata": {},
     "output_type": "execute_result"
    }
   ],
   "source": [
    "test_unique = entity_tokens['token'].str.lower().unique()\n",
    "test_unique"
   ],
   "metadata": {
    "collapsed": false,
    "ExecuteTime": {
     "end_time": "2023-11-25T11:08:12.563210200Z",
     "start_time": "2023-11-25T11:08:12.551317Z"
    }
   },
   "id": "c5f0c396bab86d60"
  },
  {
   "cell_type": "code",
   "execution_count": 25,
   "outputs": [
    {
     "data": {
      "text/plain": "array(['1860', 'abel', 'aberdeen', ..., 'zimbabwe', 'zinzan', 'zurich'],\n      dtype=object)"
     },
     "execution_count": 25,
     "metadata": {},
     "output_type": "execute_result"
    }
   ],
   "source": [
    "intersect = np.intersect1d(train_unique, test_unique)\n",
    "intersect"
   ],
   "metadata": {
    "collapsed": false,
    "ExecuteTime": {
     "end_time": "2023-11-25T10:56:41.971089Z",
     "start_time": "2023-11-25T10:56:41.892899200Z"
    }
   },
   "id": "ecfadb62776cdc7d"
  },
  {
   "cell_type": "code",
   "execution_count": 12,
   "outputs": [
    {
     "ename": "KeyboardInterrupt",
     "evalue": "",
     "output_type": "error",
     "traceback": [
      "\u001B[1;31m---------------------------------------------------------------------------\u001B[0m",
      "\u001B[1;31mKeyboardInterrupt\u001B[0m                         Traceback (most recent call last)",
      "File \u001B[1;32m~\\anaconda3\\Lib\\site-packages\\pandas\\core\\apply.py:1076\u001B[0m, in \u001B[0;36mSeriesApply.apply_standard\u001B[1;34m(self)\u001B[0m\n\u001B[0;32m   1075\u001B[0m         values \u001B[38;5;241m=\u001B[39m obj\u001B[38;5;241m.\u001B[39mastype(\u001B[38;5;28mobject\u001B[39m)\u001B[38;5;241m.\u001B[39m_values\n\u001B[1;32m-> 1076\u001B[0m         mapped \u001B[38;5;241m=\u001B[39m lib\u001B[38;5;241m.\u001B[39mmap_infer(\n\u001B[0;32m   1077\u001B[0m             values,\n\u001B[0;32m   1078\u001B[0m             f,\n\u001B[0;32m   1079\u001B[0m             convert\u001B[38;5;241m=\u001B[39m\u001B[38;5;28mself\u001B[39m\u001B[38;5;241m.\u001B[39mconvert_dtype,\n\u001B[0;32m   1080\u001B[0m         )\n\u001B[0;32m   1082\u001B[0m \u001B[38;5;28;01mif\u001B[39;00m \u001B[38;5;28mlen\u001B[39m(mapped) \u001B[38;5;129;01mand\u001B[39;00m \u001B[38;5;28misinstance\u001B[39m(mapped[\u001B[38;5;241m0\u001B[39m], ABCSeries):\n\u001B[0;32m   1083\u001B[0m     \u001B[38;5;66;03m# GH#43986 Need to do list(mapped) in order to get treated as nested\u001B[39;00m\n\u001B[0;32m   1084\u001B[0m     \u001B[38;5;66;03m#  See also GH#25959 regarding EA support\u001B[39;00m\n",
      "File \u001B[1;32m~\\anaconda3\\Lib\\site-packages\\pandas\\_libs\\lib.pyx:2834\u001B[0m, in \u001B[0;36mpandas._libs.lib.map_infer\u001B[1;34m()\u001B[0m\n",
      "Cell \u001B[1;32mIn[12], line 2\u001B[0m, in \u001B[0;36m<lambda>\u001B[1;34m(x)\u001B[0m\n\u001B[0;32m      1\u001B[0m merged_statements \u001B[38;5;241m=\u001B[39m statements\u001B[38;5;241m.\u001B[39mcopy(deep\u001B[38;5;241m=\u001B[39m\u001B[38;5;28;01mTrue\u001B[39;00m)\n\u001B[1;32m----> 2\u001B[0m merged_statements[\u001B[38;5;124m'\u001B[39m\u001B[38;5;124msource_item\u001B[39m\u001B[38;5;124m'\u001B[39m] \u001B[38;5;241m=\u001B[39m merged_statements[\u001B[38;5;124m'\u001B[39m\u001B[38;5;124msource_item_id\u001B[39m\u001B[38;5;124m'\u001B[39m]\u001B[38;5;241m.\u001B[39mapply(\u001B[38;5;28;01mlambda\u001B[39;00m x: wiki_items[wiki_items[\u001B[38;5;124m'\u001B[39m\u001B[38;5;124mitem_id\u001B[39m\u001B[38;5;124m'\u001B[39m] \u001B[38;5;241m==\u001B[39m x][\u001B[38;5;124m'\u001B[39m\u001B[38;5;124mwikipedia_title\u001B[39m\u001B[38;5;124m'\u001B[39m])\n\u001B[0;32m      3\u001B[0m merged_statements[\u001B[38;5;124m'\u001B[39m\u001B[38;5;124mtarget_item\u001B[39m\u001B[38;5;124m'\u001B[39m] \u001B[38;5;241m=\u001B[39m merged_statements[\u001B[38;5;124m'\u001B[39m\u001B[38;5;124mtarget_item_id\u001B[39m\u001B[38;5;124m'\u001B[39m]\u001B[38;5;241m.\u001B[39mapply(\u001B[38;5;28;01mlambda\u001B[39;00m x: wiki_items[wiki_items[\u001B[38;5;124m'\u001B[39m\u001B[38;5;124mitem_id\u001B[39m\u001B[38;5;124m'\u001B[39m] \u001B[38;5;241m==\u001B[39m x][\u001B[38;5;124m'\u001B[39m\u001B[38;5;124mwikipedia_title\u001B[39m\u001B[38;5;124m'\u001B[39m])\n",
      "File \u001B[1;32m~\\anaconda3\\Lib\\site-packages\\pandas\\core\\ops\\common.py:81\u001B[0m, in \u001B[0;36m_unpack_zerodim_and_defer.<locals>.new_method\u001B[1;34m(self, other)\u001B[0m\n\u001B[0;32m     79\u001B[0m other \u001B[38;5;241m=\u001B[39m item_from_zerodim(other)\n\u001B[1;32m---> 81\u001B[0m \u001B[38;5;28;01mreturn\u001B[39;00m method(\u001B[38;5;28mself\u001B[39m, other)\n",
      "File \u001B[1;32m~\\anaconda3\\Lib\\site-packages\\pandas\\core\\arraylike.py:40\u001B[0m, in \u001B[0;36mOpsMixin.__eq__\u001B[1;34m(self, other)\u001B[0m\n\u001B[0;32m     38\u001B[0m \u001B[38;5;129m@unpack_zerodim_and_defer\u001B[39m(\u001B[38;5;124m\"\u001B[39m\u001B[38;5;124m__eq__\u001B[39m\u001B[38;5;124m\"\u001B[39m)\n\u001B[0;32m     39\u001B[0m \u001B[38;5;28;01mdef\u001B[39;00m \u001B[38;5;21m__eq__\u001B[39m(\u001B[38;5;28mself\u001B[39m, other):\n\u001B[1;32m---> 40\u001B[0m     \u001B[38;5;28;01mreturn\u001B[39;00m \u001B[38;5;28mself\u001B[39m\u001B[38;5;241m.\u001B[39m_cmp_method(other, operator\u001B[38;5;241m.\u001B[39meq)\n",
      "File \u001B[1;32m~\\anaconda3\\Lib\\site-packages\\pandas\\core\\series.py:6096\u001B[0m, in \u001B[0;36mSeries._cmp_method\u001B[1;34m(self, other, op)\u001B[0m\n\u001B[0;32m   6095\u001B[0m \u001B[38;5;28;01mwith\u001B[39;00m np\u001B[38;5;241m.\u001B[39merrstate(\u001B[38;5;28mall\u001B[39m\u001B[38;5;241m=\u001B[39m\u001B[38;5;124m\"\u001B[39m\u001B[38;5;124mignore\u001B[39m\u001B[38;5;124m\"\u001B[39m):\n\u001B[1;32m-> 6096\u001B[0m     res_values \u001B[38;5;241m=\u001B[39m ops\u001B[38;5;241m.\u001B[39mcomparison_op(lvalues, rvalues, op)\n\u001B[0;32m   6098\u001B[0m \u001B[38;5;28;01mreturn\u001B[39;00m \u001B[38;5;28mself\u001B[39m\u001B[38;5;241m.\u001B[39m_construct_result(res_values, name\u001B[38;5;241m=\u001B[39mres_name)\n",
      "File \u001B[1;32m~\\anaconda3\\Lib\\site-packages\\pandas\\core\\ops\\array_ops.py:296\u001B[0m, in \u001B[0;36mcomparison_op\u001B[1;34m(left, right, op)\u001B[0m\n\u001B[0;32m    295\u001B[0m \u001B[38;5;28;01melse\u001B[39;00m:\n\u001B[1;32m--> 296\u001B[0m     res_values \u001B[38;5;241m=\u001B[39m _na_arithmetic_op(lvalues, rvalues, op, is_cmp\u001B[38;5;241m=\u001B[39m\u001B[38;5;28;01mTrue\u001B[39;00m)\n\u001B[0;32m    298\u001B[0m \u001B[38;5;28;01mreturn\u001B[39;00m res_values\n",
      "File \u001B[1;32m~\\anaconda3\\Lib\\site-packages\\pandas\\core\\ops\\array_ops.py:171\u001B[0m, in \u001B[0;36m_na_arithmetic_op\u001B[1;34m(left, right, op, is_cmp)\u001B[0m\n\u001B[0;32m    170\u001B[0m \u001B[38;5;28;01mtry\u001B[39;00m:\n\u001B[1;32m--> 171\u001B[0m     result \u001B[38;5;241m=\u001B[39m func(left, right)\n\u001B[0;32m    172\u001B[0m \u001B[38;5;28;01mexcept\u001B[39;00m \u001B[38;5;167;01mTypeError\u001B[39;00m:\n",
      "File \u001B[1;32m~\\anaconda3\\Lib\\site-packages\\pandas\\core\\computation\\expressions.py:239\u001B[0m, in \u001B[0;36mevaluate\u001B[1;34m(op, a, b, use_numexpr)\u001B[0m\n\u001B[0;32m    237\u001B[0m     \u001B[38;5;28;01mif\u001B[39;00m use_numexpr:\n\u001B[0;32m    238\u001B[0m         \u001B[38;5;66;03m# error: \"None\" not callable\u001B[39;00m\n\u001B[1;32m--> 239\u001B[0m         \u001B[38;5;28;01mreturn\u001B[39;00m _evaluate(op, op_str, a, b)  \u001B[38;5;66;03m# type: ignore[misc]\u001B[39;00m\n\u001B[0;32m    240\u001B[0m \u001B[38;5;28;01mreturn\u001B[39;00m _evaluate_standard(op, op_str, a, b)\n",
      "File \u001B[1;32m~\\anaconda3\\Lib\\site-packages\\pandas\\core\\computation\\expressions.py:105\u001B[0m, in \u001B[0;36m_evaluate_numexpr\u001B[1;34m(op, op_str, a, b)\u001B[0m\n\u001B[0;32m    104\u001B[0m \u001B[38;5;28;01mtry\u001B[39;00m:\n\u001B[1;32m--> 105\u001B[0m     result \u001B[38;5;241m=\u001B[39m ne\u001B[38;5;241m.\u001B[39mevaluate(\n\u001B[0;32m    106\u001B[0m         \u001B[38;5;124mf\u001B[39m\u001B[38;5;124m\"\u001B[39m\u001B[38;5;124ma_value \u001B[39m\u001B[38;5;132;01m{\u001B[39;00mop_str\u001B[38;5;132;01m}\u001B[39;00m\u001B[38;5;124m b_value\u001B[39m\u001B[38;5;124m\"\u001B[39m,\n\u001B[0;32m    107\u001B[0m         local_dict\u001B[38;5;241m=\u001B[39m{\u001B[38;5;124m\"\u001B[39m\u001B[38;5;124ma_value\u001B[39m\u001B[38;5;124m\"\u001B[39m: a_value, \u001B[38;5;124m\"\u001B[39m\u001B[38;5;124mb_value\u001B[39m\u001B[38;5;124m\"\u001B[39m: b_value},\n\u001B[0;32m    108\u001B[0m         casting\u001B[38;5;241m=\u001B[39m\u001B[38;5;124m\"\u001B[39m\u001B[38;5;124msafe\u001B[39m\u001B[38;5;124m\"\u001B[39m,\n\u001B[0;32m    109\u001B[0m     )\n\u001B[0;32m    110\u001B[0m \u001B[38;5;28;01mexcept\u001B[39;00m \u001B[38;5;167;01mTypeError\u001B[39;00m:\n\u001B[0;32m    111\u001B[0m     \u001B[38;5;66;03m# numexpr raises eg for array ** array with integers\u001B[39;00m\n\u001B[0;32m    112\u001B[0m     \u001B[38;5;66;03m# (https://github.com/pydata/numexpr/issues/379)\u001B[39;00m\n",
      "File \u001B[1;32m~\\anaconda3\\Lib\\site-packages\\numexpr\\necompiler.py:973\u001B[0m, in \u001B[0;36mevaluate\u001B[1;34m(ex, local_dict, global_dict, out, order, casting, sanitize, _frame_depth, **kwargs)\u001B[0m\n\u001B[0;32m    972\u001B[0m \u001B[38;5;28;01mif\u001B[39;00m e \u001B[38;5;129;01mis\u001B[39;00m \u001B[38;5;28;01mNone\u001B[39;00m:\n\u001B[1;32m--> 973\u001B[0m     \u001B[38;5;28;01mreturn\u001B[39;00m re_evaluate(local_dict\u001B[38;5;241m=\u001B[39mlocal_dict, _frame_depth\u001B[38;5;241m=\u001B[39m_frame_depth)\n\u001B[0;32m    974\u001B[0m \u001B[38;5;28;01melse\u001B[39;00m:\n",
      "File \u001B[1;32m~\\anaconda3\\Lib\\site-packages\\numexpr\\necompiler.py:1004\u001B[0m, in \u001B[0;36mre_evaluate\u001B[1;34m(local_dict, _frame_depth)\u001B[0m\n\u001B[0;32m   1003\u001B[0m \u001B[38;5;28;01mwith\u001B[39;00m evaluate_lock:\n\u001B[1;32m-> 1004\u001B[0m     \u001B[38;5;28;01mreturn\u001B[39;00m compiled_ex(\u001B[38;5;241m*\u001B[39margs, \u001B[38;5;241m*\u001B[39m\u001B[38;5;241m*\u001B[39mkwargs)\n",
      "\u001B[1;31mKeyboardInterrupt\u001B[0m: ",
      "\nDuring handling of the above exception, another exception occurred:\n",
      "\u001B[1;31mKeyboardInterrupt\u001B[0m                         Traceback (most recent call last)",
      "Cell \u001B[1;32mIn[12], line 2\u001B[0m\n\u001B[0;32m      1\u001B[0m merged_statements \u001B[38;5;241m=\u001B[39m statements\u001B[38;5;241m.\u001B[39mcopy(deep\u001B[38;5;241m=\u001B[39m\u001B[38;5;28;01mTrue\u001B[39;00m)\n\u001B[1;32m----> 2\u001B[0m merged_statements[\u001B[38;5;124m'\u001B[39m\u001B[38;5;124msource_item\u001B[39m\u001B[38;5;124m'\u001B[39m] \u001B[38;5;241m=\u001B[39m merged_statements[\u001B[38;5;124m'\u001B[39m\u001B[38;5;124msource_item_id\u001B[39m\u001B[38;5;124m'\u001B[39m]\u001B[38;5;241m.\u001B[39mapply(\u001B[38;5;28;01mlambda\u001B[39;00m x: wiki_items[wiki_items[\u001B[38;5;124m'\u001B[39m\u001B[38;5;124mitem_id\u001B[39m\u001B[38;5;124m'\u001B[39m] \u001B[38;5;241m==\u001B[39m x][\u001B[38;5;124m'\u001B[39m\u001B[38;5;124mwikipedia_title\u001B[39m\u001B[38;5;124m'\u001B[39m])\n\u001B[0;32m      3\u001B[0m merged_statements[\u001B[38;5;124m'\u001B[39m\u001B[38;5;124mtarget_item\u001B[39m\u001B[38;5;124m'\u001B[39m] \u001B[38;5;241m=\u001B[39m merged_statements[\u001B[38;5;124m'\u001B[39m\u001B[38;5;124mtarget_item_id\u001B[39m\u001B[38;5;124m'\u001B[39m]\u001B[38;5;241m.\u001B[39mapply(\u001B[38;5;28;01mlambda\u001B[39;00m x: wiki_items[wiki_items[\u001B[38;5;124m'\u001B[39m\u001B[38;5;124mitem_id\u001B[39m\u001B[38;5;124m'\u001B[39m] \u001B[38;5;241m==\u001B[39m x][\u001B[38;5;124m'\u001B[39m\u001B[38;5;124mwikipedia_title\u001B[39m\u001B[38;5;124m'\u001B[39m])\n\u001B[0;32m      4\u001B[0m merged_statements \u001B[38;5;241m=\u001B[39m merged_statements\u001B[38;5;241m.\u001B[39mmerge(properties, how\u001B[38;5;241m=\u001B[39m\u001B[38;5;124m'\u001B[39m\u001B[38;5;124mleft\u001B[39m\u001B[38;5;124m'\u001B[39m, left_on\u001B[38;5;241m=\u001B[39m\u001B[38;5;124m'\u001B[39m\u001B[38;5;124medge_property_id\u001B[39m\u001B[38;5;124m'\u001B[39m, right_on\u001B[38;5;241m=\u001B[39m\u001B[38;5;124m'\u001B[39m\u001B[38;5;124mproperty_id\u001B[39m\u001B[38;5;124m'\u001B[39m)\n",
      "File \u001B[1;32m~\\anaconda3\\Lib\\site-packages\\pandas\\core\\series.py:4630\u001B[0m, in \u001B[0;36mSeries.apply\u001B[1;34m(self, func, convert_dtype, args, **kwargs)\u001B[0m\n\u001B[0;32m   4520\u001B[0m \u001B[38;5;28;01mdef\u001B[39;00m \u001B[38;5;21mapply\u001B[39m(\n\u001B[0;32m   4521\u001B[0m     \u001B[38;5;28mself\u001B[39m,\n\u001B[0;32m   4522\u001B[0m     func: AggFuncType,\n\u001B[1;32m   (...)\u001B[0m\n\u001B[0;32m   4525\u001B[0m     \u001B[38;5;241m*\u001B[39m\u001B[38;5;241m*\u001B[39mkwargs,\n\u001B[0;32m   4526\u001B[0m ) \u001B[38;5;241m-\u001B[39m\u001B[38;5;241m>\u001B[39m DataFrame \u001B[38;5;241m|\u001B[39m Series:\n\u001B[0;32m   4527\u001B[0m \u001B[38;5;250m    \u001B[39m\u001B[38;5;124;03m\"\"\"\u001B[39;00m\n\u001B[0;32m   4528\u001B[0m \u001B[38;5;124;03m    Invoke function on values of Series.\u001B[39;00m\n\u001B[0;32m   4529\u001B[0m \n\u001B[1;32m   (...)\u001B[0m\n\u001B[0;32m   4628\u001B[0m \u001B[38;5;124;03m    dtype: float64\u001B[39;00m\n\u001B[0;32m   4629\u001B[0m \u001B[38;5;124;03m    \"\"\"\u001B[39;00m\n\u001B[1;32m-> 4630\u001B[0m     \u001B[38;5;28;01mreturn\u001B[39;00m SeriesApply(\u001B[38;5;28mself\u001B[39m, func, convert_dtype, args, kwargs)\u001B[38;5;241m.\u001B[39mapply()\n",
      "File \u001B[1;32m~\\anaconda3\\Lib\\site-packages\\pandas\\core\\apply.py:1025\u001B[0m, in \u001B[0;36mSeriesApply.apply\u001B[1;34m(self)\u001B[0m\n\u001B[0;32m   1022\u001B[0m     \u001B[38;5;28;01mreturn\u001B[39;00m \u001B[38;5;28mself\u001B[39m\u001B[38;5;241m.\u001B[39mapply_str()\n\u001B[0;32m   1024\u001B[0m \u001B[38;5;66;03m# self.f is Callable\u001B[39;00m\n\u001B[1;32m-> 1025\u001B[0m \u001B[38;5;28;01mreturn\u001B[39;00m \u001B[38;5;28mself\u001B[39m\u001B[38;5;241m.\u001B[39mapply_standard()\n",
      "File \u001B[1;32m~\\anaconda3\\Lib\\site-packages\\pandas\\core\\apply.py:1066\u001B[0m, in \u001B[0;36mSeriesApply.apply_standard\u001B[1;34m(self)\u001B[0m\n\u001B[0;32m   1063\u001B[0m f \u001B[38;5;241m=\u001B[39m cast(Callable, \u001B[38;5;28mself\u001B[39m\u001B[38;5;241m.\u001B[39mf)\n\u001B[0;32m   1064\u001B[0m obj \u001B[38;5;241m=\u001B[39m \u001B[38;5;28mself\u001B[39m\u001B[38;5;241m.\u001B[39mobj\n\u001B[1;32m-> 1066\u001B[0m \u001B[38;5;28;01mwith\u001B[39;00m np\u001B[38;5;241m.\u001B[39merrstate(\u001B[38;5;28mall\u001B[39m\u001B[38;5;241m=\u001B[39m\u001B[38;5;124m\"\u001B[39m\u001B[38;5;124mignore\u001B[39m\u001B[38;5;124m\"\u001B[39m):\n\u001B[0;32m   1067\u001B[0m     \u001B[38;5;28;01mif\u001B[39;00m \u001B[38;5;28misinstance\u001B[39m(f, np\u001B[38;5;241m.\u001B[39mufunc):\n\u001B[0;32m   1068\u001B[0m         \u001B[38;5;28;01mreturn\u001B[39;00m f(obj)\n",
      "File \u001B[1;32m~\\anaconda3\\Lib\\site-packages\\numpy\\core\\_ufunc_config.py:436\u001B[0m, in \u001B[0;36merrstate.__exit__\u001B[1;34m(self, *exc_info)\u001B[0m\n\u001B[0;32m    435\u001B[0m \u001B[38;5;28;01mdef\u001B[39;00m \u001B[38;5;21m__exit__\u001B[39m(\u001B[38;5;28mself\u001B[39m, \u001B[38;5;241m*\u001B[39mexc_info):\n\u001B[1;32m--> 436\u001B[0m     seterr(\u001B[38;5;241m*\u001B[39m\u001B[38;5;241m*\u001B[39m\u001B[38;5;28mself\u001B[39m\u001B[38;5;241m.\u001B[39moldstate)\n\u001B[0;32m    437\u001B[0m     \u001B[38;5;28;01mif\u001B[39;00m \u001B[38;5;28mself\u001B[39m\u001B[38;5;241m.\u001B[39mcall \u001B[38;5;129;01mis\u001B[39;00m \u001B[38;5;129;01mnot\u001B[39;00m _Unspecified:\n\u001B[0;32m    438\u001B[0m         seterrcall(\u001B[38;5;28mself\u001B[39m\u001B[38;5;241m.\u001B[39moldcall)\n",
      "File \u001B[1;32m~\\anaconda3\\Lib\\site-packages\\numpy\\core\\_ufunc_config.py:33\u001B[0m, in \u001B[0;36mseterr\u001B[1;34m(all, divide, over, under, invalid)\u001B[0m\n\u001B[0;32m     23\u001B[0m _errdict \u001B[38;5;241m=\u001B[39m {\u001B[38;5;124m\"\u001B[39m\u001B[38;5;124mignore\u001B[39m\u001B[38;5;124m\"\u001B[39m: ERR_IGNORE,\n\u001B[0;32m     24\u001B[0m             \u001B[38;5;124m\"\u001B[39m\u001B[38;5;124mwarn\u001B[39m\u001B[38;5;124m\"\u001B[39m: ERR_WARN,\n\u001B[0;32m     25\u001B[0m             \u001B[38;5;124m\"\u001B[39m\u001B[38;5;124mraise\u001B[39m\u001B[38;5;124m\"\u001B[39m: ERR_RAISE,\n\u001B[0;32m     26\u001B[0m             \u001B[38;5;124m\"\u001B[39m\u001B[38;5;124mcall\u001B[39m\u001B[38;5;124m\"\u001B[39m: ERR_CALL,\n\u001B[0;32m     27\u001B[0m             \u001B[38;5;124m\"\u001B[39m\u001B[38;5;124mprint\u001B[39m\u001B[38;5;124m\"\u001B[39m: ERR_PRINT,\n\u001B[0;32m     28\u001B[0m             \u001B[38;5;124m\"\u001B[39m\u001B[38;5;124mlog\u001B[39m\u001B[38;5;124m\"\u001B[39m: ERR_LOG}\n\u001B[0;32m     30\u001B[0m _errdict_rev \u001B[38;5;241m=\u001B[39m {value: key \u001B[38;5;28;01mfor\u001B[39;00m key, value \u001B[38;5;129;01min\u001B[39;00m _errdict\u001B[38;5;241m.\u001B[39mitems()}\n\u001B[1;32m---> 33\u001B[0m \u001B[38;5;129m@set_module\u001B[39m(\u001B[38;5;124m'\u001B[39m\u001B[38;5;124mnumpy\u001B[39m\u001B[38;5;124m'\u001B[39m)\n\u001B[0;32m     34\u001B[0m \u001B[38;5;28;01mdef\u001B[39;00m \u001B[38;5;21mseterr\u001B[39m(\u001B[38;5;28mall\u001B[39m\u001B[38;5;241m=\u001B[39m\u001B[38;5;28;01mNone\u001B[39;00m, divide\u001B[38;5;241m=\u001B[39m\u001B[38;5;28;01mNone\u001B[39;00m, over\u001B[38;5;241m=\u001B[39m\u001B[38;5;28;01mNone\u001B[39;00m, under\u001B[38;5;241m=\u001B[39m\u001B[38;5;28;01mNone\u001B[39;00m, invalid\u001B[38;5;241m=\u001B[39m\u001B[38;5;28;01mNone\u001B[39;00m):\n\u001B[0;32m     35\u001B[0m \u001B[38;5;250m    \u001B[39m\u001B[38;5;124;03m\"\"\"\u001B[39;00m\n\u001B[0;32m     36\u001B[0m \u001B[38;5;124;03m    Set how floating-point errors are handled.\u001B[39;00m\n\u001B[0;32m     37\u001B[0m \n\u001B[1;32m   (...)\u001B[0m\n\u001B[0;32m    107\u001B[0m \n\u001B[0;32m    108\u001B[0m \u001B[38;5;124;03m    \"\"\"\u001B[39;00m\n\u001B[0;32m    110\u001B[0m     pyvals \u001B[38;5;241m=\u001B[39m umath\u001B[38;5;241m.\u001B[39mgeterrobj()\n",
      "\u001B[1;31mKeyboardInterrupt\u001B[0m: "
     ]
    }
   ],
   "source": [
    "# merged_statements = statements.copy(deep=True)\n",
    "# merged_statements['source_item'] = merged_statements['source_item_id'].apply(lambda x: wiki_items[wiki_items['item_id'] == x]['wikipedia_title'])\n",
    "# merged_statements['target_item'] = merged_statements['target_item_id'].apply(lambda x: wiki_items[wiki_items['item_id'] == x]['wikipedia_title'])\n",
    "# merged_statements = merged_statements.merge(properties, how='left', left_on='edge_property_id', right_on='property_id')\n",
    "# merged_statements.head()"
   ],
   "metadata": {
    "collapsed": false,
    "ExecuteTime": {
     "end_time": "2023-11-25T10:51:14.461433500Z",
     "start_time": "2023-11-25T10:25:28.518880Z"
    }
   },
   "id": "e30f318575e4d1f8"
  }
 ],
 "metadata": {
  "kernelspec": {
   "display_name": "Python 3",
   "language": "python",
   "name": "python3"
  },
  "language_info": {
   "codemirror_mode": {
    "name": "ipython",
    "version": 2
   },
   "file_extension": ".py",
   "mimetype": "text/x-python",
   "name": "python",
   "nbconvert_exporter": "python",
   "pygments_lexer": "ipython2",
   "version": "2.7.6"
  }
 },
 "nbformat": 4,
 "nbformat_minor": 5
}
